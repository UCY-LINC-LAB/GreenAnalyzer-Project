{
 "cells": [
  {
   "cell_type": "code",
   "execution_count": 1,
   "id": "8fd8a5d2-6375-4549-948a-274371572060",
   "metadata": {},
   "outputs": [],
   "source": [
    "from pycaret.regression import *\n",
    "import pandas as pd\n"
   ]
  },
  {
   "cell_type": "code",
   "execution_count": 2,
   "id": "86a0d525-2153-4a45-9762-296e0a510910",
   "metadata": {},
   "outputs": [],
   "source": [
    "compute_node = \"aeros-server\" # aeros-server, aeros-server-2, rpi4, nc11, nc3"
   ]
  },
  {
   "cell_type": "code",
   "execution_count": 3,
   "id": "230d107e-f2db-42bb-98b6-32738519cd8e",
   "metadata": {},
   "outputs": [],
   "source": [
    "df = pd.read_csv(f\"{compute_node}.csv\")"
   ]
  },
  {
   "cell_type": "code",
   "execution_count": 4,
   "id": "a087a034-02ff-493b-8202-330f1d28d28e",
   "metadata": {},
   "outputs": [
    {
     "data": {
      "text/html": [
       "<style type=\"text/css\">\n",
       "#T_3ff98_row8_col1 {\n",
       "  background-color: lightgreen;\n",
       "}\n",
       "</style>\n",
       "<table id=\"T_3ff98\">\n",
       "  <thead>\n",
       "    <tr>\n",
       "      <th class=\"blank level0\" >&nbsp;</th>\n",
       "      <th id=\"T_3ff98_level0_col0\" class=\"col_heading level0 col0\" >Description</th>\n",
       "      <th id=\"T_3ff98_level0_col1\" class=\"col_heading level0 col1\" >Value</th>\n",
       "    </tr>\n",
       "  </thead>\n",
       "  <tbody>\n",
       "    <tr>\n",
       "      <th id=\"T_3ff98_level0_row0\" class=\"row_heading level0 row0\" >0</th>\n",
       "      <td id=\"T_3ff98_row0_col0\" class=\"data row0 col0\" >Session id</td>\n",
       "      <td id=\"T_3ff98_row0_col1\" class=\"data row0 col1\" >7397</td>\n",
       "    </tr>\n",
       "    <tr>\n",
       "      <th id=\"T_3ff98_level0_row1\" class=\"row_heading level0 row1\" >1</th>\n",
       "      <td id=\"T_3ff98_row1_col0\" class=\"data row1 col0\" >Target</td>\n",
       "      <td id=\"T_3ff98_row1_col1\" class=\"data row1 col1\" >power_consumption</td>\n",
       "    </tr>\n",
       "    <tr>\n",
       "      <th id=\"T_3ff98_level0_row2\" class=\"row_heading level0 row2\" >2</th>\n",
       "      <td id=\"T_3ff98_row2_col0\" class=\"data row2 col0\" >Target type</td>\n",
       "      <td id=\"T_3ff98_row2_col1\" class=\"data row2 col1\" >Regression</td>\n",
       "    </tr>\n",
       "    <tr>\n",
       "      <th id=\"T_3ff98_level0_row3\" class=\"row_heading level0 row3\" >3</th>\n",
       "      <td id=\"T_3ff98_row3_col0\" class=\"data row3 col0\" >Original data shape</td>\n",
       "      <td id=\"T_3ff98_row3_col1\" class=\"data row3 col1\" >(154, 2)</td>\n",
       "    </tr>\n",
       "    <tr>\n",
       "      <th id=\"T_3ff98_level0_row4\" class=\"row_heading level0 row4\" >4</th>\n",
       "      <td id=\"T_3ff98_row4_col0\" class=\"data row4 col0\" >Transformed data shape</td>\n",
       "      <td id=\"T_3ff98_row4_col1\" class=\"data row4 col1\" >(154, 2)</td>\n",
       "    </tr>\n",
       "    <tr>\n",
       "      <th id=\"T_3ff98_level0_row5\" class=\"row_heading level0 row5\" >5</th>\n",
       "      <td id=\"T_3ff98_row5_col0\" class=\"data row5 col0\" >Transformed train set shape</td>\n",
       "      <td id=\"T_3ff98_row5_col1\" class=\"data row5 col1\" >(107, 2)</td>\n",
       "    </tr>\n",
       "    <tr>\n",
       "      <th id=\"T_3ff98_level0_row6\" class=\"row_heading level0 row6\" >6</th>\n",
       "      <td id=\"T_3ff98_row6_col0\" class=\"data row6 col0\" >Transformed test set shape</td>\n",
       "      <td id=\"T_3ff98_row6_col1\" class=\"data row6 col1\" >(47, 2)</td>\n",
       "    </tr>\n",
       "    <tr>\n",
       "      <th id=\"T_3ff98_level0_row7\" class=\"row_heading level0 row7\" >7</th>\n",
       "      <td id=\"T_3ff98_row7_col0\" class=\"data row7 col0\" >Numeric features</td>\n",
       "      <td id=\"T_3ff98_row7_col1\" class=\"data row7 col1\" >1</td>\n",
       "    </tr>\n",
       "    <tr>\n",
       "      <th id=\"T_3ff98_level0_row8\" class=\"row_heading level0 row8\" >8</th>\n",
       "      <td id=\"T_3ff98_row8_col0\" class=\"data row8 col0\" >Preprocess</td>\n",
       "      <td id=\"T_3ff98_row8_col1\" class=\"data row8 col1\" >True</td>\n",
       "    </tr>\n",
       "    <tr>\n",
       "      <th id=\"T_3ff98_level0_row9\" class=\"row_heading level0 row9\" >9</th>\n",
       "      <td id=\"T_3ff98_row9_col0\" class=\"data row9 col0\" >Imputation type</td>\n",
       "      <td id=\"T_3ff98_row9_col1\" class=\"data row9 col1\" >simple</td>\n",
       "    </tr>\n",
       "    <tr>\n",
       "      <th id=\"T_3ff98_level0_row10\" class=\"row_heading level0 row10\" >10</th>\n",
       "      <td id=\"T_3ff98_row10_col0\" class=\"data row10 col0\" >Numeric imputation</td>\n",
       "      <td id=\"T_3ff98_row10_col1\" class=\"data row10 col1\" >mean</td>\n",
       "    </tr>\n",
       "    <tr>\n",
       "      <th id=\"T_3ff98_level0_row11\" class=\"row_heading level0 row11\" >11</th>\n",
       "      <td id=\"T_3ff98_row11_col0\" class=\"data row11 col0\" >Categorical imputation</td>\n",
       "      <td id=\"T_3ff98_row11_col1\" class=\"data row11 col1\" >mode</td>\n",
       "    </tr>\n",
       "    <tr>\n",
       "      <th id=\"T_3ff98_level0_row12\" class=\"row_heading level0 row12\" >12</th>\n",
       "      <td id=\"T_3ff98_row12_col0\" class=\"data row12 col0\" >Fold Generator</td>\n",
       "      <td id=\"T_3ff98_row12_col1\" class=\"data row12 col1\" >KFold</td>\n",
       "    </tr>\n",
       "    <tr>\n",
       "      <th id=\"T_3ff98_level0_row13\" class=\"row_heading level0 row13\" >13</th>\n",
       "      <td id=\"T_3ff98_row13_col0\" class=\"data row13 col0\" >Fold Number</td>\n",
       "      <td id=\"T_3ff98_row13_col1\" class=\"data row13 col1\" >10</td>\n",
       "    </tr>\n",
       "    <tr>\n",
       "      <th id=\"T_3ff98_level0_row14\" class=\"row_heading level0 row14\" >14</th>\n",
       "      <td id=\"T_3ff98_row14_col0\" class=\"data row14 col0\" >CPU Jobs</td>\n",
       "      <td id=\"T_3ff98_row14_col1\" class=\"data row14 col1\" >-1</td>\n",
       "    </tr>\n",
       "    <tr>\n",
       "      <th id=\"T_3ff98_level0_row15\" class=\"row_heading level0 row15\" >15</th>\n",
       "      <td id=\"T_3ff98_row15_col0\" class=\"data row15 col0\" >Use GPU</td>\n",
       "      <td id=\"T_3ff98_row15_col1\" class=\"data row15 col1\" >False</td>\n",
       "    </tr>\n",
       "    <tr>\n",
       "      <th id=\"T_3ff98_level0_row16\" class=\"row_heading level0 row16\" >16</th>\n",
       "      <td id=\"T_3ff98_row16_col0\" class=\"data row16 col0\" >Log Experiment</td>\n",
       "      <td id=\"T_3ff98_row16_col1\" class=\"data row16 col1\" >False</td>\n",
       "    </tr>\n",
       "    <tr>\n",
       "      <th id=\"T_3ff98_level0_row17\" class=\"row_heading level0 row17\" >17</th>\n",
       "      <td id=\"T_3ff98_row17_col0\" class=\"data row17 col0\" >Experiment Name</td>\n",
       "      <td id=\"T_3ff98_row17_col1\" class=\"data row17 col1\" >reg-default-name</td>\n",
       "    </tr>\n",
       "    <tr>\n",
       "      <th id=\"T_3ff98_level0_row18\" class=\"row_heading level0 row18\" >18</th>\n",
       "      <td id=\"T_3ff98_row18_col0\" class=\"data row18 col0\" >USI</td>\n",
       "      <td id=\"T_3ff98_row18_col1\" class=\"data row18 col1\" >804d</td>\n",
       "    </tr>\n",
       "  </tbody>\n",
       "</table>\n"
      ],
      "text/plain": [
       "<pandas.io.formats.style.Styler at 0x7f6c63a6a2e0>"
      ]
     },
     "metadata": {},
     "output_type": "display_data"
    }
   ],
   "source": [
    "exp_name = setup(data = df,  target = 'power_consumption')"
   ]
  },
  {
   "cell_type": "code",
   "execution_count": 5,
   "id": "4a1f3b28-6b0f-4fbf-84b2-e122b397d3eb",
   "metadata": {},
   "outputs": [
    {
     "data": {
      "text/html": [],
      "text/plain": [
       "<IPython.core.display.HTML object>"
      ]
     },
     "metadata": {},
     "output_type": "display_data"
    },
    {
     "data": {
      "text/html": [
       "<style type=\"text/css\">\n",
       "#T_6f562_row10_col0, #T_6f562_row10_col1, #T_6f562_row10_col2, #T_6f562_row10_col3, #T_6f562_row10_col4, #T_6f562_row10_col5 {\n",
       "  background: yellow;\n",
       "}\n",
       "</style>\n",
       "<table id=\"T_6f562\">\n",
       "  <thead>\n",
       "    <tr>\n",
       "      <th class=\"blank level0\" >&nbsp;</th>\n",
       "      <th id=\"T_6f562_level0_col0\" class=\"col_heading level0 col0\" >MAE</th>\n",
       "      <th id=\"T_6f562_level0_col1\" class=\"col_heading level0 col1\" >MSE</th>\n",
       "      <th id=\"T_6f562_level0_col2\" class=\"col_heading level0 col2\" >RMSE</th>\n",
       "      <th id=\"T_6f562_level0_col3\" class=\"col_heading level0 col3\" >R2</th>\n",
       "      <th id=\"T_6f562_level0_col4\" class=\"col_heading level0 col4\" >RMSLE</th>\n",
       "      <th id=\"T_6f562_level0_col5\" class=\"col_heading level0 col5\" >MAPE</th>\n",
       "    </tr>\n",
       "    <tr>\n",
       "      <th class=\"index_name level0\" >Fold</th>\n",
       "      <th class=\"blank col0\" >&nbsp;</th>\n",
       "      <th class=\"blank col1\" >&nbsp;</th>\n",
       "      <th class=\"blank col2\" >&nbsp;</th>\n",
       "      <th class=\"blank col3\" >&nbsp;</th>\n",
       "      <th class=\"blank col4\" >&nbsp;</th>\n",
       "      <th class=\"blank col5\" >&nbsp;</th>\n",
       "    </tr>\n",
       "  </thead>\n",
       "  <tbody>\n",
       "    <tr>\n",
       "      <th id=\"T_6f562_level0_row0\" class=\"row_heading level0 row0\" >0</th>\n",
       "      <td id=\"T_6f562_row0_col0\" class=\"data row0 col0\" >1.4400</td>\n",
       "      <td id=\"T_6f562_row0_col1\" class=\"data row0 col1\" >3.7407</td>\n",
       "      <td id=\"T_6f562_row0_col2\" class=\"data row0 col2\" >1.9341</td>\n",
       "      <td id=\"T_6f562_row0_col3\" class=\"data row0 col3\" >0.9891</td>\n",
       "      <td id=\"T_6f562_row0_col4\" class=\"data row0 col4\" >0.0442</td>\n",
       "      <td id=\"T_6f562_row0_col5\" class=\"data row0 col5\" >0.0363</td>\n",
       "    </tr>\n",
       "    <tr>\n",
       "      <th id=\"T_6f562_level0_row1\" class=\"row_heading level0 row1\" >1</th>\n",
       "      <td id=\"T_6f562_row1_col0\" class=\"data row1 col0\" >1.2868</td>\n",
       "      <td id=\"T_6f562_row1_col1\" class=\"data row1 col1\" >4.4068</td>\n",
       "      <td id=\"T_6f562_row1_col2\" class=\"data row1 col2\" >2.0992</td>\n",
       "      <td id=\"T_6f562_row1_col3\" class=\"data row1 col3\" >0.9796</td>\n",
       "      <td id=\"T_6f562_row1_col4\" class=\"data row1 col4\" >0.0577</td>\n",
       "      <td id=\"T_6f562_row1_col5\" class=\"data row1 col5\" >0.0340</td>\n",
       "    </tr>\n",
       "    <tr>\n",
       "      <th id=\"T_6f562_level0_row2\" class=\"row_heading level0 row2\" >2</th>\n",
       "      <td id=\"T_6f562_row2_col0\" class=\"data row2 col0\" >1.5100</td>\n",
       "      <td id=\"T_6f562_row2_col1\" class=\"data row2 col1\" >5.1086</td>\n",
       "      <td id=\"T_6f562_row2_col2\" class=\"data row2 col2\" >2.2602</td>\n",
       "      <td id=\"T_6f562_row2_col3\" class=\"data row2 col3\" >0.9907</td>\n",
       "      <td id=\"T_6f562_row2_col4\" class=\"data row2 col4\" >0.0815</td>\n",
       "      <td id=\"T_6f562_row2_col5\" class=\"data row2 col5\" >0.0568</td>\n",
       "    </tr>\n",
       "    <tr>\n",
       "      <th id=\"T_6f562_level0_row3\" class=\"row_heading level0 row3\" >3</th>\n",
       "      <td id=\"T_6f562_row3_col0\" class=\"data row3 col0\" >1.1193</td>\n",
       "      <td id=\"T_6f562_row3_col1\" class=\"data row3 col1\" >2.2372</td>\n",
       "      <td id=\"T_6f562_row3_col2\" class=\"data row3 col2\" >1.4957</td>\n",
       "      <td id=\"T_6f562_row3_col3\" class=\"data row3 col3\" >0.9942</td>\n",
       "      <td id=\"T_6f562_row3_col4\" class=\"data row3 col4\" >0.0506</td>\n",
       "      <td id=\"T_6f562_row3_col5\" class=\"data row3 col5\" >0.0449</td>\n",
       "    </tr>\n",
       "    <tr>\n",
       "      <th id=\"T_6f562_level0_row4\" class=\"row_heading level0 row4\" >4</th>\n",
       "      <td id=\"T_6f562_row4_col0\" class=\"data row4 col0\" >1.4850</td>\n",
       "      <td id=\"T_6f562_row4_col1\" class=\"data row4 col1\" >4.7034</td>\n",
       "      <td id=\"T_6f562_row4_col2\" class=\"data row4 col2\" >2.1687</td>\n",
       "      <td id=\"T_6f562_row4_col3\" class=\"data row4 col3\" >0.9720</td>\n",
       "      <td id=\"T_6f562_row4_col4\" class=\"data row4 col4\" >0.0428</td>\n",
       "      <td id=\"T_6f562_row4_col5\" class=\"data row4 col5\" >0.0323</td>\n",
       "    </tr>\n",
       "    <tr>\n",
       "      <th id=\"T_6f562_level0_row5\" class=\"row_heading level0 row5\" >5</th>\n",
       "      <td id=\"T_6f562_row5_col0\" class=\"data row5 col0\" >1.1344</td>\n",
       "      <td id=\"T_6f562_row5_col1\" class=\"data row5 col1\" >2.1968</td>\n",
       "      <td id=\"T_6f562_row5_col2\" class=\"data row5 col2\" >1.4822</td>\n",
       "      <td id=\"T_6f562_row5_col3\" class=\"data row5 col3\" >0.9950</td>\n",
       "      <td id=\"T_6f562_row5_col4\" class=\"data row5 col4\" >0.0811</td>\n",
       "      <td id=\"T_6f562_row5_col5\" class=\"data row5 col5\" >0.0605</td>\n",
       "    </tr>\n",
       "    <tr>\n",
       "      <th id=\"T_6f562_level0_row6\" class=\"row_heading level0 row6\" >6</th>\n",
       "      <td id=\"T_6f562_row6_col0\" class=\"data row6 col0\" >0.8587</td>\n",
       "      <td id=\"T_6f562_row6_col1\" class=\"data row6 col1\" >0.8917</td>\n",
       "      <td id=\"T_6f562_row6_col2\" class=\"data row6 col2\" >0.9443</td>\n",
       "      <td id=\"T_6f562_row6_col3\" class=\"data row6 col3\" >0.9957</td>\n",
       "      <td id=\"T_6f562_row6_col4\" class=\"data row6 col4\" >0.0464</td>\n",
       "      <td id=\"T_6f562_row6_col5\" class=\"data row6 col5\" >0.0418</td>\n",
       "    </tr>\n",
       "    <tr>\n",
       "      <th id=\"T_6f562_level0_row7\" class=\"row_heading level0 row7\" >7</th>\n",
       "      <td id=\"T_6f562_row7_col0\" class=\"data row7 col0\" >0.9621</td>\n",
       "      <td id=\"T_6f562_row7_col1\" class=\"data row7 col1\" >1.2843</td>\n",
       "      <td id=\"T_6f562_row7_col2\" class=\"data row7 col2\" >1.1333</td>\n",
       "      <td id=\"T_6f562_row7_col3\" class=\"data row7 col3\" >0.9973</td>\n",
       "      <td id=\"T_6f562_row7_col4\" class=\"data row7 col4\" >0.0814</td>\n",
       "      <td id=\"T_6f562_row7_col5\" class=\"data row7 col5\" >0.0579</td>\n",
       "    </tr>\n",
       "    <tr>\n",
       "      <th id=\"T_6f562_level0_row8\" class=\"row_heading level0 row8\" >8</th>\n",
       "      <td id=\"T_6f562_row8_col0\" class=\"data row8 col0\" >1.5075</td>\n",
       "      <td id=\"T_6f562_row8_col1\" class=\"data row8 col1\" >3.5817</td>\n",
       "      <td id=\"T_6f562_row8_col2\" class=\"data row8 col2\" >1.8925</td>\n",
       "      <td id=\"T_6f562_row8_col3\" class=\"data row8 col3\" >0.9908</td>\n",
       "      <td id=\"T_6f562_row8_col4\" class=\"data row8 col4\" >0.0393</td>\n",
       "      <td id=\"T_6f562_row8_col5\" class=\"data row8 col5\" >0.0367</td>\n",
       "    </tr>\n",
       "    <tr>\n",
       "      <th id=\"T_6f562_level0_row9\" class=\"row_heading level0 row9\" >9</th>\n",
       "      <td id=\"T_6f562_row9_col0\" class=\"data row9 col0\" >0.9053</td>\n",
       "      <td id=\"T_6f562_row9_col1\" class=\"data row9 col1\" >1.2482</td>\n",
       "      <td id=\"T_6f562_row9_col2\" class=\"data row9 col2\" >1.1172</td>\n",
       "      <td id=\"T_6f562_row9_col3\" class=\"data row9 col3\" >0.9913</td>\n",
       "      <td id=\"T_6f562_row9_col4\" class=\"data row9 col4\" >0.0812</td>\n",
       "      <td id=\"T_6f562_row9_col5\" class=\"data row9 col5\" >0.0575</td>\n",
       "    </tr>\n",
       "    <tr>\n",
       "      <th id=\"T_6f562_level0_row10\" class=\"row_heading level0 row10\" >Mean</th>\n",
       "      <td id=\"T_6f562_row10_col0\" class=\"data row10 col0\" >1.2209</td>\n",
       "      <td id=\"T_6f562_row10_col1\" class=\"data row10 col1\" >2.9399</td>\n",
       "      <td id=\"T_6f562_row10_col2\" class=\"data row10 col2\" >1.6528</td>\n",
       "      <td id=\"T_6f562_row10_col3\" class=\"data row10 col3\" >0.9896</td>\n",
       "      <td id=\"T_6f562_row10_col4\" class=\"data row10 col4\" >0.0606</td>\n",
       "      <td id=\"T_6f562_row10_col5\" class=\"data row10 col5\" >0.0459</td>\n",
       "    </tr>\n",
       "    <tr>\n",
       "      <th id=\"T_6f562_level0_row11\" class=\"row_heading level0 row11\" >Std</th>\n",
       "      <td id=\"T_6f562_row11_col0\" class=\"data row11 col0\" >0.2456</td>\n",
       "      <td id=\"T_6f562_row11_col1\" class=\"data row11 col1\" >1.4786</td>\n",
       "      <td id=\"T_6f562_row11_col2\" class=\"data row11 col2\" >0.4565</td>\n",
       "      <td id=\"T_6f562_row11_col3\" class=\"data row11 col3\" >0.0075</td>\n",
       "      <td id=\"T_6f562_row11_col4\" class=\"data row11 col4\" >0.0175</td>\n",
       "      <td id=\"T_6f562_row11_col5\" class=\"data row11 col5\" >0.0107</td>\n",
       "    </tr>\n",
       "  </tbody>\n",
       "</table>\n"
      ],
      "text/plain": [
       "<pandas.io.formats.style.Styler at 0x7f6c63463940>"
      ]
     },
     "metadata": {},
     "output_type": "display_data"
    },
    {
     "data": {
      "text/html": [],
      "text/plain": [
       "<IPython.core.display.HTML object>"
      ]
     },
     "metadata": {},
     "output_type": "display_data"
    }
   ],
   "source": [
    "lr = create_model('lr')"
   ]
  },
  {
   "cell_type": "code",
   "execution_count": 6,
   "id": "d47fd0b1-1de3-4785-8e99-85807c765615",
   "metadata": {},
   "outputs": [
    {
     "data": {
      "text/html": [],
      "text/plain": [
       "<IPython.core.display.HTML object>"
      ]
     },
     "metadata": {},
     "output_type": "display_data"
    },
    {
     "data": {
      "text/html": [
       "<style type=\"text/css\">\n",
       "#T_f8178_row10_col0, #T_f8178_row10_col1, #T_f8178_row10_col2, #T_f8178_row10_col3, #T_f8178_row10_col4, #T_f8178_row10_col5 {\n",
       "  background: yellow;\n",
       "}\n",
       "</style>\n",
       "<table id=\"T_f8178\">\n",
       "  <thead>\n",
       "    <tr>\n",
       "      <th class=\"blank level0\" >&nbsp;</th>\n",
       "      <th id=\"T_f8178_level0_col0\" class=\"col_heading level0 col0\" >MAE</th>\n",
       "      <th id=\"T_f8178_level0_col1\" class=\"col_heading level0 col1\" >MSE</th>\n",
       "      <th id=\"T_f8178_level0_col2\" class=\"col_heading level0 col2\" >RMSE</th>\n",
       "      <th id=\"T_f8178_level0_col3\" class=\"col_heading level0 col3\" >R2</th>\n",
       "      <th id=\"T_f8178_level0_col4\" class=\"col_heading level0 col4\" >RMSLE</th>\n",
       "      <th id=\"T_f8178_level0_col5\" class=\"col_heading level0 col5\" >MAPE</th>\n",
       "    </tr>\n",
       "    <tr>\n",
       "      <th class=\"index_name level0\" >Fold</th>\n",
       "      <th class=\"blank col0\" >&nbsp;</th>\n",
       "      <th class=\"blank col1\" >&nbsp;</th>\n",
       "      <th class=\"blank col2\" >&nbsp;</th>\n",
       "      <th class=\"blank col3\" >&nbsp;</th>\n",
       "      <th class=\"blank col4\" >&nbsp;</th>\n",
       "      <th class=\"blank col5\" >&nbsp;</th>\n",
       "    </tr>\n",
       "  </thead>\n",
       "  <tbody>\n",
       "    <tr>\n",
       "      <th id=\"T_f8178_level0_row0\" class=\"row_heading level0 row0\" >0</th>\n",
       "      <td id=\"T_f8178_row0_col0\" class=\"data row0 col0\" >1.4400</td>\n",
       "      <td id=\"T_f8178_row0_col1\" class=\"data row0 col1\" >3.7407</td>\n",
       "      <td id=\"T_f8178_row0_col2\" class=\"data row0 col2\" >1.9341</td>\n",
       "      <td id=\"T_f8178_row0_col3\" class=\"data row0 col3\" >0.9891</td>\n",
       "      <td id=\"T_f8178_row0_col4\" class=\"data row0 col4\" >0.0442</td>\n",
       "      <td id=\"T_f8178_row0_col5\" class=\"data row0 col5\" >0.0363</td>\n",
       "    </tr>\n",
       "    <tr>\n",
       "      <th id=\"T_f8178_level0_row1\" class=\"row_heading level0 row1\" >1</th>\n",
       "      <td id=\"T_f8178_row1_col0\" class=\"data row1 col0\" >1.2868</td>\n",
       "      <td id=\"T_f8178_row1_col1\" class=\"data row1 col1\" >4.4068</td>\n",
       "      <td id=\"T_f8178_row1_col2\" class=\"data row1 col2\" >2.0992</td>\n",
       "      <td id=\"T_f8178_row1_col3\" class=\"data row1 col3\" >0.9796</td>\n",
       "      <td id=\"T_f8178_row1_col4\" class=\"data row1 col4\" >0.0577</td>\n",
       "      <td id=\"T_f8178_row1_col5\" class=\"data row1 col5\" >0.0340</td>\n",
       "    </tr>\n",
       "    <tr>\n",
       "      <th id=\"T_f8178_level0_row2\" class=\"row_heading level0 row2\" >2</th>\n",
       "      <td id=\"T_f8178_row2_col0\" class=\"data row2 col0\" >1.5100</td>\n",
       "      <td id=\"T_f8178_row2_col1\" class=\"data row2 col1\" >5.1086</td>\n",
       "      <td id=\"T_f8178_row2_col2\" class=\"data row2 col2\" >2.2602</td>\n",
       "      <td id=\"T_f8178_row2_col3\" class=\"data row2 col3\" >0.9907</td>\n",
       "      <td id=\"T_f8178_row2_col4\" class=\"data row2 col4\" >0.0815</td>\n",
       "      <td id=\"T_f8178_row2_col5\" class=\"data row2 col5\" >0.0568</td>\n",
       "    </tr>\n",
       "    <tr>\n",
       "      <th id=\"T_f8178_level0_row3\" class=\"row_heading level0 row3\" >3</th>\n",
       "      <td id=\"T_f8178_row3_col0\" class=\"data row3 col0\" >1.1193</td>\n",
       "      <td id=\"T_f8178_row3_col1\" class=\"data row3 col1\" >2.2372</td>\n",
       "      <td id=\"T_f8178_row3_col2\" class=\"data row3 col2\" >1.4957</td>\n",
       "      <td id=\"T_f8178_row3_col3\" class=\"data row3 col3\" >0.9942</td>\n",
       "      <td id=\"T_f8178_row3_col4\" class=\"data row3 col4\" >0.0506</td>\n",
       "      <td id=\"T_f8178_row3_col5\" class=\"data row3 col5\" >0.0449</td>\n",
       "    </tr>\n",
       "    <tr>\n",
       "      <th id=\"T_f8178_level0_row4\" class=\"row_heading level0 row4\" >4</th>\n",
       "      <td id=\"T_f8178_row4_col0\" class=\"data row4 col0\" >1.4850</td>\n",
       "      <td id=\"T_f8178_row4_col1\" class=\"data row4 col1\" >4.7034</td>\n",
       "      <td id=\"T_f8178_row4_col2\" class=\"data row4 col2\" >2.1687</td>\n",
       "      <td id=\"T_f8178_row4_col3\" class=\"data row4 col3\" >0.9720</td>\n",
       "      <td id=\"T_f8178_row4_col4\" class=\"data row4 col4\" >0.0428</td>\n",
       "      <td id=\"T_f8178_row4_col5\" class=\"data row4 col5\" >0.0323</td>\n",
       "    </tr>\n",
       "    <tr>\n",
       "      <th id=\"T_f8178_level0_row5\" class=\"row_heading level0 row5\" >5</th>\n",
       "      <td id=\"T_f8178_row5_col0\" class=\"data row5 col0\" >1.1344</td>\n",
       "      <td id=\"T_f8178_row5_col1\" class=\"data row5 col1\" >2.1968</td>\n",
       "      <td id=\"T_f8178_row5_col2\" class=\"data row5 col2\" >1.4822</td>\n",
       "      <td id=\"T_f8178_row5_col3\" class=\"data row5 col3\" >0.9950</td>\n",
       "      <td id=\"T_f8178_row5_col4\" class=\"data row5 col4\" >0.0811</td>\n",
       "      <td id=\"T_f8178_row5_col5\" class=\"data row5 col5\" >0.0605</td>\n",
       "    </tr>\n",
       "    <tr>\n",
       "      <th id=\"T_f8178_level0_row6\" class=\"row_heading level0 row6\" >6</th>\n",
       "      <td id=\"T_f8178_row6_col0\" class=\"data row6 col0\" >0.8587</td>\n",
       "      <td id=\"T_f8178_row6_col1\" class=\"data row6 col1\" >0.8917</td>\n",
       "      <td id=\"T_f8178_row6_col2\" class=\"data row6 col2\" >0.9443</td>\n",
       "      <td id=\"T_f8178_row6_col3\" class=\"data row6 col3\" >0.9957</td>\n",
       "      <td id=\"T_f8178_row6_col4\" class=\"data row6 col4\" >0.0464</td>\n",
       "      <td id=\"T_f8178_row6_col5\" class=\"data row6 col5\" >0.0418</td>\n",
       "    </tr>\n",
       "    <tr>\n",
       "      <th id=\"T_f8178_level0_row7\" class=\"row_heading level0 row7\" >7</th>\n",
       "      <td id=\"T_f8178_row7_col0\" class=\"data row7 col0\" >0.9621</td>\n",
       "      <td id=\"T_f8178_row7_col1\" class=\"data row7 col1\" >1.2843</td>\n",
       "      <td id=\"T_f8178_row7_col2\" class=\"data row7 col2\" >1.1333</td>\n",
       "      <td id=\"T_f8178_row7_col3\" class=\"data row7 col3\" >0.9973</td>\n",
       "      <td id=\"T_f8178_row7_col4\" class=\"data row7 col4\" >0.0814</td>\n",
       "      <td id=\"T_f8178_row7_col5\" class=\"data row7 col5\" >0.0579</td>\n",
       "    </tr>\n",
       "    <tr>\n",
       "      <th id=\"T_f8178_level0_row8\" class=\"row_heading level0 row8\" >8</th>\n",
       "      <td id=\"T_f8178_row8_col0\" class=\"data row8 col0\" >1.5075</td>\n",
       "      <td id=\"T_f8178_row8_col1\" class=\"data row8 col1\" >3.5817</td>\n",
       "      <td id=\"T_f8178_row8_col2\" class=\"data row8 col2\" >1.8925</td>\n",
       "      <td id=\"T_f8178_row8_col3\" class=\"data row8 col3\" >0.9908</td>\n",
       "      <td id=\"T_f8178_row8_col4\" class=\"data row8 col4\" >0.0393</td>\n",
       "      <td id=\"T_f8178_row8_col5\" class=\"data row8 col5\" >0.0367</td>\n",
       "    </tr>\n",
       "    <tr>\n",
       "      <th id=\"T_f8178_level0_row9\" class=\"row_heading level0 row9\" >9</th>\n",
       "      <td id=\"T_f8178_row9_col0\" class=\"data row9 col0\" >0.9053</td>\n",
       "      <td id=\"T_f8178_row9_col1\" class=\"data row9 col1\" >1.2482</td>\n",
       "      <td id=\"T_f8178_row9_col2\" class=\"data row9 col2\" >1.1172</td>\n",
       "      <td id=\"T_f8178_row9_col3\" class=\"data row9 col3\" >0.9913</td>\n",
       "      <td id=\"T_f8178_row9_col4\" class=\"data row9 col4\" >0.0812</td>\n",
       "      <td id=\"T_f8178_row9_col5\" class=\"data row9 col5\" >0.0575</td>\n",
       "    </tr>\n",
       "    <tr>\n",
       "      <th id=\"T_f8178_level0_row10\" class=\"row_heading level0 row10\" >Mean</th>\n",
       "      <td id=\"T_f8178_row10_col0\" class=\"data row10 col0\" >1.2209</td>\n",
       "      <td id=\"T_f8178_row10_col1\" class=\"data row10 col1\" >2.9399</td>\n",
       "      <td id=\"T_f8178_row10_col2\" class=\"data row10 col2\" >1.6528</td>\n",
       "      <td id=\"T_f8178_row10_col3\" class=\"data row10 col3\" >0.9896</td>\n",
       "      <td id=\"T_f8178_row10_col4\" class=\"data row10 col4\" >0.0606</td>\n",
       "      <td id=\"T_f8178_row10_col5\" class=\"data row10 col5\" >0.0459</td>\n",
       "    </tr>\n",
       "    <tr>\n",
       "      <th id=\"T_f8178_level0_row11\" class=\"row_heading level0 row11\" >Std</th>\n",
       "      <td id=\"T_f8178_row11_col0\" class=\"data row11 col0\" >0.2456</td>\n",
       "      <td id=\"T_f8178_row11_col1\" class=\"data row11 col1\" >1.4786</td>\n",
       "      <td id=\"T_f8178_row11_col2\" class=\"data row11 col2\" >0.4565</td>\n",
       "      <td id=\"T_f8178_row11_col3\" class=\"data row11 col3\" >0.0075</td>\n",
       "      <td id=\"T_f8178_row11_col4\" class=\"data row11 col4\" >0.0175</td>\n",
       "      <td id=\"T_f8178_row11_col5\" class=\"data row11 col5\" >0.0107</td>\n",
       "    </tr>\n",
       "  </tbody>\n",
       "</table>\n"
      ],
      "text/plain": [
       "<pandas.io.formats.style.Styler at 0x7f6c69105ac0>"
      ]
     },
     "metadata": {},
     "output_type": "display_data"
    },
    {
     "data": {
      "text/html": [],
      "text/plain": [
       "<IPython.core.display.HTML object>"
      ]
     },
     "metadata": {},
     "output_type": "display_data"
    },
    {
     "name": "stdout",
     "output_type": "stream",
     "text": [
      "Fitting 10 folds for each of 2 candidates, totalling 20 fits\n",
      "Original model was better than the tuned model, hence it will be returned. NOTE: The display metrics are for the tuned model (not the original one).\n"
     ]
    }
   ],
   "source": [
    "lr = tune_model(lr)"
   ]
  },
  {
   "cell_type": "code",
   "execution_count": 7,
   "id": "2736e093-441e-47b6-b4c4-a358d01b28ec",
   "metadata": {},
   "outputs": [
    {
     "data": {
      "text/plain": [
       "7.2282412063038635"
      ]
     },
     "execution_count": 7,
     "metadata": {},
     "output_type": "execute_result"
    }
   ],
   "source": [
    "lr.intercept_"
   ]
  },
  {
   "cell_type": "code",
   "execution_count": 8,
   "id": "a9292d27-365d-49bb-8ba3-b17f98e71578",
   "metadata": {},
   "outputs": [
    {
     "data": {
      "text/plain": [
       "0.6094280957085305"
      ]
     },
     "execution_count": 8,
     "metadata": {},
     "output_type": "execute_result"
    }
   ],
   "source": [
    "lr.coef_[0]"
   ]
  },
  {
   "cell_type": "code",
   "execution_count": 9,
   "id": "b7a2d030-a4b8-44a8-8516-87ef7923eecf",
   "metadata": {},
   "outputs": [
    {
     "data": {
      "text/html": [],
      "text/plain": [
       "<IPython.core.display.HTML object>"
      ]
     },
     "metadata": {},
     "output_type": "display_data"
    },
    {
     "data": {
      "image/png": "[encoded data removed]",
      "text/plain": [
       "<Figure size 432x288 with 1 Axes>"
      ]
     },
     "metadata": {
      "needs_background": "light"
     },
     "output_type": "display_data"
    }
   ],
   "source": [
    "plot_model(lr, 'error')"
   ]
  }
 ],
 "metadata": {
  "kernelspec": {
   "display_name": "Python 3 (ipykernel)",
   "language": "python",
   "name": "python3"
  },
  "language_info": {
   "codemirror_mode": {
    "name": "ipython",
    "version": 3
   },
   "file_extension": ".py",
   "mimetype": "text/x-python",
   "name": "python",
   "nbconvert_exporter": "python",
   "pygments_lexer": "ipython3",
   "version": "3.9.16"
  }
 },
 "nbformat": 4,
 "nbformat_minor": 5
}
