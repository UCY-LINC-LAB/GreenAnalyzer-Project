{
 "cells": [
  {
   "cell_type": "code",
   "execution_count": 1,
   "id": "14ff47a5-d0ee-4756-8e10-f7cb6fdb10e9",
   "metadata": {},
   "outputs": [],
   "source": [
    "import pandas as pd"
   ]
  },
  {
   "cell_type": "code",
   "execution_count": 2,
   "id": "d9770a7e-77b9-4def-8646-15d441ee37ff",
   "metadata": {},
   "outputs": [],
   "source": [
    "\n",
    "dfs = dict(\n",
    "    rounds200_pytorch_mnist = pd.read_csv(\"data/executions/200rounds_pytorch-with-stress-at-036.csv\"),\n",
    "    rounds50_pytorch_cifar = pd.read_csv(\"data/executions/50rounds_pytorch-cifar10.csv\"),\n",
    "    rounds50_tensorflow_cifar = pd.read_csv(\"data/executions/50rounds_tensorflow-cifar10.csv\"),\n",
    "    rounds50_tensorflow_mnist = pd.read_csv(\"data/executions/50rounds_tensorflow-mnist.csv\"),\n",
    "    rounds50_pytorch_mnist = pd.read_csv(\"data/executions/50rounds_pytorch-mnist.csv\"),\n",
    ")\n"
   ]
  },
  {
   "cell_type": "code",
   "execution_count": 3,
   "id": "689432d0-3b20-4353-9ea0-3383d5f632e2",
   "metadata": {},
   "outputs": [],
   "source": [
    "selected_nodes = [ 10, 12, 13, 16, 22, 25, 30,  6, 35, 5]\n",
    "nodes = [f\"aeros1-compute0{i}\" if i>=10 else f\"aeros1-compute00{i}\" for i in selected_nodes] "
   ]
  },
  {
   "cell_type": "code",
   "execution_count": 4,
   "id": "1e27aba2-a4ce-4bf4-9347-0eaffd781ab8",
   "metadata": {},
   "outputs": [
    {
     "name": "stderr",
     "output_type": "stream",
     "text": [
      "/tmp/ipykernel_49662/161976504.py:6: FutureWarning: The frame.append method is deprecated and will be removed from pandas in a future version. Use pandas.concat instead.\n",
      "  overall = overall.append(df)\n",
      "/tmp/ipykernel_49662/161976504.py:6: FutureWarning: The frame.append method is deprecated and will be removed from pandas in a future version. Use pandas.concat instead.\n",
      "  overall = overall.append(df)\n",
      "/tmp/ipykernel_49662/161976504.py:6: FutureWarning: The frame.append method is deprecated and will be removed from pandas in a future version. Use pandas.concat instead.\n",
      "  overall = overall.append(df)\n"
     ]
    }
   ],
   "source": [
    "overall = None\n",
    "for _, df in dfs.items():\n",
    "    if overall is None:\n",
    "        overall = df.copy()\n",
    "    else:\n",
    "        overall = overall.append(df)"
   ]
  },
  {
   "cell_type": "code",
   "execution_count": 5,
   "id": "cbeaa6ca-9dd1-48b4-81ce-3075ba5c6ec6",
   "metadata": {},
   "outputs": [],
   "source": [
    "overall = overall[overall.hostname.isin(nodes)]"
   ]
  },
  {
   "cell_type": "code",
   "execution_count": 6,
   "id": "9cd789d6-7a51-4e78-aab3-e093359f394a",
   "metadata": {},
   "outputs": [],
   "source": [
    "overall[\"prediction\"] = overall.currentCpuUsage*0.5882581301383137 + 8.731840416214968"
   ]
  },
  {
   "cell_type": "code",
   "execution_count": 7,
   "id": "90de3278-6aad-448f-b10c-5d5ef36cbd4a",
   "metadata": {},
   "outputs": [],
   "source": [
    "overall.to_csv(\"all_trials.csv\")"
   ]
  },
  {
   "cell_type": "code",
   "execution_count": 8,
   "id": "5f8b8933-2f76-4f73-a6e2-1bcd0bc281ec",
   "metadata": {},
   "outputs": [
    {
     "data": {
      "text/plain": [
       "0.5114535657161606"
      ]
     },
     "execution_count": 8,
     "metadata": {},
     "output_type": "execute_result"
    }
   ],
   "source": [
    "overall[\"error\"] = (overall[\"prediction\"] - overall[\"currentPowerConsumption\"])/overall[\"currentPowerConsumption\"]\n",
    "overall[\"error\"] = overall[\"error\"].abs()\n",
    "overall[\"error\"].mean()"
   ]
  },
  {
   "cell_type": "code",
   "execution_count": 11,
   "id": "76fd4dec-dfc3-4298-92d6-d1e3c38bc01f",
   "metadata": {},
   "outputs": [],
   "source": [
    "for _, df in dfs.items():\n",
    "    df[\"timestamp\"] = pd.to_datetime(df[\"timestamp\"])"
   ]
  },
  {
   "cell_type": "code",
   "execution_count": 12,
   "id": "ce22c55b-82f3-4aeb-80e7-ee71192a5c56",
   "metadata": {},
   "outputs": [],
   "source": [
    "\n",
    "duration_and_power = []\n",
    "for key, df in dfs.items():\n",
    "    duration_and_power.append(\n",
    "        dict(\n",
    "            name = key, \n",
    "            duration = (df.timestamp.max() - df.timestamp.min()).seconds,\n",
    "            power_consumption = df[df.hostname.isin(nodes)].groupby(\"hostname\").currentPowerConsumption.mean().mean(),\n",
    "            cpu_usage = df[df.hostname.isin(nodes)].groupby(\"hostname\").currentCpuUsage.mean().mean(),\n",
    "            energy = df[df.hostname.isin(nodes)].groupby(\"hostname\").currentPowerConsumption.sum().sum()\n",
    "\n",
    "        )\n",
    "    )\n",
    "    \n",
    "    "
   ]
  },
  {
   "cell_type": "code",
   "execution_count": 13,
   "id": "53c879cd-d9d0-4b4f-8cd2-dd4bd957fe3a",
   "metadata": {},
   "outputs": [
    {
     "data": {
      "text/plain": [
       "<AxesSubplot:title={'center':'Duration'}, xlabel='Experiment', ylabel='Seconds'>"
      ]
     },
     "execution_count": 13,
     "metadata": {},
     "output_type": "execute_result"
    },
    {
     "data": {
      "image/png": "[encoded data removed]",
      "text/plain": [
       "<Figure size 432x288 with 1 Axes>"
      ]
     },
     "metadata": {
      "needs_background": "light"
     },
     "output_type": "display_data"
    }
   ],
   "source": [
    "temp_df = pd.DataFrame(duration_and_power)[[\"name\", \"duration\"]]\n",
    "temp_df = temp_df.sort_values(\"name\")\n",
    "temp_df[\"Experiment\"] = temp_df[\"name\"].str.replace(\"_\", \"\\n\").str.title()\n",
    "temp_df.plot.bar(x=\"Experiment\", rot=0, ylabel=\"Seconds\", legend = False, title=\"Duration\")"
   ]
  },
  {
   "cell_type": "code",
   "execution_count": 14,
   "id": "cc97da94-4c21-4c0a-9d69-551af48fa153",
   "metadata": {},
   "outputs": [
    {
     "data": {
      "text/plain": [
       "<AxesSubplot:title={'center':'Current Power Needs'}, xlabel='Experiment', ylabel='Watts'>"
      ]
     },
     "execution_count": 14,
     "metadata": {},
     "output_type": "execute_result"
    },
    {
     "data": {
      "image/png": "[encoded data removed]",
      "text/plain": [
       "<Figure size 432x288 with 1 Axes>"
      ]
     },
     "metadata": {
      "needs_background": "light"
     },
     "output_type": "display_data"
    }
   ],
   "source": [
    "temp_df = pd.DataFrame(duration_and_power)[[\"name\", \"power_consumption\"]]\n",
    "temp_df = temp_df.sort_values(\"name\")\n",
    "temp_df[\"Experiment\"] = temp_df[\"name\"].str.replace(\"_\", \"\\n\").str.title()\n",
    "temp_df.plot.bar(x=\"Experiment\", rot=0, ylabel=\"Watts\", legend = False, title=\"Current Power Needs\")"
   ]
  },
  {
   "cell_type": "code",
   "execution_count": 15,
   "id": "edfbced6-679e-4a1e-9bf0-ed0b321aae13",
   "metadata": {},
   "outputs": [
    {
     "data": {
      "text/plain": [
       "<AxesSubplot:title={'center':'Energy Consumption'}, xlabel='Experiment', ylabel='Joules'>"
      ]
     },
     "execution_count": 15,
     "metadata": {},
     "output_type": "execute_result"
    },
    {
     "data": {
      "image/png": "[encoded data removed]",
      "text/plain": [
       "<Figure size 432x288 with 1 Axes>"
      ]
     },
     "metadata": {
      "needs_background": "light"
     },
     "output_type": "display_data"
    }
   ],
   "source": [
    "temp_df = pd.DataFrame(duration_and_power)[[\"name\", \"duration\", \"power_consumption\"]]\n",
    "temp_df = temp_df.sort_values(\"name\")\n",
    "temp_df[\"Energy\"] = temp_df[\"duration\"] * temp_df[\"power_consumption\"]\n",
    "temp_df[\"Experiment\"] = temp_df[\"name\"].str.replace(\"_\", \"\\n\").str.title()\n",
    "temp_df[[\"Experiment\", \"Energy\"]].plot.bar(x=\"Experiment\", rot=0, ylabel=\"Joules\", legend = False, title=\"Energy Consumption\")"
   ]
  },
  {
   "cell_type": "code",
   "execution_count": 16,
   "id": "e9b7151c-46c8-4b35-870c-d0820ebf8996",
   "metadata": {},
   "outputs": [
    {
     "data": {
      "text/plain": [
       "<AxesSubplot:title={'center':'Average CPU Usage'}, xlabel='Experiment', ylabel='CPU utilization (%)'>"
      ]
     },
     "execution_count": 16,
     "metadata": {},
     "output_type": "execute_result"
    },
    {
     "data": {
      "image/png": "[encoded data removed]",
      "text/plain": [
       "<Figure size 432x288 with 1 Axes>"
      ]
     },
     "metadata": {
      "needs_background": "light"
     },
     "output_type": "display_data"
    }
   ],
   "source": [
    "temp_df = pd.DataFrame(duration_and_power)[[\"name\", \"duration\", \"cpu_usage\"]]\n",
    "temp_df = temp_df.sort_values(\"name\")\n",
    "temp_df[\"Experiment\"] = temp_df[\"name\"].str.replace(\"_\", \"\\n\").str.title()\n",
    "temp_df[[\"Experiment\", \"cpu_usage\"]].plot.bar(x=\"Experiment\", rot=0, ylabel=\"CPU utilization (%)\", legend = False, title=\"Average CPU Usage\")"
   ]
  }
 ],
 "metadata": {
  "kernelspec": {
   "display_name": "Python 3 (ipykernel)",
   "language": "python",
   "name": "python3"
  },
  "language_info": {
   "codemirror_mode": {
    "name": "ipython",
    "version": 3
   },
   "file_extension": ".py",
   "mimetype": "text/x-python",
   "name": "python",
   "nbconvert_exporter": "python",
   "pygments_lexer": "ipython3",
   "version": "3.9.16"
  }
 },
 "nbformat": 4,
 "nbformat_minor": 5
}
