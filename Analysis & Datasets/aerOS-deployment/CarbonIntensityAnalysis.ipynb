{
 "cells": [
  {
   "cell_type": "code",
   "execution_count": 1,
   "id": "68aef3cd-d905-4cb5-b580-1e965f637f2a",
   "metadata": {},
   "outputs": [],
   "source": [
    "import pandas as pd"
   ]
  },
  {
   "cell_type": "code",
   "execution_count": 2,
   "id": "b9d743ed-76d6-48fe-8f52-ee1e39f6f75e",
   "metadata": {},
   "outputs": [],
   "source": [
    "# Deactivate logging for visibility reasons\n",
    "import logging\n",
    "logger = logging.getLogger()\n",
    "logger.setLevel(logging.CRITICAL)"
   ]
  },
  {
   "cell_type": "code",
   "execution_count": 20,
   "id": "f3daf3ff-306b-484d-a8bf-ce0783dfe410",
   "metadata": {},
   "outputs": [],
   "source": [
    "# Read the datasets\n",
    "df_inverters = None\n",
    "for i in [\"1\", \"2\", \"3\", \"1-lodz\", \"2-lodz\", \"3-lodz\"]:\n",
    "    inverter_data = pd.read_json(f\"data/carbon-intensity/inverter{i}.json\")\n",
    "    inverter_data.columns = [\"date\", f\"inverter{i}\"]\n",
    "    if df_inverters is None:\n",
    "        df_inverters = inverter_data\n",
    "    else:\n",
    "        df_inverters = df_inverters.merge(inverter_data, left_on=\"date\", right_on=\"date\")\n",
    "df_inverters = df_inverters.set_index(\"date\")\n",
    "\n",
    "# remove unexpected low values\n",
    "df_inverters = df_inverters.applymap(lambda x: 0 if x<50 else x)\n",
    "\n",
    "# combine datasets with carbon emissions and energy mix\n",
    "carbon_emissions = pd.read_json(\"data/carbon-intensity/energy-mix.json\")\n",
    "carbon_intensity = pd.DataFrame({\n",
    "    \"date\": pd.to_datetime(carbon_emissions[\"pv\"].apply(lambda x: x[\"index\"])), \n",
    "    \"pv\": carbon_emissions[\"pv\"].apply(lambda x: x[\"pred\"]),\n",
    "    \"wind\": carbon_emissions[\"wind\"].apply(lambda x: x[\"pred\"]),\n",
    "    \"total\": carbon_emissions[\"total\"].apply(lambda x: x[\"pred\"])\n",
    "})\n",
    "\n",
    "# Recompute carbon intensity for Poland\n",
    "carbon_intensity[\"brown\"] = carbon_intensity[\"total\"] - carbon_intensity[\"pv\"] - carbon_intensity[\"wind\"]\n",
    "carbon_intensity[\"carbon_intensity\"] = (1139*0.8*carbon_intensity[\"brown\"] + 529*0.2*carbon_intensity[\"brown\"]+35*carbon_intensity[\"pv\"]+13*carbon_intensity[\"wind\"])/carbon_intensity[\"total\"]\n",
    "carbon_intensity = carbon_intensity.set_index(\"date\")\n",
    "\n",
    "# Combine carbon intensity with inverters\n",
    "emissions_df = df_inverters.merge(carbon_intensity, left_index=True, right_index=True)\n",
    "emissions_df = emissions_df.reset_index()\n",
    "\n",
    "# Compute the seconds of running for the simulation\n",
    "emissions_df[\"seconds\"] = emissions_df.index * 60*60\n",
    "emissions_df[\"prediction\"] = emissions_df[[\"inverter1\", \"inverter2\", \"inverter3\", \"inverter1-lodz\", \"inverter2-lodz\", \"inverter3-lodz\"]].mean(axis=1)\n",
    "\n",
    "# Sort to low-level emission periods for the scheduling\n",
    "ordered_emissions = emissions_df.sort_values(['prediction', 'carbon_intensity'], ascending=[False, True])"
   ]
  },
  {
   "cell_type": "code",
   "execution_count": 4,
   "id": "0f01c895-a20a-4e2a-a647-4f8a3677ccfc",
   "metadata": {},
   "outputs": [],
   "source": [
    "from simulation import * \n",
    "# import code of simulation functions"
   ]
  },
  {
   "cell_type": "code",
   "execution_count": 5,
   "id": "51ee4d64-9c9a-4265-8a64-a30d86b52382",
   "metadata": {},
   "outputs": [],
   "source": [
    "import random\n",
    "\n",
    "trials = [\"50rounds_tensorflow-cifar10\", \"50rounds_pytorch-cifar10\", \"50rounds_pytorch-mnist\", \"50rounds_tensorflow-mnist\"]\n",
    "\n",
    "nodes = [\"compute005\", \"compute006\", \"compute010\", \n",
    "         \"compute012\", \"compute013\", \"compute016\", \n",
    "         \"compute022\", \"compute025\", \"compute030\", \n",
    "         \"compute035\"]\n",
    "\n",
    "nodes = [f\"aeros1-{i}\" for i in nodes]\n",
    "\n",
    "trial_for_predictions = dict()\n",
    "\n",
    "\n",
    "for trial in trials:\n",
    "    \n",
    "    # use data from executed trials to model the utilization needs and power consumption\n",
    "    df = pd.read_csv(f\"{trial}.csv\")\n",
    "    td = pd.to_datetime(df.tail(1).timestamp.reset_index().timestamp) - pd.to_datetime(df.head(1).timestamp.reset_index().timestamp)\n",
    "    duration = td.loc[0].seconds\n",
    "\n",
    "    node_profiles = dict()\n",
    "    for i, node in enumerate(nodes):\n",
    "        node_df = df[df[\"hostname\"] == node]\n",
    "        node_profiles[i] = dict(\n",
    "            node_cpu_need = node_df.currentCpuUsage.quantile(0.99),\n",
    "            node_memory_need = node_df.currentRamUsage.quantile(0.99),\n",
    "            node_power_need = node_df.currentPowerConsumption.mean(),\n",
    "            node_energy_need = node_df.currentPowerConsumption.mean()*duration\n",
    "        )\n",
    "    trial_for_predictions[trial] = dict(\n",
    "        node_profiles = node_profiles,\n",
    "        duration = duration,\n",
    "        rounds = int(trial.split(\"rounds\")[0])\n",
    "    )\n"
   ]
  },
  {
   "cell_type": "code",
   "execution_count": 6,
   "id": "a5987221-3b35-431f-8f5b-d81e71de3462",
   "metadata": {},
   "outputs": [],
   "source": [
    "from datetime import datetime\n",
    "\n",
    "# Generalize the results of the runs to other Federated Learning configurations\n",
    "class WorkloadPredictor(object):\n",
    "    trial_for_predictions = trial_for_predictions\n",
    "\n",
    "    def get_fl_deployment(self, backend=\"tensorflow\", dataset=\"cifar10\", number_of_rounds=50, number_of_clients=9, start_at = None, tolerance=None):\n",
    "        nodes = []\n",
    "        \n",
    "        self.duration = number_of_rounds * self.trial_for_predictions[f\"50rounds_{backend}-{dataset}\"][\"duration\"]/self.trial_for_predictions[f\"50rounds_{backend}-{dataset}\"][\"rounds\"]\n",
    "        \n",
    "        fl_id = int(datetime.now().timestamp())\n",
    "        nodes.append(self.get_server_node(f\"server_{fl_id}\", backend, dataset, number_of_rounds))\n",
    "        for i in range(number_of_clients):\n",
    "            nodes.append(self.get_client_node(f\"client_{i}_{fl_id}\", backend, dataset, number_of_rounds))\n",
    "        return Service(f\"{backend}-{dataset}-{number_of_rounds}-{number_of_clients}-{fl_id}\", nodes, start_at, tolerance)\n",
    "        \n",
    "        \n",
    "    \n",
    "    def get_client_node(self, id, backend=\"tensorflow\", dataset=\"cifar10\", number_of_rounds=50):\n",
    "        i=random.randint(1,9)\n",
    "        node_profile = self.trial_for_predictions[f\"50rounds_{backend}-{dataset}\"][\"node_profiles\"][i]\n",
    "        return Task(\n",
    "            task_id = id,\n",
    "            cpu = node_profile[\"node_cpu_need\"],\n",
    "            memory = node_profile[\"node_memory_need\"],\n",
    "            duration = self.duration,\n",
    "            power = node_profile[\"node_power_need\"]\n",
    "            # node_energy_need = number_of_rounds * node_profile[\"node_energy_need\"]/50\n",
    "        )\n",
    "\n",
    "    def get_server_node(self, id, backend=\"tensorflow\", dataset=\"cifar10\", number_of_rounds=50):\n",
    "        node_profile = self.trial_for_predictions[f\"50rounds_{backend}-{dataset}\"][\"node_profiles\"][0]\n",
    "        return Task(\n",
    "            task_id = id,\n",
    "            cpu = node_profile[\"node_cpu_need\"],\n",
    "            memory = node_profile[\"node_memory_need\"],\n",
    "            duration = self.duration,\n",
    "            power = node_profile[\"node_power_need\"]\n",
    "            # node_energy_need = number_of_rounds * node_profile[\"node_energy_need\"]/50\n",
    "        )\n"
   ]
  },
  {
   "cell_type": "code",
   "execution_count": 7,
   "id": "69d1198a-f5b8-42e2-b194-e38c261cce31",
   "metadata": {},
   "outputs": [
    {
     "name": "stderr",
     "output_type": "stream",
     "text": [
      "100%|█████████████████████████████████| 172800/172800 [00:49<00:00, 3469.12it/s]\n",
      "100%|█████████████████████████████████| 172800/172800 [00:56<00:00, 3037.47it/s]\n",
      "100%|█████████████████████████████████| 172800/172800 [00:52<00:00, 3268.20it/s]\n",
      "100%|█████████████████████████████████| 172800/172800 [00:53<00:00, 3249.76it/s]\n",
      "100%|█████████████████████████████████| 172800/172800 [00:54<00:00, 3157.78it/s]\n"
     ]
    }
   ],
   "source": [
    "# creation of the simulation configurations\n",
    "\n",
    "computed_intensity = []\n",
    "for tolerance in [0, 3, 6, 9, 12]:\n",
    "    backends = [\"tensorflow\", \"pytorch\"]\n",
    "    datasets = [\"mnist\", \"cifar10\"]\n",
    "    rounds = [50, 100, 200, 400]\n",
    "    tolerances = [tolerance]\n",
    "    \n",
    "    number_of_configurations = 15\n",
    "    random.seed(5)\n",
    "    \n",
    "    workloads = []\n",
    "    for i in range(number_of_configurations):\n",
    "    \n",
    "        deployment = WorkloadPredictor().get_fl_deployment(\n",
    "            backend=random.choice(backends), \n",
    "            dataset=random.choice(datasets), \n",
    "            number_of_clients=9, \n",
    "            number_of_rounds=random.choice(rounds),\n",
    "            start_at=0, #random.randint(0, 2*24*60*60),\n",
    "            tolerance=random.choice(tolerances) \n",
    "        )\n",
    "        \n",
    "        workloads.append(deployment)\n",
    "        \n",
    "    nodes= [ComputeNode(node_id=f\"compute_node_{i}\", total_cpu=100, total_memory=257809) for i in range(37)]\n",
    "    output = pd.DataFrame(schedule_services(workloads, nodes, simulation_time=2*24*60*60, ordered_emissions=ordered_emissions))\n",
    "\n",
    "    output[\"hour\"] = (output.time/(60*60)).astype(int)\n",
    "    grouped_per_hour = output.groupby(\"hour\")[\"power\"].sum()/(60*60)\n",
    "    overall_dataset = pd.DataFrame(grouped_per_hour).merge(emissions_df, left_index=True, right_index=True)\n",
    "    \n",
    "    overall_dataset = overall_dataset.set_index(\"date\")\n",
    "\n",
    "    for i in [\"1\", \"2\", \"3\", \"2-lodz\", \"3-lodz\", \"1-lodz\"]:\n",
    "        \n",
    "        # compute carbon intensity for each configuration\n",
    "        overall_dataset[\"energy_need\"] = (overall_dataset[\"power\"] - overall_dataset[f\"inverter{i}\"]).apply(lambda x: 0 if x<0 else x)\n",
    "        overall_dataset[\"workload_carbon_intensity\"] = (overall_dataset[\"carbon_intensity\"]*(overall_dataset[\"energy_need\"]/1000))\n",
    "        overall_dataset[\"workload_carbon_intensity_without_RES\"] = (overall_dataset[\"carbon_intensity\"]*(overall_dataset[\"power\"]/1000))\n",
    "        computed_intensity.append({\n",
    "            \"Configuration\": 0 if tolerance == 0 else f\"Random Start - {tolerance}h Tolerance\",\n",
    "            \"RES\": i,\n",
    "            \"Carbon Emission with RES\": overall_dataset[\"workload_carbon_intensity\"].sum(),\n",
    "            \"Carbon Emission without RES\": overall_dataset[\"workload_carbon_intensity_without_RES\"].sum()\n",
    "        })"
   ]
  },
  {
   "cell_type": "code",
   "execution_count": 11,
   "id": "92bfbd7d-4104-41e2-aad7-1370978c327c",
   "metadata": {},
   "outputs": [
    {
     "data": {
      "text/plain": [
       "Text(0.5, 0, 'Date')"
      ]
     },
     "execution_count": 11,
     "metadata": {},
     "output_type": "execute_result"
    },
    {
     "data": {
      "image/png": "[encoded data removed]",
      "text/plain": [
       "<Figure size 432x288 with 1 Axes>"
      ]
     },
     "metadata": {
      "needs_background": "light"
     },
     "output_type": "display_data"
    }
   ],
   "source": [
    "# Plot the last configuration (\"1-lodz\") of the previous for-loop\n",
    "import matplotlib.pyplot as plt \n",
    "(overall_dataset[[\"workload_carbon_intensity\", \"workload_carbon_intensity_without_RES\"]]/1000).rename(columns={\"workload_carbon_intensity\": \"with RES\", \"workload_carbon_intensity_without_RES\": \"without RES\"}).plot()\n",
    "plt.legend(bbox_to_anchor=(.5, 1.051), loc=\"center\", ncol=2)\n",
    "plt.ylabel(\"CO2 Grams\")\n",
    "plt.xlabel(\"Date\")"
   ]
  },
  {
   "cell_type": "code",
   "execution_count": 12,
   "id": "a8f61755-ae74-4019-8fae-a3b4a85a234f",
   "metadata": {},
   "outputs": [],
   "source": [
    "overall_dataset[\"workload_carbon_intensity_without_RES\"] = (overall_dataset[\"carbon_intensity\"]*(overall_dataset[\"power\"]/1000))\n"
   ]
  },
  {
   "cell_type": "code",
   "execution_count": 13,
   "id": "19c44997-95c5-4b83-b25c-9c968cd36769",
   "metadata": {},
   "outputs": [],
   "source": [
    "import matplotlib.pyplot as plt\n",
    "# Create the overall carbon intensity for each configuration\n",
    "carbon_df = pd.DataFrame(computed_intensity)\n",
    "carbon_df[\"Configuration\"] = carbon_df[\"Configuration\"].str.replace(\" - \", \"\\n\")\n",
    "carbon_df[\"Configuration\"] = carbon_df[\"Configuration\"].fillna(\"Optimal\\nDuration\")\n",
    "carbon_df[\"Carbon Emission with RES\"] /= 1000 # in kilograms\n",
    "carbon_df[\"Carbon Emission without RES\"] /= 1000 # in kilograms"
   ]
  },
  {
   "cell_type": "code",
   "execution_count": 14,
   "id": "062f284d-3671-4e2b-8155-54de844c099f",
   "metadata": {},
   "outputs": [
    {
     "data": {
      "text/plain": [
       "<matplotlib.legend.Legend at 0x7fc9caf1d550>"
      ]
     },
     "execution_count": 14,
     "metadata": {},
     "output_type": "execute_result"
    },
    {
     "data": {
      "image/png": "[encoded data removed]",
      "text/plain": [
       "<Figure size 720x180 with 1 Axes>"
      ]
     },
     "metadata": {
      "needs_background": "light"
     },
     "output_type": "display_data"
    }
   ],
   "source": [
    "\n",
    "\n",
    "# carbon[\"Configuration\"] = carbon[\"Configuration\"].str.replace(\"Optimal Duration\", \"Optimal\\nDuration\")\n",
    "\n",
    "carbon_df[carbon_df[\"RES\"]==\"1-lodz\"][[\"Carbon Emission with RES\", \"Carbon Emission without RES\", \"Configuration\"]].plot.bar(x=\"Configuration\", rot=0, figsize=(10,2.5))\n",
    "plt.legend(bbox_to_anchor=(.5, 1.1), loc=\"center\", ncol=2)"
   ]
  },
  {
   "cell_type": "code",
   "execution_count": 15,
   "id": "cb810c6a-dd37-4485-8e60-96c3f217c45e",
   "metadata": {},
   "outputs": [],
   "source": [
    "df_temp_carb = carbon_df[carbon_df[\"RES\"]==\"1-lodz\"][[\"Carbon Emission with RES\", \"Carbon Emission without RES\", \"Configuration\"]]"
   ]
  },
  {
   "cell_type": "code",
   "execution_count": 16,
   "id": "24f48100-693d-401c-a081-516c32c8e175",
   "metadata": {},
   "outputs": [
    {
     "data": {
      "text/html": [
       "<div>\n",
       "<style scoped>\n",
       "    .dataframe tbody tr th:only-of-type {\n",
       "        vertical-align: middle;\n",
       "    }\n",
       "\n",
       "    .dataframe tbody tr th {\n",
       "        vertical-align: top;\n",
       "    }\n",
       "\n",
       "    .dataframe thead th {\n",
       "        text-align: right;\n",
       "    }\n",
       "</style>\n",
       "<table border=\"1\" class=\"dataframe\">\n",
       "  <thead>\n",
       "    <tr style=\"text-align: right;\">\n",
       "      <th></th>\n",
       "      <th>Carbon Emission with RES</th>\n",
       "    </tr>\n",
       "  </thead>\n",
       "  <tbody>\n",
       "    <tr>\n",
       "      <th>5</th>\n",
       "      <td>-0.062154</td>\n",
       "    </tr>\n",
       "    <tr>\n",
       "      <th>11</th>\n",
       "      <td>0.000000</td>\n",
       "    </tr>\n",
       "    <tr>\n",
       "      <th>17</th>\n",
       "      <td>0.000000</td>\n",
       "    </tr>\n",
       "    <tr>\n",
       "      <th>23</th>\n",
       "      <td>0.000000</td>\n",
       "    </tr>\n",
       "    <tr>\n",
       "      <th>29</th>\n",
       "      <td>0.000000</td>\n",
       "    </tr>\n",
       "  </tbody>\n",
       "</table>\n",
       "</div>"
      ],
      "text/plain": [
       "    Carbon Emission with RES\n",
       "5                  -0.062154\n",
       "11                  0.000000\n",
       "17                  0.000000\n",
       "23                  0.000000\n",
       "29                  0.000000"
      ]
     },
     "execution_count": 16,
     "metadata": {},
     "output_type": "execute_result"
    }
   ],
   "source": [
    "(df_temp_carb[[\"Carbon Emission with RES\"]]-df_temp_carb[\"Carbon Emission with RES\"].max())/df_temp_carb[\"Carbon Emission with RES\"].max()"
   ]
  },
  {
   "cell_type": "code",
   "execution_count": 17,
   "id": "da7f85f9-fa3e-4bc8-962e-093d8c32eb0c",
   "metadata": {},
   "outputs": [
    {
     "data": {
      "text/plain": [
       "Text(0.5, 0, 'RES & Location')"
      ]
     },
     "execution_count": 17,
     "metadata": {},
     "output_type": "execute_result"
    },
    {
     "data": {
      "image/png": "[encoded data removed]",
      "text/plain": [
       "<Figure size 720x180 with 1 Axes>"
      ]
     },
     "metadata": {
      "needs_background": "light"
     },
     "output_type": "display_data"
    }
   ],
   "source": [
    "\n",
    "ax = carbon_df[carbon_df[\"Configuration\"]==\"Optimal\\nDuration\"][[\"Carbon Emission with RES\", \"RES\"]].sort_values(\"RES\").plot.bar(\n",
    "    x=\"RES\", rot=0, figsize=(10,2.5), legend=False)\n",
    "ax.set_xticklabels([\"inverter-1\\nWarsaw\",\"inverter-1\\nŁódź\",\"inverter-2\\nWarsaw\",\"inverter-2\\nŁódź\",\"inverter-3\\nWarsaw\",\"inverter-3\\nŁódź\"], rotation=0)\n",
    "ax.set_xlabel(\"RES & Location\")\n"
   ]
  },
  {
   "cell_type": "code",
   "execution_count": 18,
   "id": "52166f9b-1a5c-4b46-99af-804eff6d08b6",
   "metadata": {},
   "outputs": [
    {
     "data": {
      "text/html": [
       "<div>\n",
       "<style scoped>\n",
       "    .dataframe tbody tr th:only-of-type {\n",
       "        vertical-align: middle;\n",
       "    }\n",
       "\n",
       "    .dataframe tbody tr th {\n",
       "        vertical-align: top;\n",
       "    }\n",
       "\n",
       "    .dataframe thead th {\n",
       "        text-align: right;\n",
       "    }\n",
       "</style>\n",
       "<table border=\"1\" class=\"dataframe\">\n",
       "  <thead>\n",
       "    <tr style=\"text-align: right;\">\n",
       "      <th></th>\n",
       "      <th>Configuration</th>\n",
       "      <th>RES</th>\n",
       "      <th>Carbon Emission with RES</th>\n",
       "      <th>Carbon Emission without RES</th>\n",
       "    </tr>\n",
       "  </thead>\n",
       "  <tbody>\n",
       "    <tr>\n",
       "      <th>0</th>\n",
       "      <td>Optimal\\nDuration</td>\n",
       "      <td>1</td>\n",
       "      <td>23.723633</td>\n",
       "      <td>31.26464</td>\n",
       "    </tr>\n",
       "    <tr>\n",
       "      <th>1</th>\n",
       "      <td>Optimal\\nDuration</td>\n",
       "      <td>2</td>\n",
       "      <td>24.012133</td>\n",
       "      <td>31.26464</td>\n",
       "    </tr>\n",
       "    <tr>\n",
       "      <th>2</th>\n",
       "      <td>Optimal\\nDuration</td>\n",
       "      <td>3</td>\n",
       "      <td>27.024012</td>\n",
       "      <td>31.26464</td>\n",
       "    </tr>\n",
       "    <tr>\n",
       "      <th>3</th>\n",
       "      <td>Optimal\\nDuration</td>\n",
       "      <td>2-lodz</td>\n",
       "      <td>21.644672</td>\n",
       "      <td>31.26464</td>\n",
       "    </tr>\n",
       "    <tr>\n",
       "      <th>4</th>\n",
       "      <td>Optimal\\nDuration</td>\n",
       "      <td>3-lodz</td>\n",
       "      <td>25.144330</td>\n",
       "      <td>31.26464</td>\n",
       "    </tr>\n",
       "    <tr>\n",
       "      <th>5</th>\n",
       "      <td>Optimal\\nDuration</td>\n",
       "      <td>1-lodz</td>\n",
       "      <td>21.591350</td>\n",
       "      <td>31.26464</td>\n",
       "    </tr>\n",
       "  </tbody>\n",
       "</table>\n",
       "</div>"
      ],
      "text/plain": [
       "       Configuration     RES  Carbon Emission with RES  \\\n",
       "0  Optimal\\nDuration       1                 23.723633   \n",
       "1  Optimal\\nDuration       2                 24.012133   \n",
       "2  Optimal\\nDuration       3                 27.024012   \n",
       "3  Optimal\\nDuration  2-lodz                 21.644672   \n",
       "4  Optimal\\nDuration  3-lodz                 25.144330   \n",
       "5  Optimal\\nDuration  1-lodz                 21.591350   \n",
       "\n",
       "   Carbon Emission without RES  \n",
       "0                     31.26464  \n",
       "1                     31.26464  \n",
       "2                     31.26464  \n",
       "3                     31.26464  \n",
       "4                     31.26464  \n",
       "5                     31.26464  "
      ]
     },
     "execution_count": 18,
     "metadata": {},
     "output_type": "execute_result"
    }
   ],
   "source": [
    "carbon_df[carbon_df[\"Configuration\"]==\"Optimal\\nDuration\"]"
   ]
  }
 ],
 "metadata": {
  "kernelspec": {
   "display_name": "Python 3 (ipykernel)",
   "language": "python",
   "name": "python3"
  },
  "language_info": {
   "codemirror_mode": {
    "name": "ipython",
    "version": 3
   },
   "file_extension": ".py",
   "mimetype": "text/x-python",
   "name": "python",
   "nbconvert_exporter": "python",
   "pygments_lexer": "ipython3",
   "version": "3.9.16"
  }
 },
 "nbformat": 4,
 "nbformat_minor": 5
}
