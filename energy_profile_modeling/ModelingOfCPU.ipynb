{
 "cells": [
  {
   "cell_type": "code",
   "execution_count": 1,
   "id": "8fd8a5d2-6375-4549-948a-274371572060",
   "metadata": {},
   "outputs": [],
   "source": [
    "from pycaret.regression import *\n",
    "import pandas as pd\n"
   ]
  },
  {
   "cell_type": "code",
   "execution_count": 22,
   "id": "230d107e-f2db-42bb-98b6-32738519cd8e",
   "metadata": {},
   "outputs": [],
   "source": [
    "df = pd.read_csv(\"power_cpu_results_rpi4.csv\")\n",
    "df[\"actual_power_consumption\"] += 3.1"
   ]
  },
  {
   "cell_type": "code",
   "execution_count": 3,
   "id": "5701e016-ee88-45a3-ac43-22c32e3a7943",
   "metadata": {},
   "outputs": [],
   "source": [
    "# df = pd.read_csv(\"cpu_results_nc11.csv\")"
   ]
  },
  {
   "cell_type": "code",
   "execution_count": 23,
   "id": "11d3c149-756a-42fb-939f-9e14c4a2a3d0",
   "metadata": {},
   "outputs": [],
   "source": [
    "df \n",
    "df.columns = [\"cpu_utilization\", \"power_consumption\"]"
   ]
  },
  {
   "cell_type": "code",
   "execution_count": 5,
   "id": "5881325b-de5a-4f50-9b74-6085bf5f4f22",
   "metadata": {},
   "outputs": [],
   "source": [
    "df.columns = [\"timestamp\",\"cpu_utilization\", \"power_consumption\"]"
   ]
  },
  {
   "cell_type": "code",
   "execution_count": 24,
   "id": "c9a31d2b-9112-4290-9949-68d1bae9f727",
   "metadata": {},
   "outputs": [],
   "source": [
    "df = df[[\"cpu_utilization\", \"power_consumption\"]]"
   ]
  },
  {
   "cell_type": "code",
   "execution_count": 25,
   "id": "a087a034-02ff-493b-8202-330f1d28d28e",
   "metadata": {},
   "outputs": [
    {
     "data": {
      "text/html": [
       "<style type=\"text/css\">\n",
       "#T_f4452_row8_col1 {\n",
       "  background-color: lightgreen;\n",
       "}\n",
       "</style>\n",
       "<table id=\"T_f4452\">\n",
       "  <thead>\n",
       "    <tr>\n",
       "      <th class=\"blank level0\" >&nbsp;</th>\n",
       "      <th id=\"T_f4452_level0_col0\" class=\"col_heading level0 col0\" >Description</th>\n",
       "      <th id=\"T_f4452_level0_col1\" class=\"col_heading level0 col1\" >Value</th>\n",
       "    </tr>\n",
       "  </thead>\n",
       "  <tbody>\n",
       "    <tr>\n",
       "      <th id=\"T_f4452_level0_row0\" class=\"row_heading level0 row0\" >0</th>\n",
       "      <td id=\"T_f4452_row0_col0\" class=\"data row0 col0\" >Session id</td>\n",
       "      <td id=\"T_f4452_row0_col1\" class=\"data row0 col1\" >2916</td>\n",
       "    </tr>\n",
       "    <tr>\n",
       "      <th id=\"T_f4452_level0_row1\" class=\"row_heading level0 row1\" >1</th>\n",
       "      <td id=\"T_f4452_row1_col0\" class=\"data row1 col0\" >Target</td>\n",
       "      <td id=\"T_f4452_row1_col1\" class=\"data row1 col1\" >power_consumption</td>\n",
       "    </tr>\n",
       "    <tr>\n",
       "      <th id=\"T_f4452_level0_row2\" class=\"row_heading level0 row2\" >2</th>\n",
       "      <td id=\"T_f4452_row2_col0\" class=\"data row2 col0\" >Target type</td>\n",
       "      <td id=\"T_f4452_row2_col1\" class=\"data row2 col1\" >Regression</td>\n",
       "    </tr>\n",
       "    <tr>\n",
       "      <th id=\"T_f4452_level0_row3\" class=\"row_heading level0 row3\" >3</th>\n",
       "      <td id=\"T_f4452_row3_col0\" class=\"data row3 col0\" >Original data shape</td>\n",
       "      <td id=\"T_f4452_row3_col1\" class=\"data row3 col1\" >(4941, 2)</td>\n",
       "    </tr>\n",
       "    <tr>\n",
       "      <th id=\"T_f4452_level0_row4\" class=\"row_heading level0 row4\" >4</th>\n",
       "      <td id=\"T_f4452_row4_col0\" class=\"data row4 col0\" >Transformed data shape</td>\n",
       "      <td id=\"T_f4452_row4_col1\" class=\"data row4 col1\" >(4941, 2)</td>\n",
       "    </tr>\n",
       "    <tr>\n",
       "      <th id=\"T_f4452_level0_row5\" class=\"row_heading level0 row5\" >5</th>\n",
       "      <td id=\"T_f4452_row5_col0\" class=\"data row5 col0\" >Transformed train set shape</td>\n",
       "      <td id=\"T_f4452_row5_col1\" class=\"data row5 col1\" >(3458, 2)</td>\n",
       "    </tr>\n",
       "    <tr>\n",
       "      <th id=\"T_f4452_level0_row6\" class=\"row_heading level0 row6\" >6</th>\n",
       "      <td id=\"T_f4452_row6_col0\" class=\"data row6 col0\" >Transformed test set shape</td>\n",
       "      <td id=\"T_f4452_row6_col1\" class=\"data row6 col1\" >(1483, 2)</td>\n",
       "    </tr>\n",
       "    <tr>\n",
       "      <th id=\"T_f4452_level0_row7\" class=\"row_heading level0 row7\" >7</th>\n",
       "      <td id=\"T_f4452_row7_col0\" class=\"data row7 col0\" >Numeric features</td>\n",
       "      <td id=\"T_f4452_row7_col1\" class=\"data row7 col1\" >1</td>\n",
       "    </tr>\n",
       "    <tr>\n",
       "      <th id=\"T_f4452_level0_row8\" class=\"row_heading level0 row8\" >8</th>\n",
       "      <td id=\"T_f4452_row8_col0\" class=\"data row8 col0\" >Preprocess</td>\n",
       "      <td id=\"T_f4452_row8_col1\" class=\"data row8 col1\" >True</td>\n",
       "    </tr>\n",
       "    <tr>\n",
       "      <th id=\"T_f4452_level0_row9\" class=\"row_heading level0 row9\" >9</th>\n",
       "      <td id=\"T_f4452_row9_col0\" class=\"data row9 col0\" >Imputation type</td>\n",
       "      <td id=\"T_f4452_row9_col1\" class=\"data row9 col1\" >simple</td>\n",
       "    </tr>\n",
       "    <tr>\n",
       "      <th id=\"T_f4452_level0_row10\" class=\"row_heading level0 row10\" >10</th>\n",
       "      <td id=\"T_f4452_row10_col0\" class=\"data row10 col0\" >Numeric imputation</td>\n",
       "      <td id=\"T_f4452_row10_col1\" class=\"data row10 col1\" >mean</td>\n",
       "    </tr>\n",
       "    <tr>\n",
       "      <th id=\"T_f4452_level0_row11\" class=\"row_heading level0 row11\" >11</th>\n",
       "      <td id=\"T_f4452_row11_col0\" class=\"data row11 col0\" >Categorical imputation</td>\n",
       "      <td id=\"T_f4452_row11_col1\" class=\"data row11 col1\" >mode</td>\n",
       "    </tr>\n",
       "    <tr>\n",
       "      <th id=\"T_f4452_level0_row12\" class=\"row_heading level0 row12\" >12</th>\n",
       "      <td id=\"T_f4452_row12_col0\" class=\"data row12 col0\" >Fold Generator</td>\n",
       "      <td id=\"T_f4452_row12_col1\" class=\"data row12 col1\" >KFold</td>\n",
       "    </tr>\n",
       "    <tr>\n",
       "      <th id=\"T_f4452_level0_row13\" class=\"row_heading level0 row13\" >13</th>\n",
       "      <td id=\"T_f4452_row13_col0\" class=\"data row13 col0\" >Fold Number</td>\n",
       "      <td id=\"T_f4452_row13_col1\" class=\"data row13 col1\" >10</td>\n",
       "    </tr>\n",
       "    <tr>\n",
       "      <th id=\"T_f4452_level0_row14\" class=\"row_heading level0 row14\" >14</th>\n",
       "      <td id=\"T_f4452_row14_col0\" class=\"data row14 col0\" >CPU Jobs</td>\n",
       "      <td id=\"T_f4452_row14_col1\" class=\"data row14 col1\" >-1</td>\n",
       "    </tr>\n",
       "    <tr>\n",
       "      <th id=\"T_f4452_level0_row15\" class=\"row_heading level0 row15\" >15</th>\n",
       "      <td id=\"T_f4452_row15_col0\" class=\"data row15 col0\" >Use GPU</td>\n",
       "      <td id=\"T_f4452_row15_col1\" class=\"data row15 col1\" >False</td>\n",
       "    </tr>\n",
       "    <tr>\n",
       "      <th id=\"T_f4452_level0_row16\" class=\"row_heading level0 row16\" >16</th>\n",
       "      <td id=\"T_f4452_row16_col0\" class=\"data row16 col0\" >Log Experiment</td>\n",
       "      <td id=\"T_f4452_row16_col1\" class=\"data row16 col1\" >False</td>\n",
       "    </tr>\n",
       "    <tr>\n",
       "      <th id=\"T_f4452_level0_row17\" class=\"row_heading level0 row17\" >17</th>\n",
       "      <td id=\"T_f4452_row17_col0\" class=\"data row17 col0\" >Experiment Name</td>\n",
       "      <td id=\"T_f4452_row17_col1\" class=\"data row17 col1\" >reg-default-name</td>\n",
       "    </tr>\n",
       "    <tr>\n",
       "      <th id=\"T_f4452_level0_row18\" class=\"row_heading level0 row18\" >18</th>\n",
       "      <td id=\"T_f4452_row18_col0\" class=\"data row18 col0\" >USI</td>\n",
       "      <td id=\"T_f4452_row18_col1\" class=\"data row18 col1\" >b82f</td>\n",
       "    </tr>\n",
       "  </tbody>\n",
       "</table>\n"
      ],
      "text/plain": [
       "<pandas.io.formats.style.Styler at 0x7f4b1cb701c0>"
      ]
     },
     "metadata": {},
     "output_type": "display_data"
    }
   ],
   "source": [
    "exp_name = setup(data = df,  target = 'power_consumption')"
   ]
  },
  {
   "cell_type": "code",
   "execution_count": 26,
   "id": "4a1f3b28-6b0f-4fbf-84b2-e122b397d3eb",
   "metadata": {},
   "outputs": [
    {
     "data": {
      "text/html": [],
      "text/plain": [
       "<IPython.core.display.HTML object>"
      ]
     },
     "metadata": {},
     "output_type": "display_data"
    },
    {
     "data": {
      "text/html": [
       "<style type=\"text/css\">\n",
       "#T_06880_row10_col0, #T_06880_row10_col1, #T_06880_row10_col2, #T_06880_row10_col3, #T_06880_row10_col4, #T_06880_row10_col5 {\n",
       "  background: yellow;\n",
       "}\n",
       "</style>\n",
       "<table id=\"T_06880\">\n",
       "  <thead>\n",
       "    <tr>\n",
       "      <th class=\"blank level0\" >&nbsp;</th>\n",
       "      <th id=\"T_06880_level0_col0\" class=\"col_heading level0 col0\" >MAE</th>\n",
       "      <th id=\"T_06880_level0_col1\" class=\"col_heading level0 col1\" >MSE</th>\n",
       "      <th id=\"T_06880_level0_col2\" class=\"col_heading level0 col2\" >RMSE</th>\n",
       "      <th id=\"T_06880_level0_col3\" class=\"col_heading level0 col3\" >R2</th>\n",
       "      <th id=\"T_06880_level0_col4\" class=\"col_heading level0 col4\" >RMSLE</th>\n",
       "      <th id=\"T_06880_level0_col5\" class=\"col_heading level0 col5\" >MAPE</th>\n",
       "    </tr>\n",
       "    <tr>\n",
       "      <th class=\"index_name level0\" >Fold</th>\n",
       "      <th class=\"blank col0\" >&nbsp;</th>\n",
       "      <th class=\"blank col1\" >&nbsp;</th>\n",
       "      <th class=\"blank col2\" >&nbsp;</th>\n",
       "      <th class=\"blank col3\" >&nbsp;</th>\n",
       "      <th class=\"blank col4\" >&nbsp;</th>\n",
       "      <th class=\"blank col5\" >&nbsp;</th>\n",
       "    </tr>\n",
       "  </thead>\n",
       "  <tbody>\n",
       "    <tr>\n",
       "      <th id=\"T_06880_level0_row0\" class=\"row_heading level0 row0\" >0</th>\n",
       "      <td id=\"T_06880_row0_col0\" class=\"data row0 col0\" >0.2222</td>\n",
       "      <td id=\"T_06880_row0_col1\" class=\"data row0 col1\" >0.0870</td>\n",
       "      <td id=\"T_06880_row0_col2\" class=\"data row0 col2\" >0.2950</td>\n",
       "      <td id=\"T_06880_row0_col3\" class=\"data row0 col3\" >0.8671</td>\n",
       "      <td id=\"T_06880_row0_col4\" class=\"data row0 col4\" >0.0490</td>\n",
       "      <td id=\"T_06880_row0_col5\" class=\"data row0 col5\" >0.0452</td>\n",
       "    </tr>\n",
       "    <tr>\n",
       "      <th id=\"T_06880_level0_row1\" class=\"row_heading level0 row1\" >1</th>\n",
       "      <td id=\"T_06880_row1_col0\" class=\"data row1 col0\" >0.2063</td>\n",
       "      <td id=\"T_06880_row1_col1\" class=\"data row1 col1\" >0.0841</td>\n",
       "      <td id=\"T_06880_row1_col2\" class=\"data row1 col2\" >0.2900</td>\n",
       "      <td id=\"T_06880_row1_col3\" class=\"data row1 col3\" >0.8813</td>\n",
       "      <td id=\"T_06880_row1_col4\" class=\"data row1 col4\" >0.0490</td>\n",
       "      <td id=\"T_06880_row1_col5\" class=\"data row1 col5\" >0.0429</td>\n",
       "    </tr>\n",
       "    <tr>\n",
       "      <th id=\"T_06880_level0_row2\" class=\"row_heading level0 row2\" >2</th>\n",
       "      <td id=\"T_06880_row2_col0\" class=\"data row2 col0\" >0.2461</td>\n",
       "      <td id=\"T_06880_row2_col1\" class=\"data row2 col1\" >0.1074</td>\n",
       "      <td id=\"T_06880_row2_col2\" class=\"data row2 col2\" >0.3277</td>\n",
       "      <td id=\"T_06880_row2_col3\" class=\"data row2 col3\" >0.8466</td>\n",
       "      <td id=\"T_06880_row2_col4\" class=\"data row2 col4\" >0.0555</td>\n",
       "      <td id=\"T_06880_row2_col5\" class=\"data row2 col5\" >0.0513</td>\n",
       "    </tr>\n",
       "    <tr>\n",
       "      <th id=\"T_06880_level0_row3\" class=\"row_heading level0 row3\" >3</th>\n",
       "      <td id=\"T_06880_row3_col0\" class=\"data row3 col0\" >0.2226</td>\n",
       "      <td id=\"T_06880_row3_col1\" class=\"data row3 col1\" >0.0855</td>\n",
       "      <td id=\"T_06880_row3_col2\" class=\"data row3 col2\" >0.2923</td>\n",
       "      <td id=\"T_06880_row3_col3\" class=\"data row3 col3\" >0.8691</td>\n",
       "      <td id=\"T_06880_row3_col4\" class=\"data row3 col4\" >0.0489</td>\n",
       "      <td id=\"T_06880_row3_col5\" class=\"data row3 col5\" >0.0451</td>\n",
       "    </tr>\n",
       "    <tr>\n",
       "      <th id=\"T_06880_level0_row4\" class=\"row_heading level0 row4\" >4</th>\n",
       "      <td id=\"T_06880_row4_col0\" class=\"data row4 col0\" >0.2302</td>\n",
       "      <td id=\"T_06880_row4_col1\" class=\"data row4 col1\" >0.0926</td>\n",
       "      <td id=\"T_06880_row4_col2\" class=\"data row4 col2\" >0.3044</td>\n",
       "      <td id=\"T_06880_row4_col3\" class=\"data row4 col3\" >0.8550</td>\n",
       "      <td id=\"T_06880_row4_col4\" class=\"data row4 col4\" >0.0519</td>\n",
       "      <td id=\"T_06880_row4_col5\" class=\"data row4 col5\" >0.0478</td>\n",
       "    </tr>\n",
       "    <tr>\n",
       "      <th id=\"T_06880_level0_row5\" class=\"row_heading level0 row5\" >5</th>\n",
       "      <td id=\"T_06880_row5_col0\" class=\"data row5 col0\" >0.2371</td>\n",
       "      <td id=\"T_06880_row5_col1\" class=\"data row5 col1\" >0.0964</td>\n",
       "      <td id=\"T_06880_row5_col2\" class=\"data row5 col2\" >0.3104</td>\n",
       "      <td id=\"T_06880_row5_col3\" class=\"data row5 col3\" >0.8587</td>\n",
       "      <td id=\"T_06880_row5_col4\" class=\"data row5 col4\" >0.0524</td>\n",
       "      <td id=\"T_06880_row5_col5\" class=\"data row5 col5\" >0.0487</td>\n",
       "    </tr>\n",
       "    <tr>\n",
       "      <th id=\"T_06880_level0_row6\" class=\"row_heading level0 row6\" >6</th>\n",
       "      <td id=\"T_06880_row6_col0\" class=\"data row6 col0\" >0.2300</td>\n",
       "      <td id=\"T_06880_row6_col1\" class=\"data row6 col1\" >0.0945</td>\n",
       "      <td id=\"T_06880_row6_col2\" class=\"data row6 col2\" >0.3075</td>\n",
       "      <td id=\"T_06880_row6_col3\" class=\"data row6 col3\" >0.8662</td>\n",
       "      <td id=\"T_06880_row6_col4\" class=\"data row6 col4\" >0.0521</td>\n",
       "      <td id=\"T_06880_row6_col5\" class=\"data row6 col5\" >0.0472</td>\n",
       "    </tr>\n",
       "    <tr>\n",
       "      <th id=\"T_06880_level0_row7\" class=\"row_heading level0 row7\" >7</th>\n",
       "      <td id=\"T_06880_row7_col0\" class=\"data row7 col0\" >0.2215</td>\n",
       "      <td id=\"T_06880_row7_col1\" class=\"data row7 col1\" >0.0884</td>\n",
       "      <td id=\"T_06880_row7_col2\" class=\"data row7 col2\" >0.2974</td>\n",
       "      <td id=\"T_06880_row7_col3\" class=\"data row7 col3\" >0.8679</td>\n",
       "      <td id=\"T_06880_row7_col4\" class=\"data row7 col4\" >0.0503</td>\n",
       "      <td id=\"T_06880_row7_col5\" class=\"data row7 col5\" >0.0456</td>\n",
       "    </tr>\n",
       "    <tr>\n",
       "      <th id=\"T_06880_level0_row8\" class=\"row_heading level0 row8\" >8</th>\n",
       "      <td id=\"T_06880_row8_col0\" class=\"data row8 col0\" >0.2152</td>\n",
       "      <td id=\"T_06880_row8_col1\" class=\"data row8 col1\" >0.0878</td>\n",
       "      <td id=\"T_06880_row8_col2\" class=\"data row8 col2\" >0.2962</td>\n",
       "      <td id=\"T_06880_row8_col3\" class=\"data row8 col3\" >0.8627</td>\n",
       "      <td id=\"T_06880_row8_col4\" class=\"data row8 col4\" >0.0509</td>\n",
       "      <td id=\"T_06880_row8_col5\" class=\"data row8 col5\" >0.0454</td>\n",
       "    </tr>\n",
       "    <tr>\n",
       "      <th id=\"T_06880_level0_row9\" class=\"row_heading level0 row9\" >9</th>\n",
       "      <td id=\"T_06880_row9_col0\" class=\"data row9 col0\" >0.2023</td>\n",
       "      <td id=\"T_06880_row9_col1\" class=\"data row9 col1\" >0.0796</td>\n",
       "      <td id=\"T_06880_row9_col2\" class=\"data row9 col2\" >0.2821</td>\n",
       "      <td id=\"T_06880_row9_col3\" class=\"data row9 col3\" >0.8759</td>\n",
       "      <td id=\"T_06880_row9_col4\" class=\"data row9 col4\" >0.0486</td>\n",
       "      <td id=\"T_06880_row9_col5\" class=\"data row9 col5\" >0.0427</td>\n",
       "    </tr>\n",
       "    <tr>\n",
       "      <th id=\"T_06880_level0_row10\" class=\"row_heading level0 row10\" >Mean</th>\n",
       "      <td id=\"T_06880_row10_col0\" class=\"data row10 col0\" >0.2234</td>\n",
       "      <td id=\"T_06880_row10_col1\" class=\"data row10 col1\" >0.0903</td>\n",
       "      <td id=\"T_06880_row10_col2\" class=\"data row10 col2\" >0.3003</td>\n",
       "      <td id=\"T_06880_row10_col3\" class=\"data row10 col3\" >0.8650</td>\n",
       "      <td id=\"T_06880_row10_col4\" class=\"data row10 col4\" >0.0509</td>\n",
       "      <td id=\"T_06880_row10_col5\" class=\"data row10 col5\" >0.0462</td>\n",
       "    </tr>\n",
       "    <tr>\n",
       "      <th id=\"T_06880_level0_row11\" class=\"row_heading level0 row11\" >Std</th>\n",
       "      <td id=\"T_06880_row11_col0\" class=\"data row11 col0\" >0.0127</td>\n",
       "      <td id=\"T_06880_row11_col1\" class=\"data row11 col1\" >0.0074</td>\n",
       "      <td id=\"T_06880_row11_col2\" class=\"data row11 col2\" >0.0121</td>\n",
       "      <td id=\"T_06880_row11_col3\" class=\"data row11 col3\" >0.0095</td>\n",
       "      <td id=\"T_06880_row11_col4\" class=\"data row11 col4\" >0.0020</td>\n",
       "      <td id=\"T_06880_row11_col5\" class=\"data row11 col5\" >0.0025</td>\n",
       "    </tr>\n",
       "  </tbody>\n",
       "</table>\n"
      ],
      "text/plain": [
       "<pandas.io.formats.style.Styler at 0x7f4acc4aa9a0>"
      ]
     },
     "metadata": {},
     "output_type": "display_data"
    },
    {
     "data": {
      "text/html": [],
      "text/plain": [
       "<IPython.core.display.HTML object>"
      ]
     },
     "metadata": {},
     "output_type": "display_data"
    }
   ],
   "source": [
    "lr = create_model('lr')"
   ]
  },
  {
   "cell_type": "code",
   "execution_count": 27,
   "id": "d47fd0b1-1de3-4785-8e99-85807c765615",
   "metadata": {},
   "outputs": [
    {
     "data": {
      "text/html": [],
      "text/plain": [
       "<IPython.core.display.HTML object>"
      ]
     },
     "metadata": {},
     "output_type": "display_data"
    },
    {
     "data": {
      "text/html": [
       "<style type=\"text/css\">\n",
       "#T_7591a_row10_col0, #T_7591a_row10_col1, #T_7591a_row10_col2, #T_7591a_row10_col3, #T_7591a_row10_col4, #T_7591a_row10_col5 {\n",
       "  background: yellow;\n",
       "}\n",
       "</style>\n",
       "<table id=\"T_7591a\">\n",
       "  <thead>\n",
       "    <tr>\n",
       "      <th class=\"blank level0\" >&nbsp;</th>\n",
       "      <th id=\"T_7591a_level0_col0\" class=\"col_heading level0 col0\" >MAE</th>\n",
       "      <th id=\"T_7591a_level0_col1\" class=\"col_heading level0 col1\" >MSE</th>\n",
       "      <th id=\"T_7591a_level0_col2\" class=\"col_heading level0 col2\" >RMSE</th>\n",
       "      <th id=\"T_7591a_level0_col3\" class=\"col_heading level0 col3\" >R2</th>\n",
       "      <th id=\"T_7591a_level0_col4\" class=\"col_heading level0 col4\" >RMSLE</th>\n",
       "      <th id=\"T_7591a_level0_col5\" class=\"col_heading level0 col5\" >MAPE</th>\n",
       "    </tr>\n",
       "    <tr>\n",
       "      <th class=\"index_name level0\" >Fold</th>\n",
       "      <th class=\"blank col0\" >&nbsp;</th>\n",
       "      <th class=\"blank col1\" >&nbsp;</th>\n",
       "      <th class=\"blank col2\" >&nbsp;</th>\n",
       "      <th class=\"blank col3\" >&nbsp;</th>\n",
       "      <th class=\"blank col4\" >&nbsp;</th>\n",
       "      <th class=\"blank col5\" >&nbsp;</th>\n",
       "    </tr>\n",
       "  </thead>\n",
       "  <tbody>\n",
       "    <tr>\n",
       "      <th id=\"T_7591a_level0_row0\" class=\"row_heading level0 row0\" >0</th>\n",
       "      <td id=\"T_7591a_row0_col0\" class=\"data row0 col0\" >0.2222</td>\n",
       "      <td id=\"T_7591a_row0_col1\" class=\"data row0 col1\" >0.0870</td>\n",
       "      <td id=\"T_7591a_row0_col2\" class=\"data row0 col2\" >0.2950</td>\n",
       "      <td id=\"T_7591a_row0_col3\" class=\"data row0 col3\" >0.8671</td>\n",
       "      <td id=\"T_7591a_row0_col4\" class=\"data row0 col4\" >0.0490</td>\n",
       "      <td id=\"T_7591a_row0_col5\" class=\"data row0 col5\" >0.0452</td>\n",
       "    </tr>\n",
       "    <tr>\n",
       "      <th id=\"T_7591a_level0_row1\" class=\"row_heading level0 row1\" >1</th>\n",
       "      <td id=\"T_7591a_row1_col0\" class=\"data row1 col0\" >0.2063</td>\n",
       "      <td id=\"T_7591a_row1_col1\" class=\"data row1 col1\" >0.0841</td>\n",
       "      <td id=\"T_7591a_row1_col2\" class=\"data row1 col2\" >0.2900</td>\n",
       "      <td id=\"T_7591a_row1_col3\" class=\"data row1 col3\" >0.8813</td>\n",
       "      <td id=\"T_7591a_row1_col4\" class=\"data row1 col4\" >0.0490</td>\n",
       "      <td id=\"T_7591a_row1_col5\" class=\"data row1 col5\" >0.0429</td>\n",
       "    </tr>\n",
       "    <tr>\n",
       "      <th id=\"T_7591a_level0_row2\" class=\"row_heading level0 row2\" >2</th>\n",
       "      <td id=\"T_7591a_row2_col0\" class=\"data row2 col0\" >0.2461</td>\n",
       "      <td id=\"T_7591a_row2_col1\" class=\"data row2 col1\" >0.1074</td>\n",
       "      <td id=\"T_7591a_row2_col2\" class=\"data row2 col2\" >0.3277</td>\n",
       "      <td id=\"T_7591a_row2_col3\" class=\"data row2 col3\" >0.8466</td>\n",
       "      <td id=\"T_7591a_row2_col4\" class=\"data row2 col4\" >0.0555</td>\n",
       "      <td id=\"T_7591a_row2_col5\" class=\"data row2 col5\" >0.0513</td>\n",
       "    </tr>\n",
       "    <tr>\n",
       "      <th id=\"T_7591a_level0_row3\" class=\"row_heading level0 row3\" >3</th>\n",
       "      <td id=\"T_7591a_row3_col0\" class=\"data row3 col0\" >0.2226</td>\n",
       "      <td id=\"T_7591a_row3_col1\" class=\"data row3 col1\" >0.0855</td>\n",
       "      <td id=\"T_7591a_row3_col2\" class=\"data row3 col2\" >0.2923</td>\n",
       "      <td id=\"T_7591a_row3_col3\" class=\"data row3 col3\" >0.8691</td>\n",
       "      <td id=\"T_7591a_row3_col4\" class=\"data row3 col4\" >0.0489</td>\n",
       "      <td id=\"T_7591a_row3_col5\" class=\"data row3 col5\" >0.0451</td>\n",
       "    </tr>\n",
       "    <tr>\n",
       "      <th id=\"T_7591a_level0_row4\" class=\"row_heading level0 row4\" >4</th>\n",
       "      <td id=\"T_7591a_row4_col0\" class=\"data row4 col0\" >0.2302</td>\n",
       "      <td id=\"T_7591a_row4_col1\" class=\"data row4 col1\" >0.0926</td>\n",
       "      <td id=\"T_7591a_row4_col2\" class=\"data row4 col2\" >0.3044</td>\n",
       "      <td id=\"T_7591a_row4_col3\" class=\"data row4 col3\" >0.8550</td>\n",
       "      <td id=\"T_7591a_row4_col4\" class=\"data row4 col4\" >0.0519</td>\n",
       "      <td id=\"T_7591a_row4_col5\" class=\"data row4 col5\" >0.0478</td>\n",
       "    </tr>\n",
       "    <tr>\n",
       "      <th id=\"T_7591a_level0_row5\" class=\"row_heading level0 row5\" >5</th>\n",
       "      <td id=\"T_7591a_row5_col0\" class=\"data row5 col0\" >0.2371</td>\n",
       "      <td id=\"T_7591a_row5_col1\" class=\"data row5 col1\" >0.0964</td>\n",
       "      <td id=\"T_7591a_row5_col2\" class=\"data row5 col2\" >0.3104</td>\n",
       "      <td id=\"T_7591a_row5_col3\" class=\"data row5 col3\" >0.8587</td>\n",
       "      <td id=\"T_7591a_row5_col4\" class=\"data row5 col4\" >0.0524</td>\n",
       "      <td id=\"T_7591a_row5_col5\" class=\"data row5 col5\" >0.0487</td>\n",
       "    </tr>\n",
       "    <tr>\n",
       "      <th id=\"T_7591a_level0_row6\" class=\"row_heading level0 row6\" >6</th>\n",
       "      <td id=\"T_7591a_row6_col0\" class=\"data row6 col0\" >0.2300</td>\n",
       "      <td id=\"T_7591a_row6_col1\" class=\"data row6 col1\" >0.0945</td>\n",
       "      <td id=\"T_7591a_row6_col2\" class=\"data row6 col2\" >0.3075</td>\n",
       "      <td id=\"T_7591a_row6_col3\" class=\"data row6 col3\" >0.8662</td>\n",
       "      <td id=\"T_7591a_row6_col4\" class=\"data row6 col4\" >0.0521</td>\n",
       "      <td id=\"T_7591a_row6_col5\" class=\"data row6 col5\" >0.0472</td>\n",
       "    </tr>\n",
       "    <tr>\n",
       "      <th id=\"T_7591a_level0_row7\" class=\"row_heading level0 row7\" >7</th>\n",
       "      <td id=\"T_7591a_row7_col0\" class=\"data row7 col0\" >0.2215</td>\n",
       "      <td id=\"T_7591a_row7_col1\" class=\"data row7 col1\" >0.0884</td>\n",
       "      <td id=\"T_7591a_row7_col2\" class=\"data row7 col2\" >0.2974</td>\n",
       "      <td id=\"T_7591a_row7_col3\" class=\"data row7 col3\" >0.8679</td>\n",
       "      <td id=\"T_7591a_row7_col4\" class=\"data row7 col4\" >0.0503</td>\n",
       "      <td id=\"T_7591a_row7_col5\" class=\"data row7 col5\" >0.0456</td>\n",
       "    </tr>\n",
       "    <tr>\n",
       "      <th id=\"T_7591a_level0_row8\" class=\"row_heading level0 row8\" >8</th>\n",
       "      <td id=\"T_7591a_row8_col0\" class=\"data row8 col0\" >0.2152</td>\n",
       "      <td id=\"T_7591a_row8_col1\" class=\"data row8 col1\" >0.0878</td>\n",
       "      <td id=\"T_7591a_row8_col2\" class=\"data row8 col2\" >0.2962</td>\n",
       "      <td id=\"T_7591a_row8_col3\" class=\"data row8 col3\" >0.8627</td>\n",
       "      <td id=\"T_7591a_row8_col4\" class=\"data row8 col4\" >0.0509</td>\n",
       "      <td id=\"T_7591a_row8_col5\" class=\"data row8 col5\" >0.0454</td>\n",
       "    </tr>\n",
       "    <tr>\n",
       "      <th id=\"T_7591a_level0_row9\" class=\"row_heading level0 row9\" >9</th>\n",
       "      <td id=\"T_7591a_row9_col0\" class=\"data row9 col0\" >0.2023</td>\n",
       "      <td id=\"T_7591a_row9_col1\" class=\"data row9 col1\" >0.0796</td>\n",
       "      <td id=\"T_7591a_row9_col2\" class=\"data row9 col2\" >0.2821</td>\n",
       "      <td id=\"T_7591a_row9_col3\" class=\"data row9 col3\" >0.8759</td>\n",
       "      <td id=\"T_7591a_row9_col4\" class=\"data row9 col4\" >0.0486</td>\n",
       "      <td id=\"T_7591a_row9_col5\" class=\"data row9 col5\" >0.0427</td>\n",
       "    </tr>\n",
       "    <tr>\n",
       "      <th id=\"T_7591a_level0_row10\" class=\"row_heading level0 row10\" >Mean</th>\n",
       "      <td id=\"T_7591a_row10_col0\" class=\"data row10 col0\" >0.2234</td>\n",
       "      <td id=\"T_7591a_row10_col1\" class=\"data row10 col1\" >0.0903</td>\n",
       "      <td id=\"T_7591a_row10_col2\" class=\"data row10 col2\" >0.3003</td>\n",
       "      <td id=\"T_7591a_row10_col3\" class=\"data row10 col3\" >0.8650</td>\n",
       "      <td id=\"T_7591a_row10_col4\" class=\"data row10 col4\" >0.0509</td>\n",
       "      <td id=\"T_7591a_row10_col5\" class=\"data row10 col5\" >0.0462</td>\n",
       "    </tr>\n",
       "    <tr>\n",
       "      <th id=\"T_7591a_level0_row11\" class=\"row_heading level0 row11\" >Std</th>\n",
       "      <td id=\"T_7591a_row11_col0\" class=\"data row11 col0\" >0.0127</td>\n",
       "      <td id=\"T_7591a_row11_col1\" class=\"data row11 col1\" >0.0074</td>\n",
       "      <td id=\"T_7591a_row11_col2\" class=\"data row11 col2\" >0.0121</td>\n",
       "      <td id=\"T_7591a_row11_col3\" class=\"data row11 col3\" >0.0095</td>\n",
       "      <td id=\"T_7591a_row11_col4\" class=\"data row11 col4\" >0.0020</td>\n",
       "      <td id=\"T_7591a_row11_col5\" class=\"data row11 col5\" >0.0025</td>\n",
       "    </tr>\n",
       "  </tbody>\n",
       "</table>\n"
      ],
      "text/plain": [
       "<pandas.io.formats.style.Styler at 0x7f4b346cdd60>"
      ]
     },
     "metadata": {},
     "output_type": "display_data"
    },
    {
     "data": {
      "text/html": [],
      "text/plain": [
       "<IPython.core.display.HTML object>"
      ]
     },
     "metadata": {},
     "output_type": "display_data"
    },
    {
     "name": "stdout",
     "output_type": "stream",
     "text": [
      "Fitting 10 folds for each of 2 candidates, totalling 20 fits\n",
      "Original model was better than the tuned model, hence it will be returned. NOTE: The display metrics are for the tuned model (not the original one).\n"
     ]
    }
   ],
   "source": [
    "lr = tune_model(lr)"
   ]
  },
  {
   "cell_type": "code",
   "execution_count": 28,
   "id": "2736e093-441e-47b6-b4c4-a358d01b28ec",
   "metadata": {},
   "outputs": [
    {
     "data": {
      "text/plain": [
       "3.2770305"
      ]
     },
     "execution_count": 28,
     "metadata": {},
     "output_type": "execute_result"
    }
   ],
   "source": [
    "lr.intercept_"
   ]
  },
  {
   "cell_type": "code",
   "execution_count": 29,
   "id": "a9292d27-365d-49bb-8ba3-b17f98e71578",
   "metadata": {},
   "outputs": [
    {
     "data": {
      "text/plain": [
       "0.02524124"
      ]
     },
     "execution_count": 29,
     "metadata": {},
     "output_type": "execute_result"
    }
   ],
   "source": [
    "lr.coef_[0]"
   ]
  },
  {
   "cell_type": "code",
   "execution_count": 77,
   "id": "b7a2d030-a4b8-44a8-8516-87ef7923eecf",
   "metadata": {},
   "outputs": [
    {
     "data": {
      "text/html": [],
      "text/plain": [
       "<IPython.core.display.HTML object>"
      ]
     },
     "metadata": {},
     "output_type": "display_data"
    },
    {
     "data": {
      "image/png": "[encoded data removed]",
      "text/plain": [
       "<Figure size 432x288 with 2 Axes>"
      ]
     },
     "metadata": {
      "needs_background": "light"
     },
     "output_type": "display_data"
    }
   ],
   "source": [
    "plot_model(lr)"
   ]
  }
 ],
 "metadata": {
  "kernelspec": {
   "display_name": "Python 3 (ipykernel)",
   "language": "python",
   "name": "python3"
  },
  "language_info": {
   "codemirror_mode": {
    "name": "ipython",
    "version": 3
   },
   "file_extension": ".py",
   "mimetype": "text/x-python",
   "name": "python",
   "nbconvert_exporter": "python",
   "pygments_lexer": "ipython3",
   "version": "3.9.16"
  }
 },
 "nbformat": 4,
 "nbformat_minor": 5
}
