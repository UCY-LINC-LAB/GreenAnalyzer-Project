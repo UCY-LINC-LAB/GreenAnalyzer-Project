{
  "nbformat": 4,
  "nbformat_minor": 0,
  "metadata": {
    "colab": {
      "provenance": [],
      "toc_visible": true
    },
    "kernelspec": {
      "name": "python3",
      "display_name": "Python 3"
    },
    "language_info": {
      "name": "python"
    }
  },
  "cells": [
    {
      "cell_type": "markdown",
      "source": [
        "# Cyprus - Weather Forecast\n",
        "\n"
      ],
      "metadata": {
        "id": "azM23vSSQDX5"
      }
    },
    {
      "cell_type": "markdown",
      "source": [
        "## 1.Setup"
      ],
      "metadata": {
        "id": "7Th1txYNQYIa"
      }
    },
    {
      "cell_type": "code",
      "source": [
        "from IPython.display import clear_output"
      ],
      "metadata": {
        "id": "QyMrYmVx-77F"
      },
      "execution_count": null,
      "outputs": []
    },
    {
      "cell_type": "code",
      "execution_count": null,
      "metadata": {
        "id": "NrG4BglNalPz"
      },
      "outputs": [],
      "source": [
        "!pip install openmeteo-requests\n",
        "!pip install requests-cache retry-requests numpy pandas\n",
        "\n",
        "clear_output()"
      ]
    },
    {
      "cell_type": "code",
      "source": [
        "import openmeteo_requests\n",
        "import requests_cache\n",
        "import pandas as pd\n",
        "from retry_requests import retry"
      ],
      "metadata": {
        "id": "CPnD6s9G_D6j"
      },
      "execution_count": null,
      "outputs": []
    },
    {
      "cell_type": "code",
      "source": [
        "# Setup the Open-Meteo API client with cache and retry on error\n",
        "cache_session = requests_cache.CachedSession('.cache', expire_after = 3600)\n",
        "retry_session = retry(cache_session, retries = 5, backoff_factor = 0.2)\n",
        "openmeteo = openmeteo_requests.Client(session = retry_session)"
      ],
      "metadata": {
        "id": "yypSZvIW_GRk"
      },
      "execution_count": null,
      "outputs": []
    },
    {
      "cell_type": "markdown",
      "source": [
        "## 2.Get wind forecast"
      ],
      "metadata": {
        "id": "iVjQQ61dQktk"
      }
    },
    {
      "cell_type": "code",
      "source": [
        "def get_cy_wind_forecast(lati, longi, suffix):\n",
        "  url = \"https://api.open-meteo.com/v1/forecast\"\n",
        "  params = {\n",
        "\t  \"latitude\": lati,\n",
        "\t  \"longitude\": longi,\n",
        "\t  \"hourly\": [\"wind_speed_10m\", \"wind_direction_10m\", \"wind_gusts_10m\"],\n",
        "\t  \"timezone\": \"Europe/Moscow\",\n",
        "\t  \"forecast_days\": 2\n",
        "  }\n",
        "  responses = openmeteo.weather_api(url, params=params)\n",
        "\n",
        "  # Process first location. Add a for-loop for multiple locations or weather models\n",
        "  response = responses[0]\n",
        "  # print(f\"Coordinates {response.Latitude()}°N {response.Longitude()}°E\")\n",
        "  # print(f\"Elevation {response.Elevation()} m asl\")\n",
        "  # print(f\"Timezone {response.Timezone()} {response.TimezoneAbbreviation()}\")\n",
        "  # print(f\"Timezone difference to GMT+0 {response.UtcOffsetSeconds()} s\")\n",
        "\n",
        "  # Process hourly data. The order of variables needs to be the same as requested.\n",
        "  hourly = response.Hourly()\n",
        "  hourly_wind_speed_10m = hourly.Variables(0).ValuesAsNumpy()\n",
        "  hourly_wind_direction_10m = hourly.Variables(1).ValuesAsNumpy()\n",
        "  hourly_wind_gusts_10m = hourly.Variables(2).ValuesAsNumpy()\n",
        "\n",
        "  hourly_data = {\"date\": pd.date_range(\n",
        "\t  start = pd.to_datetime(hourly.Time(), unit = \"s\", utc = True),\n",
        "\t  end = pd.to_datetime(hourly.TimeEnd(), unit = \"s\", utc = True),\n",
        "\t  freq = pd.Timedelta(seconds = hourly.Interval()),\n",
        "\t  inclusive = \"left\"\n",
        "  )}\n",
        "\n",
        "  # hourly_data['date'] = hourly_data['date'].dt.tz_convert('Europe/Athens')\n",
        "  hourly_data[\"wind_speed_10m\"] = hourly_wind_speed_10m\n",
        "  hourly_data[\"wind_direction_10m\"] = hourly_wind_direction_10m\n",
        "  hourly_data[\"wind_gusts_10m\"] = hourly_wind_gusts_10m\n",
        "\n",
        "  hourly_dataframe = pd.DataFrame(data = hourly_data)\n",
        "  hourly_dataframe['date'] = hourly_dataframe['date'].dt.tz_convert('Europe/Athens')\n",
        "\n",
        "  # Adding suffix to columns 2 to 4\n",
        "  for col in hourly_dataframe.columns[1:]:  # Columns 2 to end\n",
        "    hourly_dataframe.rename(columns={col: col + suffix}, inplace=True)\n",
        "\n",
        "  return hourly_dataframe"
      ],
      "metadata": {
        "id": "oHmoMGCYbarE"
      },
      "execution_count": null,
      "outputs": []
    },
    {
      "cell_type": "code",
      "source": [
        "df_aa = get_cy_wind_forecast(34.96, 33.49, '_aa') # ayia anna windfarm"
      ],
      "metadata": {
        "id": "-le0CV_YXZHY"
      },
      "execution_count": null,
      "outputs": []
    },
    {
      "cell_type": "code",
      "source": [
        "df_aa.dtypes"
      ],
      "metadata": {
        "colab": {
          "base_uri": "https://localhost:8080/"
        },
        "id": "ZqyUfBncs7KW",
        "outputId": "7792eea6-3493-4107-ded0-c82594fb8437"
      },
      "execution_count": null,
      "outputs": [
        {
          "output_type": "execute_result",
          "data": {
            "text/plain": [
              "date                     datetime64[ns, Europe/Athens]\n",
              "wind_speed_10m_aa                              float32\n",
              "wind_direction_10m_aa                          float32\n",
              "wind_gusts_10m_aa                              float32\n",
              "dtype: object"
            ]
          },
          "metadata": {},
          "execution_count": 8
        }
      ]
    },
    {
      "cell_type": "markdown",
      "source": [
        "## 3.Get temperature forecast (Nicosia)"
      ],
      "metadata": {
        "id": "Ghdq6IvtQxaT"
      }
    },
    {
      "cell_type": "code",
      "source": [
        "def get_cy_temp_forecast(lati, longi, suffix):\n",
        "\n",
        "  url = \"https://api.open-meteo.com/v1/forecast\"\n",
        "\n",
        "  params = {\n",
        "\t  \"latitude\": lati,\n",
        "\t  \"longitude\": longi,\n",
        "\t  \"hourly\": \"apparent_temperature\",\n",
        "\t  \"timezone\": \"Europe/Moscow\",\n",
        "\t  \"forecast_days\": 2\n",
        "  }\n",
        "\n",
        "  responses = openmeteo.weather_api(url, params=params)\n",
        "\n",
        "  # Process first location. Add a for-loop for multiple locations or weather models\n",
        "  response = responses[0]\n",
        "\n",
        "  # Process hourly data. The order of variables needs to be the same as requested.\n",
        "  hourly = response.Hourly()\n",
        "  hourly_apparent_temperature = hourly.Variables(0).ValuesAsNumpy()\n",
        "\n",
        "  hourly_data = {\"date\": pd.date_range(\n",
        "\t  start = pd.to_datetime(hourly.Time(), unit = \"s\", utc = True),\n",
        "\t  end = pd.to_datetime(hourly.TimeEnd(), unit = \"s\", utc = True),\n",
        "\t  freq = pd.Timedelta(seconds = hourly.Interval()),\n",
        "\t  inclusive = \"left\"\n",
        "  )}\n",
        "\n",
        "  hourly_data[\"apparent_temperature\"] = hourly_apparent_temperature\n",
        "\n",
        "  hourly_dataframe = pd.DataFrame(data = hourly_data)\n",
        "\n",
        "  # Adding suffix\n",
        "  for col in hourly_dataframe.columns[1:]:  # Columns 2 to end\n",
        "    hourly_dataframe.rename(columns={col: col + suffix}, inplace=True)\n",
        "\n",
        "  return hourly_dataframe"
      ],
      "metadata": {
        "id": "Ox_6gXIlEH2S"
      },
      "execution_count": null,
      "outputs": []
    },
    {
      "cell_type": "markdown",
      "source": [
        "## 4.Combine for 24h forecast"
      ],
      "metadata": {
        "id": "Qnx8yG8PQ4r-"
      }
    },
    {
      "cell_type": "code",
      "source": [
        "def get_cy_weather_forecast():\n",
        "\n",
        "  # Alexigiros windfarm -> https://www.thewindpower.net/windfarm_en_15412_alexigros.php\n",
        "  df_ag = get_cy_wind_forecast(34.8694, 33.5168, '_ag')\n",
        "  # Ayia Anna -> https://www.thewindpower.net/windfarm_en_15926_ayia-anna.php\n",
        "  df_aa = get_cy_wind_forecast(34.9609, 33.4916, '_aa')\n",
        "  # Orites windfarm -> https://www.thewindpower.net/windfarm_en_17098_orites.php\n",
        "  df_or = get_cy_wind_forecast(34.7394, 32.6574, \"_or\")\n",
        "  # Nicosia apparent temperature\n",
        "  df_nic = get_cy_temp_forecast(35.19, 33.38, \"_nic\") # nicosia temperature\n",
        "\n",
        "  df_combined = df_ag.merge(df_aa, on='date', how='inner').merge(df_or, on='date', how='inner').merge(df_nic, on='date', how='inner')\n",
        "\n",
        "  # Create a naive datetime64 object (without time zone)\n",
        "  current_datetime_utc = pd.Timestamp.utcnow().to_datetime64()\n",
        "\n",
        "  # Convert to a Timestamp and add a time zone (for example, UTC)\n",
        "  timestamp_with_tz = pd.Timestamp(current_datetime_utc).tz_localize('UTC').tz_convert('Europe/Athens')\n",
        "\n",
        "  # Filter for future forecast\n",
        "  df_combined = df_combined[df_combined.date>timestamp_with_tz].reset_index(drop = True)\n",
        "  df_combined = df_combined.head(24)\n",
        "\n",
        "  # df_combined['index'] = 1\n",
        "  df_combined['fc_h'] = range(1, len(df_combined) + 1)\n",
        "\n",
        "  df_combined = df_combined.drop(columns=['date']).melt(id_vars=['fc_h'], var_name='variable', value_name='measurement')\n",
        "\n",
        "  df_combined['timestamp'] = timestamp_with_tz.round('S')\n",
        "\n",
        "  return df_combined"
      ],
      "metadata": {
        "id": "qF3JBc8_JPI0"
      },
      "execution_count": null,
      "outputs": []
    },
    {
      "cell_type": "code",
      "source": [],
      "metadata": {
        "id": "BgtYOQT7Piw2"
      },
      "execution_count": null,
      "outputs": []
    },
    {
      "cell_type": "code",
      "source": [
        "get_cy_weather_forecast()"
      ],
      "metadata": {
        "colab": {
          "base_uri": "https://localhost:8080/",
          "height": 423
        },
        "id": "KHx99XdCJw07",
        "outputId": "4675db65-de9b-4e2a-f937-6f9c6684c55c"
      },
      "execution_count": null,
      "outputs": [
        {
          "output_type": "execute_result",
          "data": {
            "text/plain": [
              "     fc_h                  variable  measurement                 timestamp\n",
              "0       1         wind_speed_10m_ag    19.721298 2024-06-26 15:04:22+03:00\n",
              "1       2         wind_speed_10m_ag    18.057508 2024-06-26 15:04:22+03:00\n",
              "2       3         wind_speed_10m_ag    13.049689 2024-06-26 15:04:22+03:00\n",
              "3       4         wind_speed_10m_ag     7.100310 2024-06-26 15:04:22+03:00\n",
              "4       5         wind_speed_10m_ag     1.527351 2024-06-26 15:04:22+03:00\n",
              "..    ...                       ...          ...                       ...\n",
              "235    20  apparent_temperature_nic    39.429123 2024-06-26 15:04:22+03:00\n",
              "236    21  apparent_temperature_nic    42.243244 2024-06-26 15:04:22+03:00\n",
              "237    22  apparent_temperature_nic    41.634148 2024-06-26 15:04:22+03:00\n",
              "238    23  apparent_temperature_nic    42.886421 2024-06-26 15:04:22+03:00\n",
              "239    24  apparent_temperature_nic    43.222141 2024-06-26 15:04:22+03:00\n",
              "\n",
              "[240 rows x 4 columns]"
            ],
            "text/html": [
              "\n",
              "  <div id=\"df-25392a52-6b71-46b4-9cc5-1acb36d7fb76\" class=\"colab-df-container\">\n",
              "    <div>\n",
              "<style scoped>\n",
              "    .dataframe tbody tr th:only-of-type {\n",
              "        vertical-align: middle;\n",
              "    }\n",
              "\n",
              "    .dataframe tbody tr th {\n",
              "        vertical-align: top;\n",
              "    }\n",
              "\n",
              "    .dataframe thead th {\n",
              "        text-align: right;\n",
              "    }\n",
              "</style>\n",
              "<table border=\"1\" class=\"dataframe\">\n",
              "  <thead>\n",
              "    <tr style=\"text-align: right;\">\n",
              "      <th></th>\n",
              "      <th>fc_h</th>\n",
              "      <th>variable</th>\n",
              "      <th>measurement</th>\n",
              "      <th>timestamp</th>\n",
              "    </tr>\n",
              "  </thead>\n",
              "  <tbody>\n",
              "    <tr>\n",
              "      <th>0</th>\n",
              "      <td>1</td>\n",
              "      <td>wind_speed_10m_ag</td>\n",
              "      <td>19.721298</td>\n",
              "      <td>2024-06-26 15:04:22+03:00</td>\n",
              "    </tr>\n",
              "    <tr>\n",
              "      <th>1</th>\n",
              "      <td>2</td>\n",
              "      <td>wind_speed_10m_ag</td>\n",
              "      <td>18.057508</td>\n",
              "      <td>2024-06-26 15:04:22+03:00</td>\n",
              "    </tr>\n",
              "    <tr>\n",
              "      <th>2</th>\n",
              "      <td>3</td>\n",
              "      <td>wind_speed_10m_ag</td>\n",
              "      <td>13.049689</td>\n",
              "      <td>2024-06-26 15:04:22+03:00</td>\n",
              "    </tr>\n",
              "    <tr>\n",
              "      <th>3</th>\n",
              "      <td>4</td>\n",
              "      <td>wind_speed_10m_ag</td>\n",
              "      <td>7.100310</td>\n",
              "      <td>2024-06-26 15:04:22+03:00</td>\n",
              "    </tr>\n",
              "    <tr>\n",
              "      <th>4</th>\n",
              "      <td>5</td>\n",
              "      <td>wind_speed_10m_ag</td>\n",
              "      <td>1.527351</td>\n",
              "      <td>2024-06-26 15:04:22+03:00</td>\n",
              "    </tr>\n",
              "    <tr>\n",
              "      <th>...</th>\n",
              "      <td>...</td>\n",
              "      <td>...</td>\n",
              "      <td>...</td>\n",
              "      <td>...</td>\n",
              "    </tr>\n",
              "    <tr>\n",
              "      <th>235</th>\n",
              "      <td>20</td>\n",
              "      <td>apparent_temperature_nic</td>\n",
              "      <td>39.429123</td>\n",
              "      <td>2024-06-26 15:04:22+03:00</td>\n",
              "    </tr>\n",
              "    <tr>\n",
              "      <th>236</th>\n",
              "      <td>21</td>\n",
              "      <td>apparent_temperature_nic</td>\n",
              "      <td>42.243244</td>\n",
              "      <td>2024-06-26 15:04:22+03:00</td>\n",
              "    </tr>\n",
              "    <tr>\n",
              "      <th>237</th>\n",
              "      <td>22</td>\n",
              "      <td>apparent_temperature_nic</td>\n",
              "      <td>41.634148</td>\n",
              "      <td>2024-06-26 15:04:22+03:00</td>\n",
              "    </tr>\n",
              "    <tr>\n",
              "      <th>238</th>\n",
              "      <td>23</td>\n",
              "      <td>apparent_temperature_nic</td>\n",
              "      <td>42.886421</td>\n",
              "      <td>2024-06-26 15:04:22+03:00</td>\n",
              "    </tr>\n",
              "    <tr>\n",
              "      <th>239</th>\n",
              "      <td>24</td>\n",
              "      <td>apparent_temperature_nic</td>\n",
              "      <td>43.222141</td>\n",
              "      <td>2024-06-26 15:04:22+03:00</td>\n",
              "    </tr>\n",
              "  </tbody>\n",
              "</table>\n",
              "<p>240 rows × 4 columns</p>\n",
              "</div>\n",
              "    <div class=\"colab-df-buttons\">\n",
              "\n",
              "  <div class=\"colab-df-container\">\n",
              "    <button class=\"colab-df-convert\" onclick=\"convertToInteractive('df-25392a52-6b71-46b4-9cc5-1acb36d7fb76')\"\n",
              "            title=\"Convert this dataframe to an interactive table.\"\n",
              "            style=\"display:none;\">\n",
              "\n",
              "  <svg xmlns=\"http://www.w3.org/2000/svg\" height=\"24px\" viewBox=\"0 -960 960 960\">\n",
              "    <path d=\"M120-120v-720h720v720H120Zm60-500h600v-160H180v160Zm220 220h160v-160H400v160Zm0 220h160v-160H400v160ZM180-400h160v-160H180v160Zm440 0h160v-160H620v160ZM180-180h160v-160H180v160Zm440 0h160v-160H620v160Z\"/>\n",
              "  </svg>\n",
              "    </button>\n",
              "\n",
              "  <style>\n",
              "    .colab-df-container {\n",
              "      display:flex;\n",
              "      gap: 12px;\n",
              "    }\n",
              "\n",
              "    .colab-df-convert {\n",
              "      background-color: #E8F0FE;\n",
              "      border: none;\n",
              "      border-radius: 50%;\n",
              "      cursor: pointer;\n",
              "      display: none;\n",
              "      fill: #1967D2;\n",
              "      height: 32px;\n",
              "      padding: 0 0 0 0;\n",
              "      width: 32px;\n",
              "    }\n",
              "\n",
              "    .colab-df-convert:hover {\n",
              "      background-color: #E2EBFA;\n",
              "      box-shadow: 0px 1px 2px rgba(60, 64, 67, 0.3), 0px 1px 3px 1px rgba(60, 64, 67, 0.15);\n",
              "      fill: #174EA6;\n",
              "    }\n",
              "\n",
              "    .colab-df-buttons div {\n",
              "      margin-bottom: 4px;\n",
              "    }\n",
              "\n",
              "    [theme=dark] .colab-df-convert {\n",
              "      background-color: #3B4455;\n",
              "      fill: #D2E3FC;\n",
              "    }\n",
              "\n",
              "    [theme=dark] .colab-df-convert:hover {\n",
              "      background-color: #434B5C;\n",
              "      box-shadow: 0px 1px 3px 1px rgba(0, 0, 0, 0.15);\n",
              "      filter: drop-shadow(0px 1px 2px rgba(0, 0, 0, 0.3));\n",
              "      fill: #FFFFFF;\n",
              "    }\n",
              "  </style>\n",
              "\n",
              "    <script>\n",
              "      const buttonEl =\n",
              "        document.querySelector('#df-25392a52-6b71-46b4-9cc5-1acb36d7fb76 button.colab-df-convert');\n",
              "      buttonEl.style.display =\n",
              "        google.colab.kernel.accessAllowed ? 'block' : 'none';\n",
              "\n",
              "      async function convertToInteractive(key) {\n",
              "        const element = document.querySelector('#df-25392a52-6b71-46b4-9cc5-1acb36d7fb76');\n",
              "        const dataTable =\n",
              "          await google.colab.kernel.invokeFunction('convertToInteractive',\n",
              "                                                    [key], {});\n",
              "        if (!dataTable) return;\n",
              "\n",
              "        const docLinkHtml = 'Like what you see? Visit the ' +\n",
              "          '<a target=\"_blank\" href=https://colab.research.google.com/notebooks/data_table.ipynb>data table notebook</a>'\n",
              "          + ' to learn more about interactive tables.';\n",
              "        element.innerHTML = '';\n",
              "        dataTable['output_type'] = 'display_data';\n",
              "        await google.colab.output.renderOutput(dataTable, element);\n",
              "        const docLink = document.createElement('div');\n",
              "        docLink.innerHTML = docLinkHtml;\n",
              "        element.appendChild(docLink);\n",
              "      }\n",
              "    </script>\n",
              "  </div>\n",
              "\n",
              "\n",
              "<div id=\"df-17971ab4-fd50-489d-b36c-4259f4476655\">\n",
              "  <button class=\"colab-df-quickchart\" onclick=\"quickchart('df-17971ab4-fd50-489d-b36c-4259f4476655')\"\n",
              "            title=\"Suggest charts\"\n",
              "            style=\"display:none;\">\n",
              "\n",
              "<svg xmlns=\"http://www.w3.org/2000/svg\" height=\"24px\"viewBox=\"0 0 24 24\"\n",
              "     width=\"24px\">\n",
              "    <g>\n",
              "        <path d=\"M19 3H5c-1.1 0-2 .9-2 2v14c0 1.1.9 2 2 2h14c1.1 0 2-.9 2-2V5c0-1.1-.9-2-2-2zM9 17H7v-7h2v7zm4 0h-2V7h2v10zm4 0h-2v-4h2v4z\"/>\n",
              "    </g>\n",
              "</svg>\n",
              "  </button>\n",
              "\n",
              "<style>\n",
              "  .colab-df-quickchart {\n",
              "      --bg-color: #E8F0FE;\n",
              "      --fill-color: #1967D2;\n",
              "      --hover-bg-color: #E2EBFA;\n",
              "      --hover-fill-color: #174EA6;\n",
              "      --disabled-fill-color: #AAA;\n",
              "      --disabled-bg-color: #DDD;\n",
              "  }\n",
              "\n",
              "  [theme=dark] .colab-df-quickchart {\n",
              "      --bg-color: #3B4455;\n",
              "      --fill-color: #D2E3FC;\n",
              "      --hover-bg-color: #434B5C;\n",
              "      --hover-fill-color: #FFFFFF;\n",
              "      --disabled-bg-color: #3B4455;\n",
              "      --disabled-fill-color: #666;\n",
              "  }\n",
              "\n",
              "  .colab-df-quickchart {\n",
              "    background-color: var(--bg-color);\n",
              "    border: none;\n",
              "    border-radius: 50%;\n",
              "    cursor: pointer;\n",
              "    display: none;\n",
              "    fill: var(--fill-color);\n",
              "    height: 32px;\n",
              "    padding: 0;\n",
              "    width: 32px;\n",
              "  }\n",
              "\n",
              "  .colab-df-quickchart:hover {\n",
              "    background-color: var(--hover-bg-color);\n",
              "    box-shadow: 0 1px 2px rgba(60, 64, 67, 0.3), 0 1px 3px 1px rgba(60, 64, 67, 0.15);\n",
              "    fill: var(--button-hover-fill-color);\n",
              "  }\n",
              "\n",
              "  .colab-df-quickchart-complete:disabled,\n",
              "  .colab-df-quickchart-complete:disabled:hover {\n",
              "    background-color: var(--disabled-bg-color);\n",
              "    fill: var(--disabled-fill-color);\n",
              "    box-shadow: none;\n",
              "  }\n",
              "\n",
              "  .colab-df-spinner {\n",
              "    border: 2px solid var(--fill-color);\n",
              "    border-color: transparent;\n",
              "    border-bottom-color: var(--fill-color);\n",
              "    animation:\n",
              "      spin 1s steps(1) infinite;\n",
              "  }\n",
              "\n",
              "  @keyframes spin {\n",
              "    0% {\n",
              "      border-color: transparent;\n",
              "      border-bottom-color: var(--fill-color);\n",
              "      border-left-color: var(--fill-color);\n",
              "    }\n",
              "    20% {\n",
              "      border-color: transparent;\n",
              "      border-left-color: var(--fill-color);\n",
              "      border-top-color: var(--fill-color);\n",
              "    }\n",
              "    30% {\n",
              "      border-color: transparent;\n",
              "      border-left-color: var(--fill-color);\n",
              "      border-top-color: var(--fill-color);\n",
              "      border-right-color: var(--fill-color);\n",
              "    }\n",
              "    40% {\n",
              "      border-color: transparent;\n",
              "      border-right-color: var(--fill-color);\n",
              "      border-top-color: var(--fill-color);\n",
              "    }\n",
              "    60% {\n",
              "      border-color: transparent;\n",
              "      border-right-color: var(--fill-color);\n",
              "    }\n",
              "    80% {\n",
              "      border-color: transparent;\n",
              "      border-right-color: var(--fill-color);\n",
              "      border-bottom-color: var(--fill-color);\n",
              "    }\n",
              "    90% {\n",
              "      border-color: transparent;\n",
              "      border-bottom-color: var(--fill-color);\n",
              "    }\n",
              "  }\n",
              "</style>\n",
              "\n",
              "  <script>\n",
              "    async function quickchart(key) {\n",
              "      const quickchartButtonEl =\n",
              "        document.querySelector('#' + key + ' button');\n",
              "      quickchartButtonEl.disabled = true;  // To prevent multiple clicks.\n",
              "      quickchartButtonEl.classList.add('colab-df-spinner');\n",
              "      try {\n",
              "        const charts = await google.colab.kernel.invokeFunction(\n",
              "            'suggestCharts', [key], {});\n",
              "      } catch (error) {\n",
              "        console.error('Error during call to suggestCharts:', error);\n",
              "      }\n",
              "      quickchartButtonEl.classList.remove('colab-df-spinner');\n",
              "      quickchartButtonEl.classList.add('colab-df-quickchart-complete');\n",
              "    }\n",
              "    (() => {\n",
              "      let quickchartButtonEl =\n",
              "        document.querySelector('#df-17971ab4-fd50-489d-b36c-4259f4476655 button');\n",
              "      quickchartButtonEl.style.display =\n",
              "        google.colab.kernel.accessAllowed ? 'block' : 'none';\n",
              "    })();\n",
              "  </script>\n",
              "</div>\n",
              "\n",
              "    </div>\n",
              "  </div>\n"
            ],
            "application/vnd.google.colaboratory.intrinsic+json": {
              "type": "dataframe",
              "summary": "{\n  \"name\": \"get_cy_weather_forecast()\",\n  \"rows\": 240,\n  \"fields\": [\n    {\n      \"column\": \"fc_h\",\n      \"properties\": {\n        \"dtype\": \"number\",\n        \"std\": 6,\n        \"min\": 1,\n        \"max\": 24,\n        \"num_unique_values\": 24,\n        \"samples\": [\n          9,\n          17,\n          1\n        ],\n        \"semantic_type\": \"\",\n        \"description\": \"\"\n      }\n    },\n    {\n      \"column\": \"variable\",\n      \"properties\": {\n        \"dtype\": \"category\",\n        \"num_unique_values\": 10,\n        \"samples\": [\n          \"wind_gusts_10m_or\",\n          \"wind_direction_10m_ag\",\n          \"wind_gusts_10m_aa\"\n        ],\n        \"semantic_type\": \"\",\n        \"description\": \"\"\n      }\n    },\n    {\n      \"column\": \"measurement\",\n      \"properties\": {\n        \"dtype\": \"float32\",\n        \"num_unique_values\": 208,\n        \"samples\": [\n          48.366554260253906,\n          4.379589080810547,\n          10.829957962036133\n        ],\n        \"semantic_type\": \"\",\n        \"description\": \"\"\n      }\n    },\n    {\n      \"column\": \"timestamp\",\n      \"properties\": {\n        \"dtype\": \"date\",\n        \"min\": \"2024-06-26 15:04:22+03:00\",\n        \"max\": \"2024-06-26 15:04:22+03:00\",\n        \"num_unique_values\": 1,\n        \"samples\": [\n          \"2024-06-26 15:04:22+03:00\"\n        ],\n        \"semantic_type\": \"\",\n        \"description\": \"\"\n      }\n    }\n  ]\n}"
            }
          },
          "metadata": {},
          "execution_count": 26
        }
      ]
    },
    {
      "cell_type": "code",
      "source": [
        "get_cy_weather_forecast().variable.unique()"
      ],
      "metadata": {
        "colab": {
          "base_uri": "https://localhost:8080/"
        },
        "id": "LlSYn_VZqmin",
        "outputId": "055db7e3-e4f3-4b01-9862-c046353bcee4"
      },
      "execution_count": null,
      "outputs": [
        {
          "output_type": "execute_result",
          "data": {
            "text/plain": [
              "array(['wind_speed_10m_ag', 'wind_direction_10m_ag', 'wind_gusts_10m_ag',\n",
              "       'wind_speed_10m_aa', 'wind_direction_10m_aa', 'wind_gusts_10m_aa',\n",
              "       'wind_speed_10m_or', 'wind_direction_10m_or', 'wind_gusts_10m_or',\n",
              "       'apparent_temperature_nic'], dtype=object)"
            ]
          },
          "metadata": {},
          "execution_count": 27
        }
      ]
    },
    {
      "cell_type": "code",
      "source": [
        "# def get_cy_current_forecast(num_fc_hrs):\n",
        "\n",
        "#   df_ag = get_weather_forecast(34.87, 33.52, '_ag') #alexigiros windfarm\n",
        "#   df_aa = get_weather_forecast(34.96, 33.49, '_aa') # ayia anna windfarm\n",
        "#   df_or = get_weather_forecast(34.74, 32.66, \"_or\") # orites windfarm\n",
        "\n",
        "#   df_combined = df_ag.merge(df_aa, on='date', how='inner').merge(df_or, on='date', how='inner')\n",
        "\n",
        "#   # Create a naive datetime64 object (without time zone)\n",
        "#   current_datetime_utc = pd.Timestamp.utcnow().to_datetime64()\n",
        "\n",
        "#   # Convert to a Timestamp and add a time zone (for example, UTC)\n",
        "#   timestamp_with_tz = pd.Timestamp(current_datetime_utc).tz_localize('UTC').tz_convert('Europe/Athens')\n",
        "\n",
        "#   # Filter for future forecast\n",
        "#   df_combined = df_combined[df_combined.date>timestamp_with_tz].reset_index(drop = True)\n",
        "\n",
        "#   df_combined['index'] = 1\n",
        "#   df_combined['fc_h'] = range(1, len(df_combined) + 1)\n",
        "\n",
        "#   # Pivoting the DataFrame\n",
        "#   columns_to_pivot = ['index', 'fc_h', 'date']  # Adjust as per your actual column names\n",
        "#   selected_columns = [col for col in df_combined.columns if col not in columns_to_pivot] #   # Selecting all columns except 'index', 'fc_h', 'date' using a for loop\n",
        "\n",
        "#   df_combined_pivoted = df_combined.head(num_fc_hrs).pivot(index='index', columns='fc_h', values=selected_columns)\n",
        "\n",
        "#   # Flattening the multi-index columns\n",
        "#   df_combined_pivoted.columns = [f'{name}_{hour}' for name, hour in df_combined_pivoted.columns]\n",
        "\n",
        "#   df_combined_pivoted = df_combined_pivoted.reset_index(drop = True)\n",
        "\n",
        "#   # Create a list of columns with the desired order\n",
        "#   df_combined_pivoted['timestamp'] = timestamp_with_tz\n",
        "#   # Reorder the columns in the DataFrame\n",
        "#   new_column_order = ['timestamp'] + [col for col in df_combined_pivoted.columns if col != 'timestamp']\n",
        "#   df_combined_pivoted = df_combined_pivoted[new_column_order]\n",
        "\n",
        "#   return df_combined_pivoted"
      ],
      "metadata": {
        "id": "5hgX33dMl-3t"
      },
      "execution_count": null,
      "outputs": []
    },
    {
      "cell_type": "code",
      "source": [],
      "metadata": {
        "id": "T7A4kGGvsuJB"
      },
      "execution_count": null,
      "outputs": []
    }
  ]
}