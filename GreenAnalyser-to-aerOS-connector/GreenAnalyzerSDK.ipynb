{
 "cells": [
  {
   "cell_type": "code",
   "execution_count": 22,
   "id": "577a54a3-140c-4ef0-9658-f56745d62f7c",
   "metadata": {},
   "outputs": [],
   "source": [
    "import requests\n",
    "\n",
    "import yaml\n",
    "\n",
    "class GreenAnalyzerConnector(object):\n",
    "\n",
    "    def __init__(self, url: str = \"http://localhost:8000\", configs_file: str = \"connector-configs.yaml\", aerOS_url: str = \"https://ncsrd-mvp-domain.aeros-project.eu\"):\n",
    "\n",
    "        with open(configs_file) as stream:\n",
    "            self.configs = yaml.safe_load(stream)\n",
    "        self.aerOS_headers = { \"Authorization\": self.configs[\"authorization\"] }\n",
    "                \n",
    "        self.url = url\n",
    "        self.aerOS_url = aerOS_url\n",
    "        \n",
    "\n",
    "    def get_aerOS_domains(self):\n",
    "        return requests.get(f\"{self.aerOS_url}/entities?format=simplified&type=Domain\", headers = self.aerOS_headers).json()\n",
    "    \n",
    "    def get_aerOS_infrastructure_entities(self):\n",
    "        return requests.get(f\"{self.aerOS_url}/entities?type=InfrastructureElement&format=simplified\", headers = self.aerOS_headers).json()\n",
    "\n",
    "    \n",
    "    def get_data_from_res(self, res, lat=None, lon=None):\n",
    "        if lat and lon:\n",
    "            data = {\n",
    "                \"latitude\": lat, \"longitude\": lon\n",
    "            }\n",
    "            return requests.get(f\"{self.url}/api/res/{res}/predict/\", json=data).json()\n",
    "            \n",
    "        return requests.get(f\"{self.url}/api/res/{res}/predict/\").json()\n",
    "    \n",
    "    def get_energy_mix_from_country(self, country):\n",
    "        data = {\"country\": country.upper()}\n",
    "        return requests.get(f\"{self.url}/api/country_energy_mix/\", json=data).json()\n",
    "\n",
    "    def get_energy_consumption_parameters(self, model_id):\n",
    "        return requests.get(f\"{self.url}/api/energy_profile/{model_id}/\").json()\n",
    "\n",
    "        \n",
    "        \n",
    "        # return {\"dynamic\": 4.0, \"static\": 2.0}\n",
    "        # return requests.get(f\"{self.url}/api/consumption/{model_id}/parameters/\", json=data).json()\n",
    "\n",
    "\n",
    "    def set_energy_mix_predictions(self, domain_id, predictions):\n",
    "        pv_only_numbers = [int(p[\"pred\"]) for p in predictions[\"pv\"]]\n",
    "        wind_only_numbers = [int(p[\"pred\"]) for p in predictions[\"wind\"]]\n",
    "        total_only_numbers = [int(p[\"pred\"]) for p in predictions[\"total\"]]\n",
    "        carbon_intensity_only_numbers = [int(p[\"pred\"]) for p in predictions[\"carbon_intensity\"]]\n",
    "\n",
    "        \n",
    "        res = requests.post(f\"{self.aerOS_url}/entities/{domain_id}/attrs/\", json = { \n",
    "            f\"GreenAnalyzerEnergyMix:pv\":{\"value\": pv_only_numbers,\"type\": \"Property\"},\n",
    "            f\"GreenAnalyzerEnergyMix:wind\":{\"value\": wind_only_numbers,\"type\": \"Property\"},\n",
    "            f\"GreenAnalyzerEnergyMix:total\":{\"value\": total_only_numbers,\"type\": \"Property\"},\n",
    "            f\"GreenAnalyzerEnergyMix:carbonIntensity\":{\"value\": carbon_intensity_only_numbers,\"type\": \"Property\"} }, headers = self.aerOS_headers)\n",
    "        \n",
    "        print(\"Energy Mix predictions are inserted\")\n",
    "        return res\n",
    "\n",
    "\n",
    "\n",
    "    def set_res_predictions(self, domain_id, res_id, predictions):\n",
    "        only_numbers = [int(p[\"prediction\"]) for p in predictions]\n",
    "\n",
    "        print(\"RES predictions are inserted\", only_numbers, res_id)\n",
    "        res =requests.post(f\"{self.aerOS_url}/entities/{domain_id}/attrs/\", json = { f\"GreenAnalyzerRES:{res_id}\":{\n",
    "                                                                                        \"value\": only_numbers,\"type\": \"Property\"}\n",
    "                                                                            }, headers = self.aerOS_headers)\n",
    "        print (res)\n",
    "        return res\n",
    "\n",
    "\n",
    "    \n",
    "    def set_energy_profile(self, node_id, parameters):\n",
    "        print(node_id, parameters)\n",
    "\n",
    "        return requests.post(f\"{self.aerOS_url}/entities/{node_id}/attrs/\", json = { \"GreenAnalyzerEnergyProfile:dynamic\":{\n",
    "                                                                                                \"value\": parameters[\"dynamic\"],\n",
    "                                                                                                \"type\": \"Property\"},\n",
    "                                                                                    \"GreenAnalyzerEnergyProfile:static\":{\n",
    "                                                                                                \"value\": parameters[\"static\"],\n",
    "                                                                                                \"type\": \"Property\"}\n",
    "                                                                                    }, headers = self.aerOS_headers)\n",
    "\n",
    "        print(f\"energy consumption parameters inserted at {node_id} ({parameters})\")\n",
    "\n"
   ]
  },
  {
   "cell_type": "code",
   "execution_count": 23,
   "id": "9f8353e7-7be9-43bb-ab38-9fdde7bee192",
   "metadata": {},
   "outputs": [],
   "source": [
    "green_analyzer_connector = GreenAnalyzerConnector()"
   ]
  },
  {
   "cell_type": "code",
   "execution_count": 24,
   "id": "1e52b57d-4410-432a-a046-80d195779ecb",
   "metadata": {},
   "outputs": [
    {
     "name": "stdout",
     "output_type": "stream",
     "text": [
      "urn:ngsi-ld:Domain:ucy:01 ['urn:ngsi-ld:Domain:NCSRD', 'urn:ngsi-ld:Domain:ucy:01', 'urn:ngsi-ld:Domain:CloudFerro']\n",
      "Energy Mix predictions are inserted\n"
     ]
    }
   ],
   "source": [
    "# Update the domain with Carbon Emission and Energy Mix\n",
    "\n",
    "for domain in green_analyzer_connector.configs['domains']:\n",
    "    country = green_analyzer_connector.configs['domains'][domain][\"country\"]\n",
    "    domains = green_analyzer_connector.get_aerOS_domains()\n",
    "    domains = [d['id'] for d in domains]\n",
    "    print(domain, domains)\n",
    "\n",
    "    if domain not in domains: continue\n",
    "\n",
    "    # Energy Mix of a Country\n",
    "    predictions = green_analyzer_connector.get_energy_mix_from_country(country)\n",
    "    \n",
    "    out = green_analyzer_connector.set_energy_mix_predictions(domain, predictions)\n",
    "    \n",
    "    \n",
    "    RESs = green_analyzer_connector.configs['domains'][domain].get(\"RES\", [])\n",
    "    for res in RESs:\n",
    "        model_name = res['model_name']        \n",
    "        lat = res['location'][\"lat\"]\n",
    "        lon = res['location'][\"lat\"]\n",
    "        predictions = green_analyzer_connector.get_data_from_res(model_name, lat, lon)\n",
    "        green_analyzer_connector.set_res_predictions(domain, model_name, predictions)\n",
    "        "
   ]
  },
  {
   "cell_type": "code",
   "execution_count": 133,
   "id": "9090ab88-a2a0-4690-bbdd-613b04c416a1",
   "metadata": {},
   "outputs": [
    {
     "name": "stdout",
     "output_type": "stream",
     "text": [
      "urn:ngsi-ld:InfrastructureElement:ucypi {'name': 'RPI4', 'dynamic': 0.02524124, 'static': 3.2770305}\n"
     ]
    }
   ],
   "source": [
    "# Update the energy consumption profiles with static and dynamic power needs\n",
    "\n",
    "for infra_power in green_analyzer_connector.configs['energy-profiles']:\n",
    "    infra_entities = green_analyzer_connector.get_aerOS_infrastructure_entities()\n",
    "    entity_ids = [entity[\"id\"] for entity in infra_entities]\n",
    "    \n",
    "    if infra_power['infrastructure_element_id'] in entity_ids:\n",
    "        params = green_analyzer_connector.get_energy_consumption_parameters(infra_power[\"energy_model_id\"])\n",
    "        test = green_analyzer_connector.set_energy_profile(infra_power['infrastructure_element_id'], params)\n"
   ]
  },
  {
   "cell_type": "code",
   "execution_count": 25,
   "id": "1571cbb2-8a3c-42f5-adbe-04980b62edf5",
   "metadata": {},
   "outputs": [
    {
     "data": {
      "text/plain": [
       "<Response [204]>"
      ]
     },
     "execution_count": 25,
     "metadata": {},
     "output_type": "execute_result"
    }
   ],
   "source": [
    "out"
   ]
  },
  {
   "cell_type": "code",
   "execution_count": 17,
   "id": "a6d07053-1a06-4ac0-8067-5b887f6f9404",
   "metadata": {},
   "outputs": [
    {
     "data": {
      "text/plain": [
       "[325018,\n",
       " 323351,\n",
       " 311639,\n",
       " 317595,\n",
       " 358146,\n",
       " 465158,\n",
       " 563035,\n",
       " 595228,\n",
       " 574233,\n",
       " 540604,\n",
       " 497677,\n",
       " 444966,\n",
       " 398803,\n",
       " 368244,\n",
       " 351741,\n",
       " 344528,\n",
       " 347757,\n",
       " 357791,\n",
       " 396002,\n",
       " 460742,\n",
       " 448107,\n",
       " 351652,\n",
       " 302255,\n",
       " 294613,\n",
       " 290555,\n",
       " 288650,\n",
       " 286892,\n",
       " 303072,\n",
       " 348699,\n",
       " 451076,\n",
       " 549194,\n",
       " 573198,\n",
       " 558106,\n",
       " 528865,\n",
       " 487358,\n",
       " 440315,\n",
       " 399638,\n",
       " 369808,\n",
       " 352272,\n",
       " 343815,\n",
       " 344146,\n",
       " 355228,\n",
       " 393115,\n",
       " 458608,\n",
       " 453642,\n",
       " 354754,\n",
       " 299254,\n",
       " 285508,\n",
       " 290709,\n",
       " 294509,\n",
       " 298698,\n",
       " 323506,\n",
       " 363883,\n",
       " 460658,\n",
       " 550768,\n",
       " 568611,\n",
       " 559948,\n",
       " 532817,\n",
       " 491437,\n",
       " 449393]"
      ]
     },
     "execution_count": 17,
     "metadata": {},
     "output_type": "execute_result"
    }
   ],
   "source": [
    "[int(p[\"pred\"]) for p in predictions[\"carbon_intensity\"]]"
   ]
  },
  {
   "cell_type": "code",
   "execution_count": 8,
   "id": "74790350-7228-49f6-9cc5-ad10c3a34805",
   "metadata": {},
   "outputs": [
    {
     "data": {
      "text/plain": [
       "'urn:ngsi-ld:Domain:ucy:01'"
      ]
     },
     "execution_count": 8,
     "metadata": {},
     "output_type": "execute_result"
    }
   ],
   "source": [
    "domain"
   ]
  },
  {
   "cell_type": "code",
   "execution_count": 173,
   "id": "56d0c542-1b56-468f-a50b-0fcf3500b287",
   "metadata": {},
   "outputs": [
    {
     "data": {
      "text/plain": [
       "[{'id': 'urn:ngsi-ld:Domain:NCSRD',\n",
       "  'type': 'Domain',\n",
       "  'description': 'NCSRD aerOS MVP Domain',\n",
       "  'publicUrl': 'https://ncsrd-mvp-domain.aeros-project.eu',\n",
       "  'owner': ['urn:ngsi-ld:Organization:NCSRD'],\n",
       "  'isEntrypoint': False,\n",
       "  'domainStatus': 'urn:ngsi-ld:DomainStatus:Functional',\n",
       "  'publicKey': 'k8hAPelai4z1wBfyJO5cDUJutyuW10kOh5ezeh7p7SE='},\n",
       " {'id': 'urn:ngsi-ld:Domain:ucy:01',\n",
       "  'type': 'Domain',\n",
       "  'description': 'NCSRD aerOS MVP Domain',\n",
       "  'publicUrl': 'https://ncsrd-mvp-domain.aeros-project.eu',\n",
       "  'owner': ['urn:ngsi-ld:Organization:NCSRD'],\n",
       "  'isEntrypoint': False,\n",
       "  'domainStatus': 'urn:ngsi-ld:DomainStatus:Functional'},\n",
       " {'id': 'urn:ngsi-ld:Domain:CloudFerro',\n",
       "  'type': 'Domain',\n",
       "  'description': 'CloudFerro Domain',\n",
       "  'publicUrl': 'https://cf-mvp-domain.aeros-project.eu',\n",
       "  'owner': ['urn:ngsi-ld:Organization:CloudFerro'],\n",
       "  'domainStatus': 'urn:ngsi-ld:DomainStatus:Functional',\n",
       "  'isEntrypoint': True,\n",
       "  'publicKey': 'cCsiQ7iEClPfIwqejeCXsGkLc9WHefV8yg9i9zVqoh0='}]"
      ]
     },
     "execution_count": 173,
     "metadata": {},
     "output_type": "execute_result"
    }
   ],
   "source": [
    "green_analyzer_connector.get_aerOS_domains()"
   ]
  },
  {
   "cell_type": "code",
   "execution_count": null,
   "id": "0912e3f6-d88a-4280-8f4b-7f1de00e6492",
   "metadata": {},
   "outputs": [],
   "source": []
  },
  {
   "cell_type": "code",
   "execution_count": 174,
   "id": "d9c1bf9e-39af-41e9-99f3-7f3a93cd9ca0",
   "metadata": {},
   "outputs": [
    {
     "name": "stdout",
     "output_type": "stream",
     "text": [
      "RES predictions are inserted [4815, 3786, 1879, 862, 192, 0, 0, 0, 0, 0, 0, 0, 0, 0, 0, 0, 0, 0, 0, 429, 760, 1783, 2281, 2444, 2378, 2069, 1373, 771, 155, 0, 0, 0, 0, 0, 0, 0] inverter3\n"
     ]
    },
    {
     "data": {
      "text/plain": [
       "<Response [204]>"
      ]
     },
     "execution_count": 174,
     "metadata": {},
     "output_type": "execute_result"
    }
   ],
   "source": [
    "green_analyzer_connector.set_res_predictions(domain, model_name, predictions)"
   ]
  },
  {
   "cell_type": "code",
   "execution_count": 118,
   "id": "6ed163d1-8782-4b20-aa47-8cae6de3ec39",
   "metadata": {},
   "outputs": [
    {
     "data": {
      "text/plain": [
       "<Response [204]>"
      ]
     },
     "execution_count": 118,
     "metadata": {},
     "output_type": "execute_result"
    }
   ],
   "source": [
    "test"
   ]
  },
  {
   "cell_type": "code",
   "execution_count": 81,
   "id": "6685d1e1-cf6b-433b-8792-314516c8192b",
   "metadata": {},
   "outputs": [
    {
     "data": {
      "text/plain": [
       "{'dynamic': 10.0, 'static': 2.0}"
      ]
     },
     "execution_count": 81,
     "metadata": {},
     "output_type": "execute_result"
    }
   ],
   "source": [
    "params"
   ]
  },
  {
   "cell_type": "code",
   "execution_count": 119,
   "id": "62859338-915f-4c24-bf66-395e1c2142bf",
   "metadata": {},
   "outputs": [
    {
     "data": {
      "text/plain": [
       "[{'id': 'urn:ngsi-ld:InfrastructureElement:ncsrd-w2',\n",
       "  'type': 'InfrastructureElement',\n",
       "  'domain': 'urn:ngsi-ld:Domain:NCSRD',\n",
       "  'hostname': 'ncsrd-w2',\n",
       "  'containerTechnology': 'Kubernetes',\n",
       "  'internalIpAddress': '10.220.2.119',\n",
       "  'macAddress': 'fa:c2:b1:a8:1a:2e',\n",
       "  'lowLevelOrchestrator': 'urn:ngsi-ld:LowLevelOrchestrator:NCSRD:01',\n",
       "  'cpuCores': 2,\n",
       "  'currentCpuUsage': 8,\n",
       "  'ramCapacity': 7940,\n",
       "  'availableRam': 5970,\n",
       "  'currentRamUsage': 1970,\n",
       "  'avgPowerConsumption': 2,\n",
       "  'currentPowerConsumption': 2,\n",
       "  'realTimeCapable': False,\n",
       "  'cpuArchitecture': 'urn:ngsi-ld:CpuArchitecture:x64',\n",
       "  'operatingSystem': 'urn:ngsi-ld:OperatingSystem:Linux',\n",
       "  'infrastructureElementTier': 'urn:ngsi-ld:InfrastructureElementTier:Cloud',\n",
       "  'infrastructureElementStatus': 'urn:ngsi-ld:InfrastructureElementStatus:Ready',\n",
       "  'location': {'type': 'Point', 'coordinates': [0, 0]}},\n",
       " {'id': 'urn:ngsi-ld:InfrastructureElement:ncsrd-rt',\n",
       "  'type': 'InfrastructureElement',\n",
       "  'domain': 'urn:ngsi-ld:Domain:NCSRD',\n",
       "  'hostname': 'ncsrd-rt',\n",
       "  'containerTechnology': 'Kubernetes',\n",
       "  'internalIpAddress': '10.220.2.103',\n",
       "  'macAddress': 'ce:bf:2b:d4:d0:ba',\n",
       "  'lowLevelOrchestrator': 'urn:ngsi-ld:LowLevelOrchestrator:NCSRD:01',\n",
       "  'cpuCores': 2,\n",
       "  'currentCpuUsage': 13,\n",
       "  'ramCapacity': 7958,\n",
       "  'availableRam': 6019,\n",
       "  'currentRamUsage': 1939,\n",
       "  'avgPowerConsumption': 2,\n",
       "  'currentPowerConsumption': 2,\n",
       "  'realTimeCapable': False,\n",
       "  'cpuArchitecture': 'urn:ngsi-ld:CpuArchitecture:x64',\n",
       "  'operatingSystem': 'urn:ngsi-ld:OperatingSystem:Linux',\n",
       "  'infrastructureElementTier': 'urn:ngsi-ld:InfrastructureElementTier:Cloud',\n",
       "  'infrastructureElementStatus': 'urn:ngsi-ld:InfrastructureElementStatus:Ready',\n",
       "  'location': {'type': 'Point', 'coordinates': [0, 0]}},\n",
       " {'id': 'urn:ngsi-ld:InfrastructureElement:ncsrd-w1',\n",
       "  'type': 'InfrastructureElement',\n",
       "  'domain': 'urn:ngsi-ld:Domain:NCSRD',\n",
       "  'hostname': 'ncsrd-w1',\n",
       "  'containerTechnology': 'Kubernetes',\n",
       "  'internalIpAddress': '10.220.2.102',\n",
       "  'macAddress': '92:d1:2a:33:f2:cc',\n",
       "  'lowLevelOrchestrator': 'urn:ngsi-ld:LowLevelOrchestrator:NCSRD:01',\n",
       "  'cpuCores': 2,\n",
       "  'currentCpuUsage': 18,\n",
       "  'ramCapacity': 7940,\n",
       "  'availableRam': 6344,\n",
       "  'currentRamUsage': 1596,\n",
       "  'avgPowerConsumption': 3,\n",
       "  'currentPowerConsumption': 3,\n",
       "  'realTimeCapable': False,\n",
       "  'cpuArchitecture': 'urn:ngsi-ld:CpuArchitecture:x64',\n",
       "  'operatingSystem': 'urn:ngsi-ld:OperatingSystem:Linux',\n",
       "  'infrastructureElementTier': 'urn:ngsi-ld:InfrastructureElementTier:Cloud',\n",
       "  'infrastructureElementStatus': 'urn:ngsi-ld:InfrastructureElementStatus:Ready',\n",
       "  'location': {'type': 'Point', 'coordinates': [0, 0]}},\n",
       " {'id': 'urn:ngsi-ld:InfrastructureElement:ncsrd-m',\n",
       "  'type': 'InfrastructureElement',\n",
       "  'domain': 'urn:ngsi-ld:Domain:NCSRD',\n",
       "  'hostname': 'ncsrd-m',\n",
       "  'containerTechnology': 'Kubernetes',\n",
       "  'internalIpAddress': '10.220.2.101',\n",
       "  'macAddress': '1a:9b:f6:0d:ce:bc',\n",
       "  'lowLevelOrchestrator': 'urn:ngsi-ld:LowLevelOrchestrator:NCSRD:01',\n",
       "  'cpuCores': 2,\n",
       "  'currentCpuUsage': 12,\n",
       "  'ramCapacity': 11960,\n",
       "  'availableRam': 9791,\n",
       "  'currentRamUsage': 2169,\n",
       "  'avgPowerConsumption': 2,\n",
       "  'currentPowerConsumption': 2,\n",
       "  'realTimeCapable': False,\n",
       "  'cpuArchitecture': 'urn:ngsi-ld:CpuArchitecture:x64',\n",
       "  'operatingSystem': 'urn:ngsi-ld:OperatingSystem:Linux',\n",
       "  'infrastructureElementTier': 'urn:ngsi-ld:InfrastructureElementTier:Cloud',\n",
       "  'infrastructureElementStatus': 'urn:ngsi-ld:InfrastructureElementStatus:Ready',\n",
       "  'location': {'type': 'Point', 'coordinates': [0, 0]}},\n",
       " {'id': 'urn:ngsi-ld:InfrastructureElement:pi',\n",
       "  'type': 'InfrastructureElement',\n",
       "  'domain': 'urn:ngsi-ld:Domain:NCSRD',\n",
       "  'internalIpAddress': '10.106.1.194',\n",
       "  'macAddress': '',\n",
       "  'lowLevelOrchestrator': 'urn:ngsi-ld:LowLevelOrchestrator:NCSRD:01',\n",
       "  'cpuCores': 4,\n",
       "  'currentCpuUsage': 41,\n",
       "  'ramCapacity': 3790,\n",
       "  'availableRam': 2837,\n",
       "  'currentRamUsage': 953,\n",
       "  'avgPowerConsumption': 5,\n",
       "  'currentPowerConsumption': 5,\n",
       "  'realTimeCapable': False,\n",
       "  'cpuArchitecture': 'urn:ngsi-ld:CpuArchitecture:arm64',\n",
       "  'operatingSystem': 'urn:ngsi-ld:OperatingSystem:Linux',\n",
       "  'infrastructureElementTier': 'urn:ngsi-ld:InfrastructureElementTier:Edge',\n",
       "  'infrastructureElementStatus': 'urn:ngsi-ld:InfrastructureElementStatus:Ready',\n",
       "  'location': {'type': 'Point', 'coordinates': [37.9715, 23.7257]}},\n",
       " {'id': 'urn:ngsi-ld:InfrastructureElement:ucypi',\n",
       "  'type': 'InfrastructureElement',\n",
       "  'domain': 'urn:ngsi-ld:Domain:ucy:01',\n",
       "  'internalIpAddress': '10.106.1.194',\n",
       "  'macAddress': '',\n",
       "  'lowLevelOrchestrator': 'urn:ngsi-ld:LowLevelOrchestrator:NCSRD:01',\n",
       "  'cpuCores': 4,\n",
       "  'currentCpuUsage': 29,\n",
       "  'ramCapacity': 3790,\n",
       "  'availableRam': 2796,\n",
       "  'currentRamUsage': 994,\n",
       "  'avgPowerConsumption': 5,\n",
       "  'currentPowerConsumption': 5,\n",
       "  'realTimeCapable': 'false',\n",
       "  'cpuArchitecture': 'urn:ngsi-ld:CpuArchitecture:arm64',\n",
       "  'operatingSystem': 'urn:ngsi-ld:OperatingSystem:Linux',\n",
       "  'infrastructureElementTier': 'urn:ngsi-ld:InfrastructureElementTier:Edge',\n",
       "  'infrastructureElementStatus': 'urn:ngsi-ld:InfrastructureElementStatus:Ready',\n",
       "  'location': {'type': 'Point', 'coordinates': [35.16, 33.377]},\n",
       "  'GreenAnalyzerEnergyProfile:dynamic': 4,\n",
       "  'GreenAnalyzerEnergyProfile:static': 2},\n",
       " {'id': 'urn:ngsi-ld:InfrastructureElement:aeros-2-jms6qnflylil-node-0',\n",
       "  'type': 'InfrastructureElement',\n",
       "  'domain': 'urn:ngsi-ld:Domain:CloudFerro',\n",
       "  'hostname': 'aeros-2-jms6qnflylil-node-0',\n",
       "  'containerTechnology': 'Kubernetes',\n",
       "  'internalIpAddress': '10.0.0.186',\n",
       "  'macAddress': 'fa:16:3e:5e:25:ef',\n",
       "  'lowLevelOrchestrator': 'urn:ngsi-ld:LowLevelOrchestrator:1',\n",
       "  'cpuCores': 4,\n",
       "  'currentCpuUsage': 7,\n",
       "  'ramCapacity': 14891,\n",
       "  'availableRam': 12502,\n",
       "  'currentRamUsage': 2389,\n",
       "  'avgPowerConsumption': 15,\n",
       "  'currentPowerConsumption': 4,\n",
       "  'realTimeCapable': False,\n",
       "  'cpuArchitecture': 'urn:ngsi-ld:CpuArchitecture:x64',\n",
       "  'operatingSystem': 'urn:ngsi-ld:OperatingSystem:Linux',\n",
       "  'infrastructureElementTier': 'urn:ngsi-ld:InfrastructureElementTier:Cloud',\n",
       "  'infrastructureElementStatus': 'urn:ngsi-ld:InfrastructureElementStatus:Ready',\n",
       "  'location': {'type': 'Point', 'coordinates': [0, 0]}},\n",
       " {'id': 'urn:ngsi-ld:InfrastructureElement:aeros-2-jms6qnflylil-node-2',\n",
       "  'type': 'InfrastructureElement',\n",
       "  'domain': 'urn:ngsi-ld:Domain:CloudFerro',\n",
       "  'hostname': 'aeros-2-jms6qnflylil-node-2',\n",
       "  'containerTechnology': 'Kubernetes',\n",
       "  'internalIpAddress': '10.0.0.194',\n",
       "  'macAddress': 'fa:16:3e:5b:e5:05',\n",
       "  'lowLevelOrchestrator': 'urn:ngsi-ld:LowLevelOrchestrator:1',\n",
       "  'cpuCores': 4,\n",
       "  'currentCpuUsage': 11,\n",
       "  'ramCapacity': 14891,\n",
       "  'availableRam': 12513,\n",
       "  'currentRamUsage': 2378,\n",
       "  'avgPowerConsumption': 15,\n",
       "  'currentPowerConsumption': 4,\n",
       "  'realTimeCapable': False,\n",
       "  'cpuArchitecture': 'urn:ngsi-ld:CpuArchitecture:x64',\n",
       "  'operatingSystem': 'urn:ngsi-ld:OperatingSystem:Linux',\n",
       "  'infrastructureElementTier': 'urn:ngsi-ld:InfrastructureElementTier:Cloud',\n",
       "  'infrastructureElementStatus': 'urn:ngsi-ld:InfrastructureElementStatus:Ready',\n",
       "  'location': {'type': 'Point', 'coordinates': [0, 0]}},\n",
       " {'id': 'urn:ngsi-ld:InfrastructureElement:aeros-2-jms6qnflylil-node-1',\n",
       "  'type': 'InfrastructureElement',\n",
       "  'domain': 'urn:ngsi-ld:Domain:CloudFerro',\n",
       "  'hostname': 'aeros-2-jms6qnflylil-node-1',\n",
       "  'containerTechnology': 'Kubernetes',\n",
       "  'internalIpAddress': '10.0.0.238',\n",
       "  'macAddress': 'fa:16:3e:32:c6:ee',\n",
       "  'lowLevelOrchestrator': 'urn:ngsi-ld:LowLevelOrchestrator:1',\n",
       "  'cpuCores': 4,\n",
       "  'currentCpuUsage': 6,\n",
       "  'ramCapacity': 14891,\n",
       "  'availableRam': 11501,\n",
       "  'currentRamUsage': 3390,\n",
       "  'avgPowerConsumption': 15,\n",
       "  'currentPowerConsumption': 4,\n",
       "  'realTimeCapable': False,\n",
       "  'cpuArchitecture': 'urn:ngsi-ld:CpuArchitecture:x64',\n",
       "  'operatingSystem': 'urn:ngsi-ld:OperatingSystem:Linux',\n",
       "  'infrastructureElementTier': 'urn:ngsi-ld:InfrastructureElementTier:Cloud',\n",
       "  'infrastructureElementStatus': 'urn:ngsi-ld:InfrastructureElementStatus:Ready',\n",
       "  'location': {'type': 'Point', 'coordinates': [0, 0]}}]"
      ]
     },
     "execution_count": 119,
     "metadata": {},
     "output_type": "execute_result"
    }
   ],
   "source": [
    "green_analyzer_connector.get_aerOS_infrastructure_entities()"
   ]
  },
  {
   "cell_type": "code",
   "execution_count": 66,
   "id": "ee4d3a00-9a7c-49d1-95e3-ced922e724a0",
   "metadata": {},
   "outputs": [
    {
     "data": {
      "text/plain": [
       "'urn:ngsi-ld:InfrastructureElement:ucypi'"
      ]
     },
     "execution_count": 66,
     "metadata": {},
     "output_type": "execute_result"
    }
   ],
   "source": [
    "infra_power['infrastructure_element_id']"
   ]
  },
  {
   "cell_type": "code",
   "execution_count": 26,
   "id": "c14fddd2-9221-47dc-9280-782c485ad734",
   "metadata": {},
   "outputs": [],
   "source": [
    "test = requests.patch(f\"{green_analyzer_connector.aerOS_url}/entityOperations/upsert?options=update\", data = [\n",
    "                                                                                    { \"id\": \"urn:ngsi-ld:InfrastructureElement:pi\",\n",
    "                                                                                       \"GreenAnalyzer:EnergyProfile:dynamic\":{\n",
    "                                                                                                \"value\": params[\"dynamic\"],\n",
    "                                                                                                \"type\": \"Property\"}\n",
    "                                                                                    }])"
   ]
  },
  {
   "cell_type": "code",
   "execution_count": 36,
   "id": "c45d7511-6e34-4580-b640-2ceaeca6abf0",
   "metadata": {},
   "outputs": [],
   "source": [
    "node_id = \"urn:ngsi-ld:InfrastructureElement:pi\"\n",
    "test = requests.post(f\"{green_analyzer_connector.aerOS_url}/entities/{node_id}/attrs/\", data = {\n",
    "                                                                                          \"greenanalyzer:energyprofile:dynamic\": {\n",
    "                                                                                                \"value\": params[\"dynamic\"],\n",
    "                                                                                                \"type\": \"Property\"\n",
    "                                                                                          },\n",
    "                                                                                          \"greenanalyzer:energyprofile:static\": {\n",
    "                                                                                                \"value\": params[\"static\"],\n",
    "                                                                                                \"type\": \"Property\"\n",
    "                                                                                          },\n",
    "                                                                                    })"
   ]
  },
  {
   "cell_type": "code",
   "execution_count": null,
   "id": "b660dfc6-fcd3-4051-8c30-6817933fccb1",
   "metadata": {},
   "outputs": [],
   "source": [
    "\"/entities/{node_id}\""
   ]
  },
  {
   "cell_type": "code",
   "execution_count": 56,
   "id": "49d60c5c-0c43-4811-acd0-b840a7063220",
   "metadata": {},
   "outputs": [],
   "source": [
    "data = {\n",
    "       \"id\": \"urn:ngsi-ld:InfrastructureElement:ucypi\",\n",
    "       \"type\": \"InfrastructureElement\",\n",
    "       \"domain\": {\n",
    "           \"type\": \"Relationship\",\n",
    "           \"object\": \"urn:ngsi-ld:Domain:ucy:01\"\n",
    "       },\n",
    "       \"internalIpAddress\": {\n",
    "           \"type\": \"Property\",\n",
    "           \"value\": \"10.106.1.194\"\n",
    "       },\n",
    "       \"macAddress\": {\n",
    "           \"type\": \"Property\",\n",
    "           \"value\": \"\"\n",
    "       },\n",
    "       \"lowLevelOrchestrator\": {\n",
    "           \"type\": \"Relationship\",\n",
    "           \"object\": \"urn:ngsi-ld:LowLevelOrchestrator:NCSRD:01\"\n",
    "       },\n",
    "       \"cpuCores\": {\n",
    "           \"type\": \"Property\",\n",
    "           \"value\": 4\n",
    "       },\n",
    "       \"currentCpuUsage\": {\n",
    "           \"type\": \"Property\",\n",
    "           \"value\": 29\n",
    "       },\n",
    "       \"ramCapacity\": {\n",
    "           \"type\": \"Property\",\n",
    "           \"value\": 3790\n",
    "       },\n",
    "       \"availableRam\": {\n",
    "           \"type\": \"Property\",\n",
    "           \"value\": 2796\n",
    "       },\n",
    "       \"currentRamUsage\": {\n",
    "           \"type\": \"Property\",\n",
    "           \"value\": 994\n",
    "       },\n",
    "       \"avgPowerConsumption\": {\n",
    "           \"type\": \"Property\",\n",
    "           \"value\": 5\n",
    "       },\n",
    "       \"currentPowerConsumption\": {\n",
    "           \"type\": \"Property\",\n",
    "           \"value\": 5\n",
    "       },\n",
    "       \"realTimeCapable\": {\n",
    "           \"type\": \"Property\",\n",
    "           \"value\": \"false\"\n",
    "       },\n",
    "       \"cpuArchitecture\": {\n",
    "           \"type\": \"Relationship\",\n",
    "           \"object\": \"urn:ngsi-ld:CpuArchitecture:arm64\"\n",
    "       },\n",
    "       \"operatingSystem\": {\n",
    "           \"type\": \"Relationship\",\n",
    "           \"object\": \"urn:ngsi-ld:OperatingSystem:Linux\"\n",
    "       },\n",
    "       \"infrastructureElementTier\": {\n",
    "           \"type\": \"Relationship\",\n",
    "           \"object\": \"urn:ngsi-ld:InfrastructureElementTier:Edge\"\n",
    "       },\n",
    "       \"infrastructureElementStatus\": {\n",
    "           \"type\": \"Relationship\",\n",
    "           \"object\": \"urn:ngsi-ld:InfrastructureElementStatus:Ready\"\n",
    "       },\n",
    "       \"location\": {\n",
    "           \"type\": \"GeoProperty\",\n",
    "           \"value\": {\n",
    "               \"type\": \"Point\",\n",
    "               \"coordinates\": [\n",
    "                   35.1600,\n",
    "                   33.3770\n",
    "               ]\n",
    "           }\n",
    "       }\n",
    "   }\n",
    "\n"
   ]
  },
  {
   "cell_type": "code",
   "execution_count": 57,
   "id": "173cff8f-b481-4936-9242-2667063f6be5",
   "metadata": {},
   "outputs": [],
   "source": [
    "test = requests.post(f\"{green_analyzer_connector.aerOS_url}/entities/\", json = data, headers = green_analyzer_connector.aerOS_headers)"
   ]
  },
  {
   "cell_type": "code",
   "execution_count": 59,
   "id": "9a89763f-4228-4590-8817-4cf229d147bf",
   "metadata": {},
   "outputs": [
    {
     "data": {
      "text/plain": [
       "<Response [201]>"
      ]
     },
     "execution_count": 59,
     "metadata": {},
     "output_type": "execute_result"
    }
   ],
   "source": [
    "test"
   ]
  },
  {
   "cell_type": "code",
   "execution_count": 66,
   "id": "3525a146-a9a4-48d1-9b5d-d0a5be2d13d1",
   "metadata": {},
   "outputs": [
    {
     "data": {
      "text/plain": [
       "'urn:ngsi-ld:InfrastructureElement:aeros-pi'"
      ]
     },
     "execution_count": 66,
     "metadata": {},
     "output_type": "execute_result"
    }
   ],
   "source": [
    "infra_power['infrastructure_element_id']"
   ]
  },
  {
   "cell_type": "code",
   "execution_count": 67,
   "id": "01b687db-391d-43cf-9fd4-fc589ff658f5",
   "metadata": {},
   "outputs": [
    {
     "data": {
      "text/plain": [
       "['urn:ngsi-ld:InfrastructureElement:ncsrd-w2',\n",
       " 'urn:ngsi-ld:InfrastructureElement:ncsrd-rt',\n",
       " 'urn:ngsi-ld:InfrastructureElement:ncsrd-w1',\n",
       " 'urn:ngsi-ld:InfrastructureElement:ncsrd-m',\n",
       " 'urn:ngsi-ld:InfrastructureElement:pi',\n",
       " 'urn:ngsi-ld:InfrastructureElement:aeros-2-jms6qnflylil-node-0',\n",
       " 'urn:ngsi-ld:InfrastructureElement:aeros-2-jms6qnflylil-node-2',\n",
       " 'urn:ngsi-ld:InfrastructureElement:aeros-2-jms6qnflylil-node-1']"
      ]
     },
     "execution_count": 67,
     "metadata": {},
     "output_type": "execute_result"
    }
   ],
   "source": [
    "entity_ids"
   ]
  },
  {
   "cell_type": "code",
   "execution_count": 25,
   "id": "00a5dbf5-6916-4c31-a19d-a837ac430c97",
   "metadata": {},
   "outputs": [],
   "source": [
    "domains = green_analyzer_connector.get_aerOS_domains()\n"
   ]
  },
  {
   "cell_type": "code",
   "execution_count": 28,
   "id": "afc8ec9f-aa17-48e1-8c04-51a02f9a6ee5",
   "metadata": {},
   "outputs": [
    {
     "data": {
      "text/plain": [
       "['NCSRD', 'CloudFerro']"
      ]
     },
     "execution_count": 28,
     "metadata": {},
     "output_type": "execute_result"
    }
   ],
   "source": [
    "[domain['id'].split(\":\")[-1] for domain in domains]"
   ]
  },
  {
   "cell_type": "code",
   "execution_count": 5,
   "id": "cd0ed1a1-ac0e-40e1-9a3c-24aec135ffc6",
   "metadata": {},
   "outputs": [
    {
     "data": {
      "text/plain": [
       "[{'date': '2024-10-15T15:00:00+03:00', 'prediction': 6476.900434570312},\n",
       " {'date': '2024-10-15T16:00:00+03:00', 'prediction': 5855.343077392578},\n",
       " {'date': '2024-10-15T17:00:00+03:00', 'prediction': 2336.1638009643557},\n",
       " {'date': '2024-10-15T18:00:00+03:00', 'prediction': 189.04958206176758},\n",
       " {'date': '2024-10-15T19:00:00+03:00', 'prediction': 0.40954201221466063},\n",
       " {'date': '2024-10-15T20:00:00+03:00', 'prediction': 0.0},\n",
       " {'date': '2024-10-15T21:00:00+03:00', 'prediction': 0.0},\n",
       " {'date': '2024-10-15T22:00:00+03:00', 'prediction': 0.0},\n",
       " {'date': '2024-10-15T23:00:00+03:00', 'prediction': 0.0},\n",
       " {'date': '2024-10-16T00:00:00+03:00', 'prediction': 0.0},\n",
       " {'date': '2024-10-16T01:00:00+03:00', 'prediction': 0.0},\n",
       " {'date': '2024-10-16T02:00:00+03:00', 'prediction': 0.0},\n",
       " {'date': '2024-10-16T03:00:00+03:00', 'prediction': 0.0},\n",
       " {'date': '2024-10-16T04:00:00+03:00', 'prediction': 0.0},\n",
       " {'date': '2024-10-16T05:00:00+03:00', 'prediction': 0.0},\n",
       " {'date': '2024-10-16T06:00:00+03:00', 'prediction': 0.0},\n",
       " {'date': '2024-10-16T07:00:00+03:00', 'prediction': 128.56662056446075},\n",
       " {'date': '2024-10-16T08:00:00+03:00', 'prediction': 2222.981732711792},\n",
       " {'date': '2024-10-16T09:00:00+03:00', 'prediction': 6275.247512207031},\n",
       " {'date': '2024-10-16T10:00:00+03:00', 'prediction': 9577.662944335938},\n",
       " {'date': '2024-10-16T11:00:00+03:00', 'prediction': 10704.03630859375},\n",
       " {'date': '2024-10-16T12:00:00+03:00', 'prediction': 10966.210576171876},\n",
       " {'date': '2024-10-16T13:00:00+03:00', 'prediction': 10800.317280273437},\n",
       " {'date': '2024-10-16T14:00:00+03:00', 'prediction': 10171.863740234376},\n",
       " {'date': '2024-10-16T15:00:00+03:00', 'prediction': 8730.359323730469},\n",
       " {'date': '2024-10-16T16:00:00+03:00', 'prediction': 7295.209645996094},\n",
       " {'date': '2024-10-16T17:00:00+03:00', 'prediction': 2529.9064138793947},\n",
       " {'date': '2024-10-16T18:00:00+03:00', 'prediction': 193.39645792007445},\n",
       " {'date': '2024-10-16T19:00:00+03:00', 'prediction': 0.6160114669799804},\n",
       " {'date': '2024-10-16T20:00:00+03:00', 'prediction': 0.0},\n",
       " {'date': '2024-10-16T21:00:00+03:00', 'prediction': 0.0},\n",
       " {'date': '2024-10-16T22:00:00+03:00', 'prediction': 0.0},\n",
       " {'date': '2024-10-16T23:00:00+03:00', 'prediction': 0.0}]"
      ]
     },
     "execution_count": 5,
     "metadata": {},
     "output_type": "execute_result"
    }
   ],
   "source": [
    "inverter = \"inverter1\"\n",
    "requests.get(f\"{url}/api/res/{inverter}/predict/\").json()"
   ]
  },
  {
   "cell_type": "code",
   "execution_count": 14,
   "id": "ee565dd7-ba73-4927-8ff8-b3c584f29455",
   "metadata": {},
   "outputs": [
    {
     "data": {
      "text/plain": [
       "{'pv': [{'index': '2024-10-16T16:00:00+03:00',\n",
       "   'predictions_pv': 223.23606432496445},\n",
       "  {'index': '2024-10-16T17:00:00+03:00', 'predictions_pv': 98.18845816235964},\n",
       "  {'index': '2024-10-16T18:00:00+03:00', 'predictions_pv': 8.92005098505673},\n",
       "  {'index': '2024-10-16T19:00:00+03:00', 'predictions_pv': 0.0},\n",
       "  {'index': '2024-10-16T20:00:00+03:00', 'predictions_pv': 0.0},\n",
       "  {'index': '2024-10-16T21:00:00+03:00', 'predictions_pv': 0.0},\n",
       "  {'index': '2024-10-16T22:00:00+03:00', 'predictions_pv': 0.0},\n",
       "  {'index': '2024-10-16T23:00:00+03:00', 'predictions_pv': 0.0},\n",
       "  {'index': '2024-10-17T00:00:00+03:00', 'predictions_pv': 0.0},\n",
       "  {'index': '2024-10-17T01:00:00+03:00', 'predictions_pv': 0.0},\n",
       "  {'index': '2024-10-17T02:00:00+03:00', 'predictions_pv': 0.0},\n",
       "  {'index': '2024-10-17T03:00:00+03:00', 'predictions_pv': 0.0},\n",
       "  {'index': '2024-10-17T04:00:00+03:00', 'predictions_pv': 0.0},\n",
       "  {'index': '2024-10-17T05:00:00+03:00', 'predictions_pv': 0.0},\n",
       "  {'index': '2024-10-17T06:00:00+03:00', 'predictions_pv': 0.0},\n",
       "  {'index': '2024-10-17T07:00:00+03:00', 'predictions_pv': 0.0},\n",
       "  {'index': '2024-10-17T08:00:00+03:00', 'predictions_pv': 81.28911264409699},\n",
       "  {'index': '2024-10-17T09:00:00+03:00', 'predictions_pv': 225.8932326941363},\n",
       "  {'index': '2024-10-17T10:00:00+03:00', 'predictions_pv': 298.9821919790824},\n",
       "  {'index': '2024-10-17T11:00:00+03:00', 'predictions_pv': 314.3038146013492},\n",
       "  {'index': '2024-10-17T12:00:00+03:00', 'predictions_pv': 309.43063483895173},\n",
       "  {'index': '2024-10-17T13:00:00+03:00', 'predictions_pv': 298.5891478767729},\n",
       "  {'index': '2024-10-17T14:00:00+03:00', 'predictions_pv': 267.14531415599015},\n",
       "  {'index': '2024-10-17T15:00:00+03:00', 'predictions_pv': 230.32947100058678},\n",
       "  {'index': '2024-10-17T16:00:00+03:00', 'predictions_pv': 185.59058564246334},\n",
       "  {'index': '2024-10-17T17:00:00+03:00', 'predictions_pv': 98.78979050036445},\n",
       "  {'index': '2024-10-17T18:00:00+03:00', 'predictions_pv': 11.280995018488268},\n",
       "  {'index': '2024-10-17T19:00:00+03:00', 'predictions_pv': 0.0},\n",
       "  {'index': '2024-10-17T20:00:00+03:00', 'predictions_pv': 0.0},\n",
       "  {'index': '2024-10-17T21:00:00+03:00', 'predictions_pv': 0.0},\n",
       "  {'index': '2024-10-17T22:00:00+03:00', 'predictions_pv': 0.0},\n",
       "  {'index': '2024-10-17T23:00:00+03:00', 'predictions_pv': 0.0},\n",
       "  {'index': '2024-10-18T00:00:00+03:00', 'predictions_pv': 0.0},\n",
       "  {'index': '2024-10-18T01:00:00+03:00', 'predictions_pv': 0.0},\n",
       "  {'index': '2024-10-18T02:00:00+03:00', 'predictions_pv': 0.0},\n",
       "  {'index': '2024-10-18T03:00:00+03:00', 'predictions_pv': 0.0},\n",
       "  {'index': '2024-10-18T04:00:00+03:00', 'predictions_pv': 0.0},\n",
       "  {'index': '2024-10-18T05:00:00+03:00', 'predictions_pv': 0.0},\n",
       "  {'index': '2024-10-18T06:00:00+03:00', 'predictions_pv': 0.0},\n",
       "  {'index': '2024-10-18T07:00:00+03:00', 'predictions_pv': 0.0},\n",
       "  {'index': '2024-10-18T08:00:00+03:00', 'predictions_pv': 78.29260134666333},\n",
       "  {'index': '2024-10-18T09:00:00+03:00', 'predictions_pv': 223.20630955320289},\n",
       "  {'index': '2024-10-18T10:00:00+03:00', 'predictions_pv': 286.6890290871307},\n",
       "  {'index': '2024-10-18T11:00:00+03:00', 'predictions_pv': 289.95352422866927},\n",
       "  {'index': '2024-10-18T12:00:00+03:00', 'predictions_pv': 276.21835333412713},\n",
       "  {'index': '2024-10-18T13:00:00+03:00', 'predictions_pv': 261.9190060554835},\n",
       "  {'index': '2024-10-18T14:00:00+03:00', 'predictions_pv': 247.64834226516066},\n",
       "  {'index': '2024-10-18T15:00:00+03:00', 'predictions_pv': 216.97601931759766},\n",
       "  {'index': '2024-10-18T16:00:00+03:00', 'predictions_pv': 185.81218173152632},\n",
       "  {'index': '2024-10-18T17:00:00+03:00', 'predictions_pv': 85.35841766033936},\n",
       "  {'index': '2024-10-18T18:00:00+03:00', 'predictions_pv': 9.539257126647911},\n",
       "  {'index': '2024-10-18T19:00:00+03:00', 'predictions_pv': 0.0},\n",
       "  {'index': '2024-10-18T20:00:00+03:00', 'predictions_pv': 0.0},\n",
       "  {'index': '2024-10-18T21:00:00+03:00', 'predictions_pv': 0.0},\n",
       "  {'index': '2024-10-18T22:00:00+03:00', 'predictions_pv': 0.0},\n",
       "  {'index': '2024-10-18T23:00:00+03:00', 'predictions_pv': 0.0}],\n",
       " 'wind': [{'index': '2024-10-16T16:00:00+03:00', 'pred': 11.475019268147443},\n",
       "  {'index': '2024-10-16T17:00:00+03:00', 'pred': 14.56344822965037},\n",
       "  {'index': '2024-10-16T18:00:00+03:00', 'pred': 18.096237443779096},\n",
       "  {'index': '2024-10-16T19:00:00+03:00', 'pred': 16.747802292915104},\n",
       "  {'index': '2024-10-16T20:00:00+03:00', 'pred': 14.182878913133221},\n",
       "  {'index': '2024-10-16T21:00:00+03:00', 'pred': 18.019953911104825},\n",
       "  {'index': '2024-10-16T22:00:00+03:00', 'pred': 23.008553335202762},\n",
       "  {'index': '2024-10-16T23:00:00+03:00', 'pred': 26.884212536970008},\n",
       "  {'index': '2024-10-17T00:00:00+03:00', 'pred': 28.505237483518542},\n",
       "  {'index': '2024-10-17T01:00:00+03:00', 'pred': 31.652088313019746},\n",
       "  {'index': '2024-10-17T02:00:00+03:00', 'pred': 31.598927352817256},\n",
       "  {'index': '2024-10-17T03:00:00+03:00', 'pred': 28.18052090848401},\n",
       "  {'index': '2024-10-17T04:00:00+03:00', 'pred': 24.141517456025863},\n",
       "  {'index': '2024-10-17T05:00:00+03:00', 'pred': 21.112472021891048},\n",
       "  {'index': '2024-10-17T06:00:00+03:00', 'pred': 19.66669962999912},\n",
       "  {'index': '2024-10-17T07:00:00+03:00', 'pred': 15.81374910806607},\n",
       "  {'index': '2024-10-17T08:00:00+03:00', 'pred': 11.22392215055475},\n",
       "  {'index': '2024-10-17T09:00:00+03:00', 'pred': 8.838079902208063},\n",
       "  {'index': '2024-10-17T10:00:00+03:00', 'pred': 7.899912640250351},\n",
       "  {'index': '2024-10-17T11:00:00+03:00', 'pred': 9.604577543321192},\n",
       "  {'index': '2024-10-17T12:00:00+03:00', 'pred': 15.284605478931928},\n",
       "  {'index': '2024-10-17T13:00:00+03:00', 'pred': 19.968165091994088},\n",
       "  {'index': '2024-10-17T14:00:00+03:00', 'pred': 25.522774755579803},\n",
       "  {'index': '2024-10-17T15:00:00+03:00', 'pred': 29.174588979348105},\n",
       "  {'index': '2024-10-17T16:00:00+03:00', 'pred': 30.013227141225528},\n",
       "  {'index': '2024-10-17T17:00:00+03:00', 'pred': 27.951683498327565},\n",
       "  {'index': '2024-10-17T18:00:00+03:00', 'pred': 29.6629647121038},\n",
       "  {'index': '2024-10-17T19:00:00+03:00', 'pred': 22.473759247421093},\n",
       "  {'index': '2024-10-17T20:00:00+03:00', 'pred': 23.72305844092478},\n",
       "  {'index': '2024-10-17T21:00:00+03:00', 'pred': 23.961154807138247},\n",
       "  {'index': '2024-10-17T22:00:00+03:00', 'pred': 23.318124365471792},\n",
       "  {'index': '2024-10-17T23:00:00+03:00', 'pred': 21.083765885025056},\n",
       "  {'index': '2024-10-18T00:00:00+03:00', 'pred': 18.250118793523832},\n",
       "  {'index': '2024-10-18T01:00:00+03:00', 'pred': 19.178616416218723},\n",
       "  {'index': '2024-10-18T02:00:00+03:00', 'pred': 19.03205205750783},\n",
       "  {'index': '2024-10-18T03:00:00+03:00', 'pred': 14.998650547495403},\n",
       "  {'index': '2024-10-18T04:00:00+03:00', 'pred': 15.809158779636563},\n",
       "  {'index': '2024-10-18T05:00:00+03:00', 'pred': 17.80041723014111},\n",
       "  {'index': '2024-10-18T06:00:00+03:00', 'pred': 18.99576376116938},\n",
       "  {'index': '2024-10-18T07:00:00+03:00', 'pred': 19.30446742811297},\n",
       "  {'index': '2024-10-18T08:00:00+03:00', 'pred': 17.438800928304588},\n",
       "  {'index': '2024-10-18T09:00:00+03:00', 'pred': 17.984542454401705},\n",
       "  {'index': '2024-10-18T10:00:00+03:00', 'pred': 21.812210672521722},\n",
       "  {'index': '2024-10-18T11:00:00+03:00', 'pred': 20.173541845306026},\n",
       "  {'index': '2024-10-18T12:00:00+03:00', 'pred': 22.01475618002542},\n",
       "  {'index': '2024-10-18T13:00:00+03:00', 'pred': 24.124425253595998},\n",
       "  {'index': '2024-10-18T14:00:00+03:00', 'pred': 24.4894594017864},\n",
       "  {'index': '2024-10-18T15:00:00+03:00', 'pred': 23.99065171941344},\n",
       "  {'index': '2024-10-18T16:00:00+03:00', 'pred': 19.998882375256855},\n",
       "  {'index': '2024-10-18T17:00:00+03:00', 'pred': 14.990584003987692},\n",
       "  {'index': '2024-10-18T18:00:00+03:00', 'pred': 10.600968897960778},\n",
       "  {'index': '2024-10-18T19:00:00+03:00', 'pred': 7.587676636060667},\n",
       "  {'index': '2024-10-18T20:00:00+03:00', 'pred': 4.857053260834097},\n",
       "  {'index': '2024-10-18T21:00:00+03:00', 'pred': 4.8631138956097475},\n",
       "  {'index': '2024-10-18T22:00:00+03:00', 'pred': 4.965205583463683},\n",
       "  {'index': '2024-10-18T23:00:00+03:00', 'pred': 6.2949249942153624}],\n",
       " 'total': [{'index': '2024-10-16T16:00:00+03:00', 'pred': 728.7211155424485},\n",
       "  {'index': '2024-10-16T17:00:00+03:00', 'pred': 722.0965502573458},\n",
       "  {'index': '2024-10-16T18:00:00+03:00', 'pred': 715.5603026950283},\n",
       "  {'index': '2024-10-16T19:00:00+03:00', 'pred': 705.3693630081602},\n",
       "  {'index': '2024-10-16T20:00:00+03:00', 'pred': 681.4621821453422},\n",
       "  {'index': '2024-10-16T21:00:00+03:00', 'pred': 659.4943319696499},\n",
       "  {'index': '2024-10-16T22:00:00+03:00', 'pred': 618.3821301249753},\n",
       "  {'index': '2024-10-16T23:00:00+03:00', 'pred': 572.2463213270673},\n",
       "  {'index': '2024-10-17T00:00:00+03:00', 'pred': 525.4254327505156},\n",
       "  {'index': '2024-10-17T01:00:00+03:00', 'pred': 490.9091619636273},\n",
       "  {'index': '2024-10-17T02:00:00+03:00', 'pred': 469.8949258773948},\n",
       "  {'index': '2024-10-17T03:00:00+03:00', 'pred': 452.5744001952611},\n",
       "  {'index': '2024-10-17T04:00:00+03:00', 'pred': 448.2741447763734},\n",
       "  {'index': '2024-10-17T05:00:00+03:00', 'pred': 457.0046396320511},\n",
       "  {'index': '2024-10-17T06:00:00+03:00', 'pred': 490.6554428165733},\n",
       "  {'index': '2024-10-17T07:00:00+03:00', 'pred': 548.9690436606002},\n",
       "  {'index': '2024-10-17T08:00:00+03:00', 'pred': 623.3173575410455},\n",
       "  {'index': '2024-10-17T09:00:00+03:00', 'pred': 683.6970736980763},\n",
       "  {'index': '2024-10-17T10:00:00+03:00', 'pred': 720.6159986065896},\n",
       "  {'index': '2024-10-17T11:00:00+03:00', 'pred': 731.1931371428668},\n",
       "  {'index': '2024-10-17T12:00:00+03:00', 'pred': 731.4362090149193},\n",
       "  {'index': '2024-10-17T13:00:00+03:00', 'pred': 724.7896000057499},\n",
       "  {'index': '2024-10-17T14:00:00+03:00', 'pred': 714.6589480382494},\n",
       "  {'index': '2024-10-17T15:00:00+03:00', 'pred': 708.8395852736763},\n",
       "  {'index': '2024-10-17T16:00:00+03:00', 'pred': 702.2148057350818},\n",
       "  {'index': '2024-10-17T17:00:00+03:00', 'pred': 694.1839067947111},\n",
       "  {'index': '2024-10-17T18:00:00+03:00', 'pred': 687.6937253152005},\n",
       "  {'index': '2024-10-17T19:00:00+03:00', 'pred': 678.4331727915376},\n",
       "  {'index': '2024-10-17T20:00:00+03:00', 'pred': 661.0067053088306},\n",
       "  {'index': '2024-10-17T21:00:00+03:00', 'pred': 640.5837547164057},\n",
       "  {'index': '2024-10-17T22:00:00+03:00', 'pred': 604.3184969561004},\n",
       "  {'index': '2024-10-17T23:00:00+03:00', 'pred': 562.3184741303892},\n",
       "  {'index': '2024-10-18T00:00:00+03:00', 'pred': 520.1737945322722},\n",
       "  {'index': '2024-10-18T01:00:00+03:00', 'pred': 485.4247095659856},\n",
       "  {'index': '2024-10-18T02:00:00+03:00', 'pred': 458.9023990836844},\n",
       "  {'index': '2024-10-18T03:00:00+03:00', 'pred': 438.85330310301646},\n",
       "  {'index': '2024-10-18T04:00:00+03:00', 'pred': 434.7697455470291},\n",
       "  {'index': '2024-10-18T05:00:00+03:00', 'pred': 444.7430033760195},\n",
       "  {'index': '2024-10-18T06:00:00+03:00', 'pred': 476.9163418739213},\n",
       "  {'index': '2024-10-18T07:00:00+03:00', 'pred': 533.8150936384108},\n",
       "  {'index': '2024-10-18T08:00:00+03:00', 'pred': 606.4251067160822},\n",
       "  {'index': '2024-10-18T09:00:00+03:00', 'pred': 654.9053972488849},\n",
       "  {'index': '2024-10-18T10:00:00+03:00', 'pred': 681.6614856187404},\n",
       "  {'index': '2024-10-18T11:00:00+03:00', 'pred': 690.7128852333385},\n",
       "  {'index': '2024-10-18T12:00:00+03:00', 'pred': 691.4747696308178},\n",
       "  {'index': '2024-10-18T13:00:00+03:00', 'pred': 685.6189461722805},\n",
       "  {'index': '2024-10-18T14:00:00+03:00', 'pred': 669.2805821251158},\n",
       "  {'index': '2024-10-18T15:00:00+03:00', 'pred': 658.3424614025025},\n",
       "  {'index': '2024-10-18T16:00:00+03:00', 'pred': 654.2384574144338},\n",
       "  {'index': '2024-10-18T17:00:00+03:00', 'pred': 649.890821710533},\n",
       "  {'index': '2024-10-18T18:00:00+03:00', 'pred': 647.2056951389451},\n",
       "  {'index': '2024-10-18T19:00:00+03:00', 'pred': 645.0293836855377},\n",
       "  {'index': '2024-10-18T20:00:00+03:00', 'pred': 635.4053431111471},\n",
       "  {'index': '2024-10-18T21:00:00+03:00', 'pred': 615.3085970693077},\n",
       "  {'index': '2024-10-18T22:00:00+03:00', 'pred': 580.8879391582515},\n",
       "  {'index': '2024-10-18T23:00:00+03:00', 'pred': 543.9930322762061}]}"
      ]
     },
     "execution_count": 14,
     "metadata": {},
     "output_type": "execute_result"
    }
   ],
   "source": [
    "data = {\"country\": \"CYPRUS\"}\n",
    "requests.get(f\"{url}/api/country_energy_mix/\", json=data).json()"
   ]
  }
 ],
 "metadata": {
  "kernelspec": {
   "display_name": "Python 3 (ipykernel)",
   "language": "python",
   "name": "python3"
  },
  "language_info": {
   "codemirror_mode": {
    "name": "ipython",
    "version": 3
   },
   "file_extension": ".py",
   "mimetype": "text/x-python",
   "name": "python",
   "nbconvert_exporter": "python",
   "pygments_lexer": "ipython3",
   "version": "3.9.16"
  }
 },
 "nbformat": 4,
 "nbformat_minor": 5
}
