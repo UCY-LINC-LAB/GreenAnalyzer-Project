{
 "cells": [
  {
   "cell_type": "code",
   "execution_count": 1,
   "id": "2cb76d99",
   "metadata": {},
   "outputs": [],
   "source": [
    "import pandas as pd\n",
    "import datetime"
   ]
  },
  {
   "cell_type": "markdown",
   "id": "104388da",
   "metadata": {},
   "source": [
    "## Create the dataset about inverters from Prometheus"
   ]
  },
  {
   "cell_type": "markdown",
   "id": "5c506904",
   "metadata": {},
   "source": [
    "*The dates must be changed in two places.*"
   ]
  },
  {
   "cell_type": "code",
   "execution_count": 2,
   "id": "2a82768b",
   "metadata": {},
   "outputs": [],
   "source": [
    "#pip install prometheus-pandas"
   ]
  },
  {
   "cell_type": "code",
   "execution_count": 3,
   "id": "177322d0",
   "metadata": {},
   "outputs": [],
   "source": [
    "from prometheus_pandas import query"
   ]
  },
  {
   "cell_type": "code",
   "execution_count": 4,
   "id": "ecab7681",
   "metadata": {},
   "outputs": [],
   "source": [
    "p = query.Prometheus('http://10.16.27.31:9090')"
   ]
  },
  {
   "cell_type": "code",
   "execution_count": 5,
   "id": "bf096ad9",
   "metadata": {},
   "outputs": [],
   "source": [
    "start = '2024-06-07T00:00:00Z'\n",
    "end = '2024-06-26T00:00:00Z'\n",
    "\n",
    "dates = [start]\n",
    "\n",
    "date_now = start\n",
    "\n",
    "while date_now!=end :\n",
    "    date_datetime = datetime.datetime.strptime(date_now, \"%Y-%m-%dT%H:%M:%SZ\")\n",
    "    date_now = str(date_datetime + datetime.timedelta(1,0)).replace(' ','T')+'Z'\n",
    "    dates.append(date_now)"
   ]
  },
  {
   "cell_type": "code",
   "execution_count": 6,
   "id": "0d41931a",
   "metadata": {},
   "outputs": [
    {
     "data": {
      "text/plain": [
       "['2024-06-07T00:00:00Z',\n",
       " '2024-06-08T00:00:00Z',\n",
       " '2024-06-09T00:00:00Z',\n",
       " '2024-06-10T00:00:00Z',\n",
       " '2024-06-11T00:00:00Z',\n",
       " '2024-06-12T00:00:00Z',\n",
       " '2024-06-13T00:00:00Z',\n",
       " '2024-06-14T00:00:00Z',\n",
       " '2024-06-15T00:00:00Z',\n",
       " '2024-06-16T00:00:00Z',\n",
       " '2024-06-17T00:00:00Z',\n",
       " '2024-06-18T00:00:00Z',\n",
       " '2024-06-19T00:00:00Z',\n",
       " '2024-06-20T00:00:00Z',\n",
       " '2024-06-21T00:00:00Z',\n",
       " '2024-06-22T00:00:00Z',\n",
       " '2024-06-23T00:00:00Z',\n",
       " '2024-06-24T00:00:00Z',\n",
       " '2024-06-25T00:00:00Z',\n",
       " '2024-06-26T00:00:00Z']"
      ]
     },
     "execution_count": 6,
     "metadata": {},
     "output_type": "execute_result"
    }
   ],
   "source": [
    "dates"
   ]
  },
  {
   "cell_type": "code",
   "execution_count": 7,
   "id": "0fa3fdbc",
   "metadata": {},
   "outputs": [],
   "source": [
    "data = p.query_range('cyprus__nicosia__ucy__dc1__fronius_fronius_inverter_output_W_average{job=\"netdata\"}',\n",
    "        '2024-06-07T00:00:00Z', '2024-06-08T00:00:00Z', '15s')"
   ]
  },
  {
   "cell_type": "code",
   "execution_count": 8,
   "id": "62d6d73b",
   "metadata": {},
   "outputs": [],
   "source": [
    "for i in range(1,len(dates)-1) :\n",
    "    data_to_append = p.query_range('cyprus__nicosia__ucy__dc1__fronius_fronius_inverter_output_W_average{job=\"netdata\"}',\n",
    "        dates[i], dates[i+1], '15s')\n",
    "    data = pd.concat([data,data_to_append])"
   ]
  },
  {
   "cell_type": "code",
   "execution_count": 9,
   "id": "f2de068d",
   "metadata": {},
   "outputs": [
    {
     "data": {
      "text/html": [
       "<div>\n",
       "<style scoped>\n",
       "    .dataframe tbody tr th:only-of-type {\n",
       "        vertical-align: middle;\n",
       "    }\n",
       "\n",
       "    .dataframe tbody tr th {\n",
       "        vertical-align: top;\n",
       "    }\n",
       "\n",
       "    .dataframe thead th {\n",
       "        text-align: right;\n",
       "    }\n",
       "</style>\n",
       "<table border=\"1\" class=\"dataframe\">\n",
       "  <thead>\n",
       "    <tr style=\"text-align: right;\">\n",
       "      <th></th>\n",
       "      <th>cyprus__nicosia__ucy__dc1__fronius_fronius_inverter_output_W_average{chart=\"fronius_GetPowerFlowRealtimeData.inverters.output\",dimension=\"inverter_1\",family=\"inverters\",instance=\"10.16.27.31:19998\",job=\"netdata\"}</th>\n",
       "      <th>cyprus__nicosia__ucy__dc1__fronius_fronius_inverter_output_W_average{chart=\"fronius_GetPowerFlowRealtimeData.inverters.output\",dimension=\"inverter_2\",family=\"inverters\",instance=\"10.16.27.31:19998\",job=\"netdata\"}</th>\n",
       "      <th>cyprus__nicosia__ucy__dc1__fronius_fronius_inverter_output_W_average{chart=\"fronius_GetPowerFlowRealtimeData.inverters.output\",dimension=\"inverter_3\",family=\"inverters\",instance=\"10.16.27.31:19998\",job=\"netdata\"}</th>\n",
       "    </tr>\n",
       "  </thead>\n",
       "  <tbody>\n",
       "    <tr>\n",
       "      <th>2024-06-07 00:50:15</th>\n",
       "      <td>NaN</td>\n",
       "      <td>0.0</td>\n",
       "      <td>NaN</td>\n",
       "    </tr>\n",
       "    <tr>\n",
       "      <th>2024-06-07 00:50:30</th>\n",
       "      <td>NaN</td>\n",
       "      <td>0.0</td>\n",
       "      <td>NaN</td>\n",
       "    </tr>\n",
       "    <tr>\n",
       "      <th>2024-06-07 00:50:45</th>\n",
       "      <td>NaN</td>\n",
       "      <td>0.0</td>\n",
       "      <td>NaN</td>\n",
       "    </tr>\n",
       "    <tr>\n",
       "      <th>2024-06-07 00:51:00</th>\n",
       "      <td>NaN</td>\n",
       "      <td>0.0</td>\n",
       "      <td>NaN</td>\n",
       "    </tr>\n",
       "    <tr>\n",
       "      <th>2024-06-07 00:51:15</th>\n",
       "      <td>NaN</td>\n",
       "      <td>0.0</td>\n",
       "      <td>NaN</td>\n",
       "    </tr>\n",
       "    <tr>\n",
       "      <th>...</th>\n",
       "      <td>...</td>\n",
       "      <td>...</td>\n",
       "      <td>...</td>\n",
       "    </tr>\n",
       "    <tr>\n",
       "      <th>2024-06-25 23:52:00</th>\n",
       "      <td>NaN</td>\n",
       "      <td>NaN</td>\n",
       "      <td>0.0</td>\n",
       "    </tr>\n",
       "    <tr>\n",
       "      <th>2024-06-25 23:52:15</th>\n",
       "      <td>NaN</td>\n",
       "      <td>NaN</td>\n",
       "      <td>0.0</td>\n",
       "    </tr>\n",
       "    <tr>\n",
       "      <th>2024-06-25 23:52:30</th>\n",
       "      <td>NaN</td>\n",
       "      <td>NaN</td>\n",
       "      <td>0.0</td>\n",
       "    </tr>\n",
       "    <tr>\n",
       "      <th>2024-06-25 23:52:45</th>\n",
       "      <td>NaN</td>\n",
       "      <td>NaN</td>\n",
       "      <td>0.0</td>\n",
       "    </tr>\n",
       "    <tr>\n",
       "      <th>2024-06-25 23:53:00</th>\n",
       "      <td>NaN</td>\n",
       "      <td>NaN</td>\n",
       "      <td>0.0</td>\n",
       "    </tr>\n",
       "  </tbody>\n",
       "</table>\n",
       "<p>78213 rows × 3 columns</p>\n",
       "</div>"
      ],
      "text/plain": [
       "                     cyprus__nicosia__ucy__dc1__fronius_fronius_inverter_output_W_average{chart=\"fronius_GetPowerFlowRealtimeData.inverters.output\",dimension=\"inverter_1\",family=\"inverters\",instance=\"10.16.27.31:19998\",job=\"netdata\"}  \\\n",
       "2024-06-07 00:50:15                                                NaN                                                                                                                                                                      \n",
       "2024-06-07 00:50:30                                                NaN                                                                                                                                                                      \n",
       "2024-06-07 00:50:45                                                NaN                                                                                                                                                                      \n",
       "2024-06-07 00:51:00                                                NaN                                                                                                                                                                      \n",
       "2024-06-07 00:51:15                                                NaN                                                                                                                                                                      \n",
       "...                                                                ...                                                                                                                                                                      \n",
       "2024-06-25 23:52:00                                                NaN                                                                                                                                                                      \n",
       "2024-06-25 23:52:15                                                NaN                                                                                                                                                                      \n",
       "2024-06-25 23:52:30                                                NaN                                                                                                                                                                      \n",
       "2024-06-25 23:52:45                                                NaN                                                                                                                                                                      \n",
       "2024-06-25 23:53:00                                                NaN                                                                                                                                                                      \n",
       "\n",
       "                     cyprus__nicosia__ucy__dc1__fronius_fronius_inverter_output_W_average{chart=\"fronius_GetPowerFlowRealtimeData.inverters.output\",dimension=\"inverter_2\",family=\"inverters\",instance=\"10.16.27.31:19998\",job=\"netdata\"}  \\\n",
       "2024-06-07 00:50:15                                                0.0                                                                                                                                                                      \n",
       "2024-06-07 00:50:30                                                0.0                                                                                                                                                                      \n",
       "2024-06-07 00:50:45                                                0.0                                                                                                                                                                      \n",
       "2024-06-07 00:51:00                                                0.0                                                                                                                                                                      \n",
       "2024-06-07 00:51:15                                                0.0                                                                                                                                                                      \n",
       "...                                                                ...                                                                                                                                                                      \n",
       "2024-06-25 23:52:00                                                NaN                                                                                                                                                                      \n",
       "2024-06-25 23:52:15                                                NaN                                                                                                                                                                      \n",
       "2024-06-25 23:52:30                                                NaN                                                                                                                                                                      \n",
       "2024-06-25 23:52:45                                                NaN                                                                                                                                                                      \n",
       "2024-06-25 23:53:00                                                NaN                                                                                                                                                                      \n",
       "\n",
       "                     cyprus__nicosia__ucy__dc1__fronius_fronius_inverter_output_W_average{chart=\"fronius_GetPowerFlowRealtimeData.inverters.output\",dimension=\"inverter_3\",family=\"inverters\",instance=\"10.16.27.31:19998\",job=\"netdata\"}  \n",
       "2024-06-07 00:50:15                                                NaN                                                                                                                                                                     \n",
       "2024-06-07 00:50:30                                                NaN                                                                                                                                                                     \n",
       "2024-06-07 00:50:45                                                NaN                                                                                                                                                                     \n",
       "2024-06-07 00:51:00                                                NaN                                                                                                                                                                     \n",
       "2024-06-07 00:51:15                                                NaN                                                                                                                                                                     \n",
       "...                                                                ...                                                                                                                                                                     \n",
       "2024-06-25 23:52:00                                                0.0                                                                                                                                                                     \n",
       "2024-06-25 23:52:15                                                0.0                                                                                                                                                                     \n",
       "2024-06-25 23:52:30                                                0.0                                                                                                                                                                     \n",
       "2024-06-25 23:52:45                                                0.0                                                                                                                                                                     \n",
       "2024-06-25 23:53:00                                                0.0                                                                                                                                                                     \n",
       "\n",
       "[78213 rows x 3 columns]"
      ]
     },
     "execution_count": 9,
     "metadata": {},
     "output_type": "execute_result"
    }
   ],
   "source": [
    "data"
   ]
  },
  {
   "cell_type": "code",
   "execution_count": 10,
   "id": "9aada2dc",
   "metadata": {},
   "outputs": [],
   "source": [
    "data.rename({'cyprus__nicosia__ucy__dc1__fronius_fronius_inverter_output_W_average{chart=\"fronius_GetPowerFlowRealtimeData.inverters.output\",dimension=\"inverter_1\",family=\"inverters\",instance=\"10.16.27.31:19998\",job=\"netdata\"}':'inverter1'},inplace=True,axis=1)\n",
    "data.rename({'cyprus__nicosia__ucy__dc1__fronius_fronius_inverter_output_W_average{chart=\"fronius_GetPowerFlowRealtimeData.inverters.output\",dimension=\"inverter_2\",family=\"inverters\",instance=\"10.16.27.31:19998\",job=\"netdata\"}':'inverter2'},inplace=True,axis=1)\n",
    "data.rename({'cyprus__nicosia__ucy__dc1__fronius_fronius_inverter_output_W_average{chart=\"fronius_GetPowerFlowRealtimeData.inverters.output\",dimension=\"inverter_3\",family=\"inverters\",instance=\"10.16.27.31:19998\",job=\"netdata\"}':'inverter3'},inplace=True,axis=1)"
   ]
  },
  {
   "cell_type": "code",
   "execution_count": 11,
   "id": "c9712910",
   "metadata": {},
   "outputs": [],
   "source": [
    "data = data.reset_index().drop_duplicates(subset='index', keep='first')"
   ]
  },
  {
   "cell_type": "code",
   "execution_count": 12,
   "id": "224148fa",
   "metadata": {},
   "outputs": [],
   "source": [
    "data.rename({'index':'date'},inplace=True,axis=1)"
   ]
  },
  {
   "cell_type": "code",
   "execution_count": 13,
   "id": "9fdd3723",
   "metadata": {},
   "outputs": [
    {
     "data": {
      "text/html": [
       "<div>\n",
       "<style scoped>\n",
       "    .dataframe tbody tr th:only-of-type {\n",
       "        vertical-align: middle;\n",
       "    }\n",
       "\n",
       "    .dataframe tbody tr th {\n",
       "        vertical-align: top;\n",
       "    }\n",
       "\n",
       "    .dataframe thead th {\n",
       "        text-align: right;\n",
       "    }\n",
       "</style>\n",
       "<table border=\"1\" class=\"dataframe\">\n",
       "  <thead>\n",
       "    <tr style=\"text-align: right;\">\n",
       "      <th></th>\n",
       "      <th>date</th>\n",
       "      <th>inverter1</th>\n",
       "      <th>inverter2</th>\n",
       "      <th>inverter3</th>\n",
       "    </tr>\n",
       "  </thead>\n",
       "  <tbody>\n",
       "    <tr>\n",
       "      <th>0</th>\n",
       "      <td>2024-06-07 00:50:15</td>\n",
       "      <td>NaN</td>\n",
       "      <td>0.0</td>\n",
       "      <td>NaN</td>\n",
       "    </tr>\n",
       "    <tr>\n",
       "      <th>1</th>\n",
       "      <td>2024-06-07 00:50:30</td>\n",
       "      <td>NaN</td>\n",
       "      <td>0.0</td>\n",
       "      <td>NaN</td>\n",
       "    </tr>\n",
       "    <tr>\n",
       "      <th>2</th>\n",
       "      <td>2024-06-07 00:50:45</td>\n",
       "      <td>NaN</td>\n",
       "      <td>0.0</td>\n",
       "      <td>NaN</td>\n",
       "    </tr>\n",
       "    <tr>\n",
       "      <th>3</th>\n",
       "      <td>2024-06-07 00:51:00</td>\n",
       "      <td>NaN</td>\n",
       "      <td>0.0</td>\n",
       "      <td>NaN</td>\n",
       "    </tr>\n",
       "    <tr>\n",
       "      <th>4</th>\n",
       "      <td>2024-06-07 00:51:15</td>\n",
       "      <td>NaN</td>\n",
       "      <td>0.0</td>\n",
       "      <td>NaN</td>\n",
       "    </tr>\n",
       "    <tr>\n",
       "      <th>...</th>\n",
       "      <td>...</td>\n",
       "      <td>...</td>\n",
       "      <td>...</td>\n",
       "      <td>...</td>\n",
       "    </tr>\n",
       "    <tr>\n",
       "      <th>78208</th>\n",
       "      <td>2024-06-25 23:52:00</td>\n",
       "      <td>NaN</td>\n",
       "      <td>NaN</td>\n",
       "      <td>0.0</td>\n",
       "    </tr>\n",
       "    <tr>\n",
       "      <th>78209</th>\n",
       "      <td>2024-06-25 23:52:15</td>\n",
       "      <td>NaN</td>\n",
       "      <td>NaN</td>\n",
       "      <td>0.0</td>\n",
       "    </tr>\n",
       "    <tr>\n",
       "      <th>78210</th>\n",
       "      <td>2024-06-25 23:52:30</td>\n",
       "      <td>NaN</td>\n",
       "      <td>NaN</td>\n",
       "      <td>0.0</td>\n",
       "    </tr>\n",
       "    <tr>\n",
       "      <th>78211</th>\n",
       "      <td>2024-06-25 23:52:45</td>\n",
       "      <td>NaN</td>\n",
       "      <td>NaN</td>\n",
       "      <td>0.0</td>\n",
       "    </tr>\n",
       "    <tr>\n",
       "      <th>78212</th>\n",
       "      <td>2024-06-25 23:53:00</td>\n",
       "      <td>NaN</td>\n",
       "      <td>NaN</td>\n",
       "      <td>0.0</td>\n",
       "    </tr>\n",
       "  </tbody>\n",
       "</table>\n",
       "<p>78212 rows × 4 columns</p>\n",
       "</div>"
      ],
      "text/plain": [
       "                     date  inverter1  inverter2  inverter3\n",
       "0     2024-06-07 00:50:15        NaN        0.0        NaN\n",
       "1     2024-06-07 00:50:30        NaN        0.0        NaN\n",
       "2     2024-06-07 00:50:45        NaN        0.0        NaN\n",
       "3     2024-06-07 00:51:00        NaN        0.0        NaN\n",
       "4     2024-06-07 00:51:15        NaN        0.0        NaN\n",
       "...                   ...        ...        ...        ...\n",
       "78208 2024-06-25 23:52:00        NaN        NaN        0.0\n",
       "78209 2024-06-25 23:52:15        NaN        NaN        0.0\n",
       "78210 2024-06-25 23:52:30        NaN        NaN        0.0\n",
       "78211 2024-06-25 23:52:45        NaN        NaN        0.0\n",
       "78212 2024-06-25 23:53:00        NaN        NaN        0.0\n",
       "\n",
       "[78212 rows x 4 columns]"
      ]
     },
     "execution_count": 13,
     "metadata": {},
     "output_type": "execute_result"
    }
   ],
   "source": [
    "data"
   ]
  },
  {
   "cell_type": "code",
   "execution_count": 14,
   "id": "ab5c16e0",
   "metadata": {},
   "outputs": [],
   "source": [
    "data.to_csv('inverters_07.06.2024-25.06.2024.csv',index=False)"
   ]
  },
  {
   "cell_type": "code",
   "execution_count": 15,
   "id": "6502c111",
   "metadata": {},
   "outputs": [
    {
     "data": {
      "text/plain": [
       "inverter3\n",
       "0.0       12749\n",
       "314.0        70\n",
       "312.0        68\n",
       "319.0        63\n",
       "334.0        62\n",
       "          ...  \n",
       "7062.0        1\n",
       "3521.0        1\n",
       "3564.0        1\n",
       "3979.0        1\n",
       "1.0           1\n",
       "Name: count, Length: 7080, dtype: int64"
      ]
     },
     "execution_count": 15,
     "metadata": {},
     "output_type": "execute_result"
    }
   ],
   "source": [
    "data['inverter3'].value_counts()"
   ]
  },
  {
   "cell_type": "code",
   "execution_count": null,
   "id": "0ef6b68c",
   "metadata": {},
   "outputs": [],
   "source": []
  }
 ],
 "metadata": {
  "kernelspec": {
   "display_name": "Python 3 (ipykernel)",
   "language": "python",
   "name": "python3"
  },
  "language_info": {
   "codemirror_mode": {
    "name": "ipython",
    "version": 3
   },
   "file_extension": ".py",
   "mimetype": "text/x-python",
   "name": "python",
   "nbconvert_exporter": "python",
   "pygments_lexer": "ipython3",
   "version": "3.11.5"
  }
 },
 "nbformat": 4,
 "nbformat_minor": 5
}
